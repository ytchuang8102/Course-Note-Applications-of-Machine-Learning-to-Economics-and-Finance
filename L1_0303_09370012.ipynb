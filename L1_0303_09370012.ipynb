{
 "metadata": {
  "language_info": {
   "codemirror_mode": {
    "name": "ipython",
    "version": 3
   },
   "file_extension": ".py",
   "mimetype": "text/x-python",
   "name": "python",
   "nbconvert_exporter": "python",
   "pygments_lexer": "ipython3",
   "version": "3.8.2-final"
  },
  "orig_nbformat": 2,
  "kernelspec": {
   "name": "python3",
   "display_name": "Python 3.8.2 64-bit",
   "metadata": {
    "interpreter": {
     "hash": "5edc29c2ed010d6458d71a83433b383a96a8cbd3efe8531bc90c4b8a5b8bcec9"
    }
   }
  }
 },
 "nbformat": 4,
 "nbformat_minor": 2,
 "cells": [
  {
   "source": [
    "# 上課筆記\n",
    "\n",
    "＊資料處理步驟\n",
    "\n",
    "＊機器學習方法\n",
    "1.監督式\n",
    "2.非監督式\n",
    "3.Reinforcement\n",
    "\n",
    "＊必備套件\n",
    "- Numpy\n",
    "- Pandas\n",
    "- Matplotlib\n",
    "- Seaborn\n",
    "- SciKit-Learn\n",
    "\n",
    "＊程式語言\n",
    "\n",
    "- 編譯: 是將某一由電腦語言所撰寫的程式，經過編譯器，將整支程式轉換成機器語言，如果編譯的過程沒有錯誤，這支機器語言的程式就可以隨時執行。\n",
    "\n",
    "- 直譯: 這種電腦語言所寫的程式在執行時，經過直譯器 (interpreter) 的轉換，每執行一行就將一行轉換機器語言，一行一行經過直譯→執行→直譯→執行這樣的順序，反複執行到程式的最後一行。\n",
    "\n",
    "＊物件的資料型態\n",
    "- 數(numeric):int/float/Booleans\n",
    "- 字串 (string):str\n",
    "- Sequences 序列\n",
    "  * list 串列:內容可以變更(mutable)有序物件(ordered collection)<br/>\n",
    "  可運用[ ]來創建\n",
    "  * tuple 元組:原生資料結構通常是元祖　<br/>\n",
    "  內容不可變更（immutable) <br/>\n",
    "  運用( )來創建\n",
    "- Sets 集合:無序且元素唯一\n",
    "- Dictionaries(Dict) 字典　<br/>\n",
    "  key-value pairs 鍵值對, 以冒號來分隔鍵與值 <br/>\n",
    "  運用｛'key1':'value1','key2':'value2'｝來建構"
   ],
   "cell_type": "markdown",
   "metadata": {}
  },
  {
   "cell_type": "code",
   "execution_count": 1,
   "metadata": {},
   "outputs": [
    {
     "output_type": "execute_result",
     "data": {
      "text/plain": [
       "'/Users/chuangyating/Documents/109-2_course/ML/week1'"
      ]
     },
     "metadata": {},
     "execution_count": 1
    }
   ],
   "source": [
    "#path\n",
    "\n",
    "import os\n",
    "os.getcwd()"
   ]
  },
  {
   "cell_type": "code",
   "execution_count": 37,
   "metadata": {},
   "outputs": [
    {
     "output_type": "stream",
     "name": "stdout",
     "text": [
      "Hello World\n"
     ]
    }
   ],
   "source": [
    "st = \"Hello World\"\n",
    "print(st)"
   ]
  },
  {
   "cell_type": "code",
   "execution_count": 39,
   "metadata": {},
   "outputs": [
    {
     "output_type": "execute_result",
     "data": {
      "text/plain": [
       "'HELLO WORLD'"
      ]
     },
     "metadata": {},
     "execution_count": 39
    }
   ],
   "source": [
    "st.upper()"
   ]
  },
  {
   "cell_type": "code",
   "execution_count": 40,
   "metadata": {},
   "outputs": [
    {
     "output_type": "execute_result",
     "data": {
      "text/plain": [
       "['Hello', 'World']"
      ]
     },
     "metadata": {},
     "execution_count": 40
    }
   ],
   "source": [
    "st.split()"
   ]
  },
  {
   "cell_type": "code",
   "execution_count": null,
   "metadata": {},
   "outputs": [],
   "source": []
  },
  {
   "source": [
    "# HW"
   ],
   "cell_type": "markdown",
   "metadata": {}
  },
  {
   "cell_type": "code",
   "execution_count": 32,
   "metadata": {},
   "outputs": [
    {
     "output_type": "execute_result",
     "data": {
      "text/plain": [
       "['a', 'b', 'c', 'd']"
      ]
     },
     "metadata": {},
     "execution_count": 32
    }
   ],
   "source": [
    "list_1=['a', 'b', 'c', 'd']\n",
    "list_1"
   ]
  },
  {
   "cell_type": "code",
   "execution_count": 33,
   "metadata": {},
   "outputs": [
    {
     "output_type": "execute_result",
     "data": {
      "text/plain": [
       "['a',\n",
       " 'b',\n",
       " 'c',\n",
       " 'd',\n",
       " 'a',\n",
       " 'b',\n",
       " 'c',\n",
       " 'd',\n",
       " 'a',\n",
       " 'b',\n",
       " 'c',\n",
       " 'd',\n",
       " 'a',\n",
       " 'b',\n",
       " 'c',\n",
       " 'd',\n",
       " 'a',\n",
       " 'b',\n",
       " 'c',\n",
       " 'd']"
      ]
     },
     "metadata": {},
     "execution_count": 33
    }
   ],
   "source": [
    "list_1* 5"
   ]
  },
  {
   "cell_type": "code",
   "execution_count": 34,
   "metadata": {},
   "outputs": [
    {
     "output_type": "stream",
     "name": "stdout",
     "text": [
      "['d', 'c', 'b', 'a']\n"
     ]
    }
   ],
   "source": [
    "list_1.reverse()\n",
    "print(list_1)"
   ]
  },
  {
   "cell_type": "code",
   "execution_count": 35,
   "metadata": {},
   "outputs": [
    {
     "output_type": "stream",
     "name": "stdout",
     "text": [
      "['d', 'b', 'a']\n"
     ]
    }
   ],
   "source": [
    "list_1.remove('c')\n",
    "print(list_1)"
   ]
  },
  {
   "cell_type": "code",
   "execution_count": 36,
   "metadata": {},
   "outputs": [
    {
     "output_type": "stream",
     "name": "stdout",
     "text": [
      "['d', 'f', 'b', 'a']\n"
     ]
    }
   ],
   "source": [
    "list_1.insert(1,'f')\n",
    "print(list_1)"
   ]
  },
  {
   "cell_type": "code",
   "execution_count": null,
   "metadata": {},
   "outputs": [],
   "source": [
    "#心得\n",
    "print('老師講解仔細，很適合初學者')"
   ]
  }
 ]
}