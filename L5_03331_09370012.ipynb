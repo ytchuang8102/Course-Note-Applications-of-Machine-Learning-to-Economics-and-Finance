{
 "cells": [
  {
   "cell_type": "markdown",
   "metadata": {
    "colab_type": "text",
    "id": "CSm7jz28OiE6"
   },
   "source": [
    "## Data Input and Output\n",
    "讀檔時要注意檔案路徑, 一般狀況下電腦顯示路徑都是`C:\\data\\example`, 但是`\\`在python中代表Escape Character(逸出字元或逃脫字元), 所以並非是我們認知的`\\`, 為了避免逸出字元(Escape Character)作用, 檔案路近中`\\`時要寫做`\\\\`或`/`"
   ]
  },
  {
   "cell_type": "markdown",
   "metadata": {
    "colab_type": "text",
    "id": "B4r5baVtOiE6"
   },
   "source": [
    "### CSV\n"
   ]
  },
  {
   "cell_type": "code",
   "execution_count": 4,
   "metadata": {
    "colab": {},
    "colab_type": "code",
    "id": "JdQrdCnyOiE3"
   },
   "outputs": [],
   "source": [
    "import numpy as np\n",
    "import pandas as pd"
   ]
  },
  {
   "cell_type": "code",
   "execution_count": null,
   "metadata": {
    "colab": {},
    "colab_type": "code",
    "id": "PJhOLAihOiE6",
    "outputId": "34d671e9-f1a4-497c-b857-fda3f8ca8ac6"
   },
   "outputs": [],
   "source": [
    "# input\n",
    "df = pd.read_csv('data\\\\example')\n",
    "# output\n",
    "df.to_csv('data\\\\example',index=False)"
   ]
  },
  {
   "cell_type": "markdown",
   "metadata": {
    "colab_type": "text",
    "id": "bKHNpXuoOiE_"
   },
   "source": [
    "### Excel"
   ]
  },
  {
   "cell_type": "code",
   "execution_count": null,
   "metadata": {
    "colab": {},
    "colab_type": "code",
    "id": "5D8qBnEEOiFA",
    "outputId": "61d4add0-210c-4787-bc20-0bde44fabfc8"
   },
   "outputs": [],
   "source": [
    "# input\n",
    "pd.read_excel('data\\\\Excel_Sample.xlsx',sheet_name='Sheet1')"
   ]
  },
  {
   "cell_type": "code",
   "execution_count": null,
   "metadata": {
    "colab": {},
    "colab_type": "code",
    "id": "iERDcB_IOiFC"
   },
   "outputs": [],
   "source": [
    "# output\n",
    "df.to_excel('data\\\\Excel_Sample.xlsx',sheet_name='Sheet1')"
   ]
  },
  {
   "cell_type": "markdown",
   "metadata": {
    "colab_type": "text",
    "id": "cl6yAv3kOiFK"
   },
   "source": [
    "### Merge"
   ]
  },
  {
   "cell_type": "code",
   "execution_count": 5,
   "metadata": {
    "colab": {},
    "colab_type": "code",
    "id": "6oxqWnIxOiFK",
    "outputId": "e2232647-e0f7-41fc-eaf9-63c725892e24"
   },
   "outputs": [
    {
     "output_type": "execute_result",
     "data": {
      "text/plain": [
       "  key   A   B\n",
       "0  K0  A0  B0\n",
       "1  K1  A1  B1\n",
       "2  K2  A2  B2\n",
       "3  K3  A3  B3"
      ],
      "text/html": "<div>\n<style scoped>\n    .dataframe tbody tr th:only-of-type {\n        vertical-align: middle;\n    }\n\n    .dataframe tbody tr th {\n        vertical-align: top;\n    }\n\n    .dataframe thead th {\n        text-align: right;\n    }\n</style>\n<table border=\"1\" class=\"dataframe\">\n  <thead>\n    <tr style=\"text-align: right;\">\n      <th></th>\n      <th>key</th>\n      <th>A</th>\n      <th>B</th>\n    </tr>\n  </thead>\n  <tbody>\n    <tr>\n      <th>0</th>\n      <td>K0</td>\n      <td>A0</td>\n      <td>B0</td>\n    </tr>\n    <tr>\n      <th>1</th>\n      <td>K1</td>\n      <td>A1</td>\n      <td>B1</td>\n    </tr>\n    <tr>\n      <th>2</th>\n      <td>K2</td>\n      <td>A2</td>\n      <td>B2</td>\n    </tr>\n    <tr>\n      <th>3</th>\n      <td>K3</td>\n      <td>A3</td>\n      <td>B3</td>\n    </tr>\n  </tbody>\n</table>\n</div>"
     },
     "metadata": {},
     "execution_count": 5
    }
   ],
   "source": [
    "left = pd.DataFrame({'key': ['K0', 'K1', 'K2', 'K3'],\n",
    "                     'A': ['A0', 'A1', 'A2', 'A3'],\n",
    "                     'B': ['B0', 'B1', 'B2', 'B3']})\n",
    "left"
   ]
  },
  {
   "cell_type": "code",
   "execution_count": 6,
   "metadata": {
    "colab": {},
    "colab_type": "code",
    "id": "hUk6FAIGOiFM",
    "outputId": "1a3218b4-73c3-4141-acda-b22e455f3f71"
   },
   "outputs": [
    {
     "output_type": "execute_result",
     "data": {
      "text/plain": [
       "  key   C   D\n",
       "0  K0  C0  D0\n",
       "1  K1  C1  D1\n",
       "2  K2  C2  D2\n",
       "3  K3  C3  D3"
      ],
      "text/html": "<div>\n<style scoped>\n    .dataframe tbody tr th:only-of-type {\n        vertical-align: middle;\n    }\n\n    .dataframe tbody tr th {\n        vertical-align: top;\n    }\n\n    .dataframe thead th {\n        text-align: right;\n    }\n</style>\n<table border=\"1\" class=\"dataframe\">\n  <thead>\n    <tr style=\"text-align: right;\">\n      <th></th>\n      <th>key</th>\n      <th>C</th>\n      <th>D</th>\n    </tr>\n  </thead>\n  <tbody>\n    <tr>\n      <th>0</th>\n      <td>K0</td>\n      <td>C0</td>\n      <td>D0</td>\n    </tr>\n    <tr>\n      <th>1</th>\n      <td>K1</td>\n      <td>C1</td>\n      <td>D1</td>\n    </tr>\n    <tr>\n      <th>2</th>\n      <td>K2</td>\n      <td>C2</td>\n      <td>D2</td>\n    </tr>\n    <tr>\n      <th>3</th>\n      <td>K3</td>\n      <td>C3</td>\n      <td>D3</td>\n    </tr>\n  </tbody>\n</table>\n</div>"
     },
     "metadata": {},
     "execution_count": 6
    }
   ],
   "source": [
    "right = pd.DataFrame({'key': ['K0', 'K1', 'K2', 'K3'],\n",
    "                      'C': ['C0', 'C1', 'C2', 'C3'],\n",
    "                      'D': ['D0', 'D1', 'D2', 'D3']})  \n",
    "right"
   ]
  },
  {
   "cell_type": "code",
   "execution_count": 7,
   "metadata": {
    "colab": {},
    "colab_type": "code",
    "id": "plGVIqF2OiFP",
    "outputId": "2478c16d-379c-45ed-f070-1c2057fee4c2"
   },
   "outputs": [
    {
     "output_type": "execute_result",
     "data": {
      "text/plain": [
       "  key   A   B   C   D\n",
       "0  K0  A0  B0  C0  D0\n",
       "1  K1  A1  B1  C1  D1\n",
       "2  K2  A2  B2  C2  D2\n",
       "3  K3  A3  B3  C3  D3"
      ],
      "text/html": "<div>\n<style scoped>\n    .dataframe tbody tr th:only-of-type {\n        vertical-align: middle;\n    }\n\n    .dataframe tbody tr th {\n        vertical-align: top;\n    }\n\n    .dataframe thead th {\n        text-align: right;\n    }\n</style>\n<table border=\"1\" class=\"dataframe\">\n  <thead>\n    <tr style=\"text-align: right;\">\n      <th></th>\n      <th>key</th>\n      <th>A</th>\n      <th>B</th>\n      <th>C</th>\n      <th>D</th>\n    </tr>\n  </thead>\n  <tbody>\n    <tr>\n      <th>0</th>\n      <td>K0</td>\n      <td>A0</td>\n      <td>B0</td>\n      <td>C0</td>\n      <td>D0</td>\n    </tr>\n    <tr>\n      <th>1</th>\n      <td>K1</td>\n      <td>A1</td>\n      <td>B1</td>\n      <td>C1</td>\n      <td>D1</td>\n    </tr>\n    <tr>\n      <th>2</th>\n      <td>K2</td>\n      <td>A2</td>\n      <td>B2</td>\n      <td>C2</td>\n      <td>D2</td>\n    </tr>\n    <tr>\n      <th>3</th>\n      <td>K3</td>\n      <td>A3</td>\n      <td>B3</td>\n      <td>C3</td>\n      <td>D3</td>\n    </tr>\n  </tbody>\n</table>\n</div>"
     },
     "metadata": {},
     "execution_count": 7
    }
   ],
   "source": [
    "# 合併left, right, 方式為inner, 以'key'判斷\n",
    "pd.merge(left,right,how='inner',on='key')"
   ]
  },
  {
   "cell_type": "markdown",
   "metadata": {
    "colab_type": "text",
    "id": "6QpkmYwyOiFX"
   },
   "source": [
    "### Join"
   ]
  },
  {
   "cell_type": "code",
   "execution_count": 8,
   "metadata": {
    "colab": {},
    "colab_type": "code",
    "id": "2ntboVW2OiFX",
    "outputId": "a9e9ee7d-65c6-4e73-cb47-4a3219eb8fef"
   },
   "outputs": [
    {
     "output_type": "execute_result",
     "data": {
      "text/plain": [
       "     A   B\n",
       "K0  A0  B0\n",
       "K1  A1  B1\n",
       "K2  A2  B2"
      ],
      "text/html": "<div>\n<style scoped>\n    .dataframe tbody tr th:only-of-type {\n        vertical-align: middle;\n    }\n\n    .dataframe tbody tr th {\n        vertical-align: top;\n    }\n\n    .dataframe thead th {\n        text-align: right;\n    }\n</style>\n<table border=\"1\" class=\"dataframe\">\n  <thead>\n    <tr style=\"text-align: right;\">\n      <th></th>\n      <th>A</th>\n      <th>B</th>\n    </tr>\n  </thead>\n  <tbody>\n    <tr>\n      <th>K0</th>\n      <td>A0</td>\n      <td>B0</td>\n    </tr>\n    <tr>\n      <th>K1</th>\n      <td>A1</td>\n      <td>B1</td>\n    </tr>\n    <tr>\n      <th>K2</th>\n      <td>A2</td>\n      <td>B2</td>\n    </tr>\n  </tbody>\n</table>\n</div>"
     },
     "metadata": {},
     "execution_count": 8
    }
   ],
   "source": [
    "left = pd.DataFrame({'A': ['A0', 'A1', 'A2'],\n",
    "                     'B': ['B0', 'B1', 'B2']},\n",
    "                     index=['K0', 'K1', 'K2']) \n",
    "left"
   ]
  },
  {
   "cell_type": "code",
   "execution_count": 9,
   "metadata": {
    "colab": {},
    "colab_type": "code",
    "id": "LMzhFmYTOiFZ",
    "outputId": "43725041-7fc6-4230-bc5a-b9e4040d25bd"
   },
   "outputs": [
    {
     "output_type": "execute_result",
     "data": {
      "text/plain": [
       "     C   D\n",
       "K0  C0  D0\n",
       "K2  C2  D2\n",
       "K3  C3  D3"
      ],
      "text/html": "<div>\n<style scoped>\n    .dataframe tbody tr th:only-of-type {\n        vertical-align: middle;\n    }\n\n    .dataframe tbody tr th {\n        vertical-align: top;\n    }\n\n    .dataframe thead th {\n        text-align: right;\n    }\n</style>\n<table border=\"1\" class=\"dataframe\">\n  <thead>\n    <tr style=\"text-align: right;\">\n      <th></th>\n      <th>C</th>\n      <th>D</th>\n    </tr>\n  </thead>\n  <tbody>\n    <tr>\n      <th>K0</th>\n      <td>C0</td>\n      <td>D0</td>\n    </tr>\n    <tr>\n      <th>K2</th>\n      <td>C2</td>\n      <td>D2</td>\n    </tr>\n    <tr>\n      <th>K3</th>\n      <td>C3</td>\n      <td>D3</td>\n    </tr>\n  </tbody>\n</table>\n</div>"
     },
     "metadata": {},
     "execution_count": 9
    }
   ],
   "source": [
    "right = pd.DataFrame({'C': ['C0', 'C2', 'C3'],\n",
    "                      'D': ['D0', 'D2', 'D3']},\n",
    "                      index=['K0', 'K2', 'K3'])\n",
    "right"
   ]
  },
  {
   "cell_type": "code",
   "execution_count": 10,
   "metadata": {
    "colab": {},
    "colab_type": "code",
    "id": "sbMHPdd4OiFb",
    "outputId": "9bdd86c8-923b-4571-e414-e0cfd5e95405"
   },
   "outputs": [
    {
     "output_type": "execute_result",
     "data": {
      "text/plain": [
       "     A   B    C    D\n",
       "K0  A0  B0   C0   D0\n",
       "K1  A1  B1  NaN  NaN\n",
       "K2  A2  B2   C2   D2"
      ],
      "text/html": "<div>\n<style scoped>\n    .dataframe tbody tr th:only-of-type {\n        vertical-align: middle;\n    }\n\n    .dataframe tbody tr th {\n        vertical-align: top;\n    }\n\n    .dataframe thead th {\n        text-align: right;\n    }\n</style>\n<table border=\"1\" class=\"dataframe\">\n  <thead>\n    <tr style=\"text-align: right;\">\n      <th></th>\n      <th>A</th>\n      <th>B</th>\n      <th>C</th>\n      <th>D</th>\n    </tr>\n  </thead>\n  <tbody>\n    <tr>\n      <th>K0</th>\n      <td>A0</td>\n      <td>B0</td>\n      <td>C0</td>\n      <td>D0</td>\n    </tr>\n    <tr>\n      <th>K1</th>\n      <td>A1</td>\n      <td>B1</td>\n      <td>NaN</td>\n      <td>NaN</td>\n    </tr>\n    <tr>\n      <th>K2</th>\n      <td>A2</td>\n      <td>B2</td>\n      <td>C2</td>\n      <td>D2</td>\n    </tr>\n  </tbody>\n</table>\n</div>"
     },
     "metadata": {},
     "execution_count": 10
    }
   ],
   "source": [
    "#index重複\n",
    "left.join(right)"
   ]
  },
  {
   "cell_type": "code",
   "execution_count": 11,
   "metadata": {
    "colab": {},
    "colab_type": "code",
    "id": "xkpgLRSoOiFd",
    "outputId": "6593207f-4632-465d-e00c-a0aebbea8e2a"
   },
   "outputs": [
    {
     "output_type": "execute_result",
     "data": {
      "text/plain": [
       "      A    B    C    D\n",
       "K0   A0   B0   C0   D0\n",
       "K1   A1   B1  NaN  NaN\n",
       "K2   A2   B2   C2   D2\n",
       "K3  NaN  NaN   C3   D3"
      ],
      "text/html": "<div>\n<style scoped>\n    .dataframe tbody tr th:only-of-type {\n        vertical-align: middle;\n    }\n\n    .dataframe tbody tr th {\n        vertical-align: top;\n    }\n\n    .dataframe thead th {\n        text-align: right;\n    }\n</style>\n<table border=\"1\" class=\"dataframe\">\n  <thead>\n    <tr style=\"text-align: right;\">\n      <th></th>\n      <th>A</th>\n      <th>B</th>\n      <th>C</th>\n      <th>D</th>\n    </tr>\n  </thead>\n  <tbody>\n    <tr>\n      <th>K0</th>\n      <td>A0</td>\n      <td>B0</td>\n      <td>C0</td>\n      <td>D0</td>\n    </tr>\n    <tr>\n      <th>K1</th>\n      <td>A1</td>\n      <td>B1</td>\n      <td>NaN</td>\n      <td>NaN</td>\n    </tr>\n    <tr>\n      <th>K2</th>\n      <td>A2</td>\n      <td>B2</td>\n      <td>C2</td>\n      <td>D2</td>\n    </tr>\n    <tr>\n      <th>K3</th>\n      <td>NaN</td>\n      <td>NaN</td>\n      <td>C3</td>\n      <td>D3</td>\n    </tr>\n  </tbody>\n</table>\n</div>"
     },
     "metadata": {},
     "execution_count": 11
    }
   ],
   "source": [
    "#每個index都列出\n",
    "left.join(right, how='outer')"
   ]
  },
  {
   "cell_type": "markdown",
   "metadata": {
    "colab_type": "text",
    "id": "j515eh9BOiFf"
   },
   "source": [
    "### Concatenate"
   ]
  },
  {
   "cell_type": "code",
   "execution_count": 12,
   "metadata": {
    "colab": {},
    "colab_type": "code",
    "id": "G12lb-gvOiFg",
    "outputId": "07958d92-f02e-45e8-b769-0116d8706319"
   },
   "outputs": [
    {
     "output_type": "execute_result",
     "data": {
      "text/plain": [
       "    A   B   C   D\n",
       "0  A0  B0  C0  D0\n",
       "1  A1  B1  C1  D1\n",
       "2  A2  B2  C2  D2\n",
       "3  A3  B3  C3  D3"
      ],
      "text/html": "<div>\n<style scoped>\n    .dataframe tbody tr th:only-of-type {\n        vertical-align: middle;\n    }\n\n    .dataframe tbody tr th {\n        vertical-align: top;\n    }\n\n    .dataframe thead th {\n        text-align: right;\n    }\n</style>\n<table border=\"1\" class=\"dataframe\">\n  <thead>\n    <tr style=\"text-align: right;\">\n      <th></th>\n      <th>A</th>\n      <th>B</th>\n      <th>C</th>\n      <th>D</th>\n    </tr>\n  </thead>\n  <tbody>\n    <tr>\n      <th>0</th>\n      <td>A0</td>\n      <td>B0</td>\n      <td>C0</td>\n      <td>D0</td>\n    </tr>\n    <tr>\n      <th>1</th>\n      <td>A1</td>\n      <td>B1</td>\n      <td>C1</td>\n      <td>D1</td>\n    </tr>\n    <tr>\n      <th>2</th>\n      <td>A2</td>\n      <td>B2</td>\n      <td>C2</td>\n      <td>D2</td>\n    </tr>\n    <tr>\n      <th>3</th>\n      <td>A3</td>\n      <td>B3</td>\n      <td>C3</td>\n      <td>D3</td>\n    </tr>\n  </tbody>\n</table>\n</div>"
     },
     "metadata": {},
     "execution_count": 12
    }
   ],
   "source": [
    "df1 = pd.DataFrame({'A': ['A0', 'A1', 'A2', 'A3'],\n",
    "                    'B': ['B0', 'B1', 'B2', 'B3'],\n",
    "                    'C': ['C0', 'C1', 'C2', 'C3'],\n",
    "                    'D': ['D0', 'D1', 'D2', 'D3']},\n",
    "                    index=[0, 1, 2, 3])\n",
    "df1"
   ]
  },
  {
   "cell_type": "code",
   "execution_count": 13,
   "metadata": {
    "colab": {},
    "colab_type": "code",
    "id": "olNF_qe-OiFh",
    "outputId": "2f63572c-7d12-4582-c0a3-6453a77751dc"
   },
   "outputs": [
    {
     "output_type": "execute_result",
     "data": {
      "text/plain": [
       "    A   B   C   D\n",
       "4  A4  B4  C4  D4\n",
       "5  A5  B5  C5  D5\n",
       "6  A6  B6  C6  D6\n",
       "7  A7  B7  C7  D7"
      ],
      "text/html": "<div>\n<style scoped>\n    .dataframe tbody tr th:only-of-type {\n        vertical-align: middle;\n    }\n\n    .dataframe tbody tr th {\n        vertical-align: top;\n    }\n\n    .dataframe thead th {\n        text-align: right;\n    }\n</style>\n<table border=\"1\" class=\"dataframe\">\n  <thead>\n    <tr style=\"text-align: right;\">\n      <th></th>\n      <th>A</th>\n      <th>B</th>\n      <th>C</th>\n      <th>D</th>\n    </tr>\n  </thead>\n  <tbody>\n    <tr>\n      <th>4</th>\n      <td>A4</td>\n      <td>B4</td>\n      <td>C4</td>\n      <td>D4</td>\n    </tr>\n    <tr>\n      <th>5</th>\n      <td>A5</td>\n      <td>B5</td>\n      <td>C5</td>\n      <td>D5</td>\n    </tr>\n    <tr>\n      <th>6</th>\n      <td>A6</td>\n      <td>B6</td>\n      <td>C6</td>\n      <td>D6</td>\n    </tr>\n    <tr>\n      <th>7</th>\n      <td>A7</td>\n      <td>B7</td>\n      <td>C7</td>\n      <td>D7</td>\n    </tr>\n  </tbody>\n</table>\n</div>"
     },
     "metadata": {},
     "execution_count": 13
    }
   ],
   "source": [
    "df2 = pd.DataFrame({'A': ['A4', 'A5', 'A6', 'A7'],\n",
    "                    'B': ['B4', 'B5', 'B6', 'B7'],\n",
    "                    'C': ['C4', 'C5', 'C6', 'C7'],\n",
    "                    'D': ['D4', 'D5', 'D6', 'D7']},\n",
    "                    index=[4, 5, 6, 7]) \n",
    "df2"
   ]
  },
  {
   "cell_type": "code",
   "execution_count": 14,
   "metadata": {
    "colab": {},
    "colab_type": "code",
    "id": "H475XziAOiFj",
    "outputId": "abcbc85a-b7cc-44ae-daf6-e4ccd7874a73"
   },
   "outputs": [
    {
     "output_type": "execute_result",
     "data": {
      "text/plain": [
       "      A    B    C    D\n",
       "8    A8   B8   C8   D8\n",
       "9    A9   B9   C9   D9\n",
       "10  A10  B10  C10  D10\n",
       "11  A11  B11  C11  D11"
      ],
      "text/html": "<div>\n<style scoped>\n    .dataframe tbody tr th:only-of-type {\n        vertical-align: middle;\n    }\n\n    .dataframe tbody tr th {\n        vertical-align: top;\n    }\n\n    .dataframe thead th {\n        text-align: right;\n    }\n</style>\n<table border=\"1\" class=\"dataframe\">\n  <thead>\n    <tr style=\"text-align: right;\">\n      <th></th>\n      <th>A</th>\n      <th>B</th>\n      <th>C</th>\n      <th>D</th>\n    </tr>\n  </thead>\n  <tbody>\n    <tr>\n      <th>8</th>\n      <td>A8</td>\n      <td>B8</td>\n      <td>C8</td>\n      <td>D8</td>\n    </tr>\n    <tr>\n      <th>9</th>\n      <td>A9</td>\n      <td>B9</td>\n      <td>C9</td>\n      <td>D9</td>\n    </tr>\n    <tr>\n      <th>10</th>\n      <td>A10</td>\n      <td>B10</td>\n      <td>C10</td>\n      <td>D10</td>\n    </tr>\n    <tr>\n      <th>11</th>\n      <td>A11</td>\n      <td>B11</td>\n      <td>C11</td>\n      <td>D11</td>\n    </tr>\n  </tbody>\n</table>\n</div>"
     },
     "metadata": {},
     "execution_count": 14
    }
   ],
   "source": [
    "df3 = pd.DataFrame({'A': ['A8', 'A9', 'A10', 'A11'],\n",
    "                    'B': ['B8', 'B9', 'B10', 'B11'],\n",
    "                    'C': ['C8', 'C9', 'C10', 'C11'],\n",
    "                    'D': ['D8', 'D9', 'D10', 'D11']},\n",
    "                    index=[8, 9, 10, 11])\n",
    "df3"
   ]
  },
  {
   "cell_type": "code",
   "execution_count": 15,
   "metadata": {
    "colab": {},
    "colab_type": "code",
    "id": "JB36LQndOiFk",
    "outputId": "6517f5c3-8f2e-48f5-dce9-2a185f49a344"
   },
   "outputs": [
    {
     "output_type": "execute_result",
     "data": {
      "text/plain": [
       "      A    B    C    D\n",
       "0    A0   B0   C0   D0\n",
       "1    A1   B1   C1   D1\n",
       "2    A2   B2   C2   D2\n",
       "3    A3   B3   C3   D3\n",
       "4    A4   B4   C4   D4\n",
       "5    A5   B5   C5   D5\n",
       "6    A6   B6   C6   D6\n",
       "7    A7   B7   C7   D7\n",
       "8    A8   B8   C8   D8\n",
       "9    A9   B9   C9   D9\n",
       "10  A10  B10  C10  D10\n",
       "11  A11  B11  C11  D11"
      ],
      "text/html": "<div>\n<style scoped>\n    .dataframe tbody tr th:only-of-type {\n        vertical-align: middle;\n    }\n\n    .dataframe tbody tr th {\n        vertical-align: top;\n    }\n\n    .dataframe thead th {\n        text-align: right;\n    }\n</style>\n<table border=\"1\" class=\"dataframe\">\n  <thead>\n    <tr style=\"text-align: right;\">\n      <th></th>\n      <th>A</th>\n      <th>B</th>\n      <th>C</th>\n      <th>D</th>\n    </tr>\n  </thead>\n  <tbody>\n    <tr>\n      <th>0</th>\n      <td>A0</td>\n      <td>B0</td>\n      <td>C0</td>\n      <td>D0</td>\n    </tr>\n    <tr>\n      <th>1</th>\n      <td>A1</td>\n      <td>B1</td>\n      <td>C1</td>\n      <td>D1</td>\n    </tr>\n    <tr>\n      <th>2</th>\n      <td>A2</td>\n      <td>B2</td>\n      <td>C2</td>\n      <td>D2</td>\n    </tr>\n    <tr>\n      <th>3</th>\n      <td>A3</td>\n      <td>B3</td>\n      <td>C3</td>\n      <td>D3</td>\n    </tr>\n    <tr>\n      <th>4</th>\n      <td>A4</td>\n      <td>B4</td>\n      <td>C4</td>\n      <td>D4</td>\n    </tr>\n    <tr>\n      <th>5</th>\n      <td>A5</td>\n      <td>B5</td>\n      <td>C5</td>\n      <td>D5</td>\n    </tr>\n    <tr>\n      <th>6</th>\n      <td>A6</td>\n      <td>B6</td>\n      <td>C6</td>\n      <td>D6</td>\n    </tr>\n    <tr>\n      <th>7</th>\n      <td>A7</td>\n      <td>B7</td>\n      <td>C7</td>\n      <td>D7</td>\n    </tr>\n    <tr>\n      <th>8</th>\n      <td>A8</td>\n      <td>B8</td>\n      <td>C8</td>\n      <td>D8</td>\n    </tr>\n    <tr>\n      <th>9</th>\n      <td>A9</td>\n      <td>B9</td>\n      <td>C9</td>\n      <td>D9</td>\n    </tr>\n    <tr>\n      <th>10</th>\n      <td>A10</td>\n      <td>B10</td>\n      <td>C10</td>\n      <td>D10</td>\n    </tr>\n    <tr>\n      <th>11</th>\n      <td>A11</td>\n      <td>B11</td>\n      <td>C11</td>\n      <td>D11</td>\n    </tr>\n  </tbody>\n</table>\n</div>"
     },
     "metadata": {},
     "execution_count": 15
    }
   ],
   "source": [
    "#左右並\n",
    "左右病pd.concat([df1,df2,df3])"
   ]
  },
  {
   "cell_type": "code",
   "execution_count": 16,
   "metadata": {
    "colab": {},
    "colab_type": "code",
    "id": "Sz6HJcf3OiFm",
    "outputId": "2053aaee-3559-484d-b5bf-afb9499b5fe4"
   },
   "outputs": [
    {
     "output_type": "execute_result",
     "data": {
      "text/plain": [
       "      A    B    C    D    A    B    C    D    A    B    C    D\n",
       "0    A0   B0   C0   D0  NaN  NaN  NaN  NaN  NaN  NaN  NaN  NaN\n",
       "1    A1   B1   C1   D1  NaN  NaN  NaN  NaN  NaN  NaN  NaN  NaN\n",
       "2    A2   B2   C2   D2  NaN  NaN  NaN  NaN  NaN  NaN  NaN  NaN\n",
       "3    A3   B3   C3   D3  NaN  NaN  NaN  NaN  NaN  NaN  NaN  NaN\n",
       "4   NaN  NaN  NaN  NaN   A4   B4   C4   D4  NaN  NaN  NaN  NaN\n",
       "5   NaN  NaN  NaN  NaN   A5   B5   C5   D5  NaN  NaN  NaN  NaN\n",
       "6   NaN  NaN  NaN  NaN   A6   B6   C6   D6  NaN  NaN  NaN  NaN\n",
       "7   NaN  NaN  NaN  NaN   A7   B7   C7   D7  NaN  NaN  NaN  NaN\n",
       "8   NaN  NaN  NaN  NaN  NaN  NaN  NaN  NaN   A8   B8   C8   D8\n",
       "9   NaN  NaN  NaN  NaN  NaN  NaN  NaN  NaN   A9   B9   C9   D9\n",
       "10  NaN  NaN  NaN  NaN  NaN  NaN  NaN  NaN  A10  B10  C10  D10\n",
       "11  NaN  NaN  NaN  NaN  NaN  NaN  NaN  NaN  A11  B11  C11  D11"
      ],
      "text/html": "<div>\n<style scoped>\n    .dataframe tbody tr th:only-of-type {\n        vertical-align: middle;\n    }\n\n    .dataframe tbody tr th {\n        vertical-align: top;\n    }\n\n    .dataframe thead th {\n        text-align: right;\n    }\n</style>\n<table border=\"1\" class=\"dataframe\">\n  <thead>\n    <tr style=\"text-align: right;\">\n      <th></th>\n      <th>A</th>\n      <th>B</th>\n      <th>C</th>\n      <th>D</th>\n      <th>A</th>\n      <th>B</th>\n      <th>C</th>\n      <th>D</th>\n      <th>A</th>\n      <th>B</th>\n      <th>C</th>\n      <th>D</th>\n    </tr>\n  </thead>\n  <tbody>\n    <tr>\n      <th>0</th>\n      <td>A0</td>\n      <td>B0</td>\n      <td>C0</td>\n      <td>D0</td>\n      <td>NaN</td>\n      <td>NaN</td>\n      <td>NaN</td>\n      <td>NaN</td>\n      <td>NaN</td>\n      <td>NaN</td>\n      <td>NaN</td>\n      <td>NaN</td>\n    </tr>\n    <tr>\n      <th>1</th>\n      <td>A1</td>\n      <td>B1</td>\n      <td>C1</td>\n      <td>D1</td>\n      <td>NaN</td>\n      <td>NaN</td>\n      <td>NaN</td>\n      <td>NaN</td>\n      <td>NaN</td>\n      <td>NaN</td>\n      <td>NaN</td>\n      <td>NaN</td>\n    </tr>\n    <tr>\n      <th>2</th>\n      <td>A2</td>\n      <td>B2</td>\n      <td>C2</td>\n      <td>D2</td>\n      <td>NaN</td>\n      <td>NaN</td>\n      <td>NaN</td>\n      <td>NaN</td>\n      <td>NaN</td>\n      <td>NaN</td>\n      <td>NaN</td>\n      <td>NaN</td>\n    </tr>\n    <tr>\n      <th>3</th>\n      <td>A3</td>\n      <td>B3</td>\n      <td>C3</td>\n      <td>D3</td>\n      <td>NaN</td>\n      <td>NaN</td>\n      <td>NaN</td>\n      <td>NaN</td>\n      <td>NaN</td>\n      <td>NaN</td>\n      <td>NaN</td>\n      <td>NaN</td>\n    </tr>\n    <tr>\n      <th>4</th>\n      <td>NaN</td>\n      <td>NaN</td>\n      <td>NaN</td>\n      <td>NaN</td>\n      <td>A4</td>\n      <td>B4</td>\n      <td>C4</td>\n      <td>D4</td>\n      <td>NaN</td>\n      <td>NaN</td>\n      <td>NaN</td>\n      <td>NaN</td>\n    </tr>\n    <tr>\n      <th>5</th>\n      <td>NaN</td>\n      <td>NaN</td>\n      <td>NaN</td>\n      <td>NaN</td>\n      <td>A5</td>\n      <td>B5</td>\n      <td>C5</td>\n      <td>D5</td>\n      <td>NaN</td>\n      <td>NaN</td>\n      <td>NaN</td>\n      <td>NaN</td>\n    </tr>\n    <tr>\n      <th>6</th>\n      <td>NaN</td>\n      <td>NaN</td>\n      <td>NaN</td>\n      <td>NaN</td>\n      <td>A6</td>\n      <td>B6</td>\n      <td>C6</td>\n      <td>D6</td>\n      <td>NaN</td>\n      <td>NaN</td>\n      <td>NaN</td>\n      <td>NaN</td>\n    </tr>\n    <tr>\n      <th>7</th>\n      <td>NaN</td>\n      <td>NaN</td>\n      <td>NaN</td>\n      <td>NaN</td>\n      <td>A7</td>\n      <td>B7</td>\n      <td>C7</td>\n      <td>D7</td>\n      <td>NaN</td>\n      <td>NaN</td>\n      <td>NaN</td>\n      <td>NaN</td>\n    </tr>\n    <tr>\n      <th>8</th>\n      <td>NaN</td>\n      <td>NaN</td>\n      <td>NaN</td>\n      <td>NaN</td>\n      <td>NaN</td>\n      <td>NaN</td>\n      <td>NaN</td>\n      <td>NaN</td>\n      <td>A8</td>\n      <td>B8</td>\n      <td>C8</td>\n      <td>D8</td>\n    </tr>\n    <tr>\n      <th>9</th>\n      <td>NaN</td>\n      <td>NaN</td>\n      <td>NaN</td>\n      <td>NaN</td>\n      <td>NaN</td>\n      <td>NaN</td>\n      <td>NaN</td>\n      <td>NaN</td>\n      <td>A9</td>\n      <td>B9</td>\n      <td>C9</td>\n      <td>D9</td>\n    </tr>\n    <tr>\n      <th>10</th>\n      <td>NaN</td>\n      <td>NaN</td>\n      <td>NaN</td>\n      <td>NaN</td>\n      <td>NaN</td>\n      <td>NaN</td>\n      <td>NaN</td>\n      <td>NaN</td>\n      <td>A10</td>\n      <td>B10</td>\n      <td>C10</td>\n      <td>D10</td>\n    </tr>\n    <tr>\n      <th>11</th>\n      <td>NaN</td>\n      <td>NaN</td>\n      <td>NaN</td>\n      <td>NaN</td>\n      <td>NaN</td>\n      <td>NaN</td>\n      <td>NaN</td>\n      <td>NaN</td>\n      <td>A11</td>\n      <td>B11</td>\n      <td>C11</td>\n      <td>D11</td>\n    </tr>\n  </tbody>\n</table>\n</div>"
     },
     "metadata": {},
     "execution_count": 16
    }
   ],
   "source": [
    "#左右併\n",
    "pd.concat([df1,df2,df3],axis=1)    #axis預設為0代表row, 1代表column"
   ]
  },
  {
   "cell_type": "markdown",
   "metadata": {},
   "source": [
    "## Script 爬蟲\n",
    "\n",
    "收集網頁上的數據，反覆地複製、貼上的工作可以使用網路爬蟲的技術。一般而言，構成網頁最基本的要素是超文件標示語言。大都是建構在HTML之上。網路爬蟲的原理就是向遠端的伺服器送出請求，取得回應後伺服器會回傳HTML網頁，顯示在使用者的電腦上。"
   ]
  },
  {
   "cell_type": "code",
   "execution_count": 2,
   "metadata": {},
   "outputs": [],
   "source": [
    "import pandas as pd"
   ]
  },
  {
   "cell_type": "code",
   "execution_count": 3,
   "metadata": {
    "colab": {},
    "colab_type": "code",
    "id": "iih9pQAZOiFF",
    "outputId": "8e90ed35-f306-4824-9d2e-a004bda0e45c"
   },
   "outputs": [
    {
     "output_type": "execute_result",
     "data": {
      "text/plain": [
       "[                             Bank Name               City State   Cert  \\\n",
       " 0                    Almena State Bank             Almena    KS  15426   \n",
       " 1           First City Bank of Florida  Fort Walton Beach    FL  16748   \n",
       " 2                 The First State Bank      Barboursville    WV  14361   \n",
       " 3                   Ericson State Bank            Ericson    NE  18265   \n",
       " 4     City National Bank of New Jersey             Newark    NJ  21111   \n",
       " ..                                 ...                ...   ...    ...   \n",
       " 558                 Superior Bank, FSB           Hinsdale    IL  32646   \n",
       " 559                Malta National Bank              Malta    OH   6629   \n",
       " 560    First Alliance Bank & Trust Co.         Manchester    NH  34264   \n",
       " 561  National State Bank of Metropolis         Metropolis    IL   3815   \n",
       " 562                   Bank of Honolulu           Honolulu    HI  21029   \n",
       " \n",
       "                    Acquiring Institution       Closing Date  \n",
       " 0                            Equity Bank   October 23, 2020  \n",
       " 1              United Fidelity Bank, fsb   October 16, 2020  \n",
       " 2                         MVB Bank, Inc.      April 3, 2020  \n",
       " 3             Farmers and Merchants Bank  February 14, 2020  \n",
       " 4                        Industrial Bank   November 1, 2019  \n",
       " ..                                   ...                ...  \n",
       " 558                Superior Federal, FSB      July 27, 2001  \n",
       " 559                    North Valley Bank        May 3, 2001  \n",
       " 560  Southern New Hampshire Bank & Trust   February 2, 2001  \n",
       " 561              Banterra Bank of Marion  December 14, 2000  \n",
       " 562                   Bank of the Orient   October 13, 2000  \n",
       " \n",
       " [563 rows x 6 columns]]"
      ]
     },
     "metadata": {},
     "execution_count": 3
    }
   ],
   "source": [
    "# input\n",
    "df = pd.read_html('https://www.fdic.gov/resources/resolutions/bank-failures/failed-bank-list/')\n",
    "df"
   ]
  },
  {
   "cell_type": "markdown",
   "metadata": {},
   "source": [
    "### Script\n",
    "- Requests 自動下載網頁 \n",
    "- beautifulsoup 解析原始碼"
   ]
  },
  {
   "cell_type": "code",
   "execution_count": 4,
   "metadata": {},
   "outputs": [],
   "source": [
    "import requests\n",
    "from bs4 import BeautifulSoup\n",
    "\n",
    "url = 'https://news.google.com/topics/CAAqJQgKIh9DQkFTRVFvSUwyMHZNR3QwTlRFU0JYcG9MVlJYS0FBUAE?hl=zh-TW&gl=TW&ceid=TW%3Azh-Hant'\n",
    "\n",
    "r = requests.get(url)\n",
    "web_content = r.text\n",
    "soup = BeautifulSoup(web_content, 'lxml')"
   ]
  },
  {
   "cell_type": "code",
   "execution_count": 5,
   "metadata": {
    "tags": [
     "outputPrepend"
    ]
   },
   "outputs": [
    {
     "output_type": "stream",
     "name": "stdout",
     "text": [
      "Gue; focus:AHmuwe; blur:O22p3e; contextmenu:mg9Pef;touchstart:p6p2H; touchmove:FwuNnf; touchend:yfqBxc(preventMouseEvents=true|preventDefault=true); touchcancel:JMtRjd;;keydown:I481le;OuuAFc:UauMyf;gSufsc:BS8cLb;RyWlBb:tC9Erd;UTnG9:aDaYxb;nUyoxf:El6wk;\" jscontroller=\"S9Bhuc\" jsname=\"itaskb\" jsshadow=\"\" role=\"button\" tabindex=\"0\"><div class=\"XI1L0d\" jsname=\"ksKsZd\"></div><span aria-hidden=\"true\" class=\"DPvwYc ChwdAb Xd067b fAk9Qc\" jsname=\"BC5job\">more_vert</span></div></span></menu></div></article></div>, <div class=\"xrnccd\"><article class=\"MQsxIb xTewfe R7GTQ keNKEd j7vNaf Cc0Z5d EjqUne\" data-kind=\"13\" data-n-cvid=\"i143\" data-n-et=\"107\" data-n-ham=\"true\" data-n-vlb=\"0\" jsaction=\";rcuQ6b:npT2md; click:KjsqPd;\" jscontroller=\"HyhIue\" jsdata=\"oM6qxc;CBMiI2h0dHBzOi8vd3d3LnN0b3JtLm1nL2FydGljbGUvMTAyMTE00gEmaHR0cHM6Ly93d3cuc3Rvcm0ubWcvYW1wYXJ0aWNsZS8xMDIxMTQ;78\" jslog=\"85008\" jsmodel=\"a4N6Ae hT8rr\"><a aria-hidden=\"true\" class=\"VDXfz\" href=\"./articles/CBMiI2h0dHBzOi8vd3d3LnN0b3JtLm1nL2FydGljbGUvMTAyMTE00gEmaHR0cHM6Ly93d3cuc3Rvcm0ubWcvYW1wYXJ0aWNsZS8xMDIxMTQ?hl=zh-TW&amp;gl=TW&amp;ceid=TW%3Azh-Hant\" jslog=\"95014; 5:W251bGwsbnVsbCxudWxsLG51bGwsbnVsbCxudWxsLG51bGwsbnVsbCwiaHR0cHM6Ly93d3cuc3Rvcm0ubWcvYXJ0aWNsZS8xMDIxMTQiXQ==; track:click\" jsname=\"hXwDdf\" tabindex=\"-1\" target=\"_blank\"></a><h3 class=\"ipQwMb ekueJc RD0gLb\"><a class=\"DY5T1d RZIKme\" href=\"./articles/CBMiI2h0dHBzOi8vd3d3LnN0b3JtLm1nL2FydGljbGUvMTAyMTE00gEmaHR0cHM6Ly93d3cuc3Rvcm0ubWcvYW1wYXJ0aWNsZS8xMDIxMTQ?hl=zh-TW&amp;gl=TW&amp;ceid=TW%3Azh-Hant\">腸病毒71型恐流行 疾管署「警戒水位」危機監控</a></h3><div aria-hidden=\"true\" class=\"Da10Tb Rai5ob\" jsname=\"jVqMGc\"><span class=\"xBbh9\">因應腸病毒71型恐將大流行的可能性，衛生福利部疾病管制署增加訂定各縣市腸病毒流行閾值，一旦縣市腸病毒門、急診就診人次超過流行閾值，就代表該縣市疫情 ...</span></div><div class=\"QmrVtf RD0gLb kybdz\"><div class=\"SVJrMe\" jsname=\"Hn1wIf\"><span aria-hidden=\"true\" class=\"DPvwYc N3ElHc hEsB5d eLNT1d uQIVzc\" jsname=\"boXlNc\">amp</span><span aria-hidden=\"true\" class=\"DPvwYc N3ElHc gQtGhf eLNT1d uQIVzc\">video_youtube</span><a class=\"wEwyrc AVN2gc uQIVzc Sksgp\">風傳媒</a></div><menu class=\"fmkQje gXqRq\"><div class=\"OGsJDe L8PZAb R71ogd\" data-n-ca-at=\"2\" data-n-et=\"1000\" data-n-ssice=\"false\" data-n-st=\"bookmark\" jsaction=\"rcuQ6b:npT2md;JIbuQc:h5M12e;eEPUnd:h5M12e;YohPuc:CE7Jad;qW1nqe:kjc9zd;\" jscontroller=\"pQWkX\" jsdata=\"oM6qxc;CBMiI2h0dHBzOi8vd3d3LnN0b3JtLm1nL2FydGljbGUvMTAyMTE00gEmaHR0cHM6Ly93d3cuc3Rvcm0ubWcvYW1wYXJ0aWNsZS8xMDIxMTQ;78\" jsmodel=\"BZ12ub\" jsname=\"ms4Zd\"><div aria-disabled=\"false\" class=\"U26fgb YOnsCc waNn5b ZqhUjb ztUP4e uUmIDd cd29Sd V3dfMc w0hkKb\" data-n-et=\"1000\" jsaction=\"click:cOuCgd; mousedown:UX7yZ; mouseup:lbsD7e; mouseenter:tfO1Yc; mouseleave:JywGue; focus:AHmuwe; blur:O22p3e; contextmenu:mg9Pef;touchstart:p6p2H; touchmove:FwuNnf; touchend:yfqBxc(preventMouseEvents=true|preventDefault=true); touchcancel:JMtRjd;;OuuAFc:UauMyf;gSufsc:BS8cLb;RyWlBb:tC9Erd;UTnG9:aDaYxb;nUyoxf:El6wk;\" jscontroller=\"zbPkme\" jsname=\"itaskb\" jsshadow=\"\" role=\"button\" tabindex=\"0\"><div class=\"XI1L0d\" jsname=\"ksKsZd\"></div><span aria-hidden=\"true\" class=\"DPvwYc ChwdAb Xd067b fAk9Qc\" jsname=\"BC5job\">bookmark_border</span></div></div><span class=\"L8PZAb uG2FLd\" data-n-ca-at=\"8\" data-n-et=\"1000\" jsaction=\"JIbuQc:RNDhHe;\" jscontroller=\"ZHduwf\" jsdata=\"oM6qxc;CBMiI2h0dHBzOi8vd3d3LnN0b3JtLm1nL2FydGljbGUvMTAyMTE00gEmaHR0cHM6Ly93d3cuc3Rvcm0ubWcvYW1wYXJ0aWNsZS8xMDIxMTQ;78\" jslog=\"93393\" jsmodel=\"tOLjce hECoeb\"><div aria-disabled=\"false\" aria-label=\"分享\" class=\"U26fgb YOnsCc waNn5b ZqhUjb ztUP4e uUmIDd cd29Sd V3dfMc w0hkKb\" data-n-et=\"1000\" data-tooltip=\"分享\" data-tooltip-horizontal-offset=\"0\" data-tooltip-vertical-offset=\"-12\" jsaction=\"click:cOuCgd; mousedown:UX7yZ; mouseup:lbsD7e; mouseenter:tfO1Yc; mouseleave:JywGue; focus:AHmuwe; blur:O22p3e; contextmenu:mg9Pef;touchstart:p6p2H; touchmove:FwuNnf; touchend:yfqBxc(preventMouseEvents=true|preventDefault=true); touchcancel:JMtRjd;;OuuAFc:UauMyf;gSufsc:BS8cLb;RyWlBb:tC9Erd;UTnG9:aDaYxb;nUyoxf:El6wk;\" jscontroller=\"zbPkme\" jsname=\"itaskb\" jsshadow=\"\" role=\"button\" tabindex=\"0\"><div class=\"XI1L0d\" jsname=\"ksKsZd\"></div><span aria-hidden=\"true\" class=\"DPvwYc ChwdAb Xd067b fAk9Qc\" jsname=\"BC5job\">share</span></div></span><span class=\"L8PZAb GB1Zid\" data-n-prms=\"[false,false,false,null,false,false,false,false,null,false]\" jsaction=\"rcuQ6b:npT2md;aWRkAb:u0WEMd;h4C2te:Oy8cwd;\" jscontroller=\"jSvZHb\" jsdata=\"oM6qxc;CBMiI2h0dHBzOi8vd3d3LnN0b3JtLm1nL2FydGljbGUvMTAyMTE00gEmaHR0cHM6Ly93d3cuc3Rvcm0ubWcvYW1wYXJ0aWNsZS8xMDIxMTQ;78\" jslog=\"109017\" jsmodel=\"WDTLsd BZ12ub\"><div aria-disabled=\"false\" aria-expanded=\"false\" aria-haspopup=\"true\" aria-label=\"更多\" class=\"U26fgb YOnsCc waNn5b ZqhUjb ztUP4e uUmIDd gL67me cd29Sd V3dfMc w0hkKb\" data-dynamic=\"true\" data-tooltip=\"更多\" data-tooltip-horizontal-offset=\"0\" data-tooltip-vertical-offset=\"-12\" jsaction=\"click:cOuCgd; mousedown:UX7yZ; mouseup:lbsD7e; mouseenter:tfO1Yc; mouseleave:JywGue; focus:AHmuwe; blur:O22p3e; contextmenu:mg9Pef;touchstart:p6p2H; touchmove:FwuNnf; touchend:yfqBxc(preventMouseEvents=true|preventDefault=true); touchcancel:JMtRjd;;keydown:I481le;OuuAFc:UauMyf;gSufsc:BS8cLb;RyWlBb:tC9Erd;UTnG9:aDaYxb;nUyoxf:El6wk;\" jscontroller=\"S9Bhuc\" jsname=\"itaskb\" jsshadow=\"\" role=\"button\" tabindex=\"0\"><div class=\"XI1L0d\" jsname=\"ksKsZd\"></div><span aria-hidden=\"true\" class=\"DPvwYc ChwdAb Xd067b fAk9Qc\" jsname=\"BC5job\">more_vert</span></div></span></menu></div></article></div>, <div class=\"xrnccd\"><article class=\"MQsxIb xTewfe R7GTQ keNKEd j7vNaf Cc0Z5d EjqUne\" data-kind=\"13\" data-n-cvid=\"i145\" data-n-et=\"107\" data-n-ham=\"true\" data-n-vlb=\"0\" jsaction=\";rcuQ6b:npT2md; click:KjsqPd;\" jscontroller=\"HyhIue\" jsdata=\"oM6qxc;CBMiJWh0dHBzOi8vd3d3LnN0b3JtLm1nL2xpZmVzdHlsZS8xNjU4MDfSASZodHRwczovL3d3dy5zdG9ybS5tZy9hbXBhcnRpY2xlLzE2NTgwNw;79\" jslog=\"85008\" jsmodel=\"a4N6Ae hT8rr\"><a aria-hidden=\"true\" class=\"VDXfz\" href=\"./articles/CBMiJWh0dHBzOi8vd3d3LnN0b3JtLm1nL2xpZmVzdHlsZS8xNjU4MDfSASZodHRwczovL3d3dy5zdG9ybS5tZy9hbXBhcnRpY2xlLzE2NTgwNw?hl=zh-TW&amp;gl=TW&amp;ceid=TW%3Azh-Hant\" jslog=\"95014; 5:W251bGwsbnVsbCxudWxsLG51bGwsbnVsbCxudWxsLG51bGwsbnVsbCwiaHR0cHM6Ly93d3cuc3Rvcm0ubWcvbGlmZXN0eWxlLzE2NTgwNyJd; track:click\" jsname=\"hXwDdf\" tabindex=\"-1\" target=\"_blank\"></a><h3 class=\"ipQwMb ekueJc RD0gLb\"><a class=\"DY5T1d RZIKme\" href=\"./articles/CBMiJWh0dHBzOi8vd3d3LnN0b3JtLm1nL2xpZmVzdHlsZS8xNjU4MDfSASZodHRwczovL3d3dy5zdG9ybS5tZy9hbXBhcnRpY2xlLzE2NTgwNw?hl=zh-TW&amp;gl=TW&amp;ceid=TW%3Azh-Hant\">中秋連假不舒服，哪裡還能看醫生？快記下這2個實用小工具，就不怕白跑一趟啦</a></h3><div aria-hidden=\"true\" class=\"Da10Tb Rai5ob\" jsname=\"jVqMGc\"><span class=\"xBbh9\">中秋連假身體不舒服，又怕到了診所醫院才發現沒開？快用這2個方式查查再出門！衛福部健保署今天表示，民眾在連假期間如有輕微急症像是感冒、腸胃炎等， ...</span></div><div class=\"QmrVtf RD0gLb kybdz\"><div class=\"SVJrMe\" jsname=\"Hn1wIf\"><span aria-hidden=\"true\" class=\"DPvwYc N3ElHc hEsB5d eLNT1d uQIVzc\" jsname=\"boXlNc\">amp</span><span aria-hidden=\"true\" class=\"DPvwYc N3ElHc gQtGhf eLNT1d uQIVzc\">video_youtube</span><a class=\"wEwyrc AVN2gc uQIVzc Sksgp\">風傳媒</a></div><menu class=\"fmkQje gXqRq\"><div class=\"OGsJDe L8PZAb R71ogd\" data-n-ca-at=\"2\" data-n-et=\"1000\" data-n-ssice=\"false\" data-n-st=\"bookmark\" jsaction=\"rcuQ6b:npT2md;JIbuQc:h5M12e;eEPUnd:h5M12e;YohPuc:CE7Jad;qW1nqe:kjc9zd;\" jscontroller=\"pQWkX\" jsdata=\"oM6qxc;CBMiJWh0dHBzOi8vd3d3LnN0b3JtLm1nL2xpZmVzdHlsZS8xNjU4MDfSASZodHRwczovL3d3dy5zdG9ybS5tZy9hbXBhcnRpY2xlLzE2NTgwNw;79\" jsmodel=\"BZ12ub\" jsname=\"ms4Zd\"><div aria-disabled=\"false\" class=\"U26fgb YOnsCc waNn5b ZqhUjb ztUP4e uUmIDd cd29Sd V3dfMc w0hkKb\" data-n-et=\"1000\" jsaction=\"click:cOuCgd; mousedown:UX7yZ; mouseup:lbsD7e; mouseenter:tfO1Yc; mouseleave:JywGue; focus:AHmuwe; blur:O22p3e; contextmenu:mg9Pef;touchstart:p6p2H; touchmove:FwuNnf; touchend:yfqBxc(preventMouseEvents=true|preventDefault=true); touchcancel:JMtRjd;;OuuAFc:UauMyf;gSufsc:BS8cLb;RyWlBb:tC9Erd;UTnG9:aDaYxb;nUyoxf:El6wk;\" jscontroller=\"zbPkme\" jsname=\"itaskb\" jsshadow=\"\" role=\"button\" tabindex=\"0\"><div class=\"XI1L0d\" jsname=\"ksKsZd\"></div><span aria-hidden=\"true\" class=\"DPvwYc ChwdAb Xd067b fAk9Qc\" jsname=\"BC5job\">bookmark_border</span></div></div><span class=\"L8PZAb uG2FLd\" data-n-ca-at=\"8\" data-n-et=\"1000\" jsaction=\"JIbuQc:RNDhHe;\" jscontroller=\"ZHduwf\" jsdata=\"oM6qxc;CBMiJWh0dHBzOi8vd3d3LnN0b3JtLm1nL2xpZmVzdHlsZS8xNjU4MDfSASZodHRwczovL3d3dy5zdG9ybS5tZy9hbXBhcnRpY2xlLzE2NTgwNw;79\" jslog=\"93393\" jsmodel=\"tOLjce hECoeb\"><div aria-disabled=\"false\" aria-label=\"分享\" class=\"U26fgb YOnsCc waNn5b ZqhUjb ztUP4e uUmIDd cd29Sd V3dfMc w0hkKb\" data-n-et=\"1000\" data-tooltip=\"分享\" data-tooltip-horizontal-offset=\"0\" data-tooltip-vertical-offset=\"-12\" jsaction=\"click:cOuCgd; mousedown:UX7yZ; mouseup:lbsD7e; mouseenter:tfO1Yc; mouseleave:JywGue; focus:AHmuwe; blur:O22p3e; contextmenu:mg9Pef;touchstart:p6p2H; touchmove:FwuNnf; touchend:yfqBxc(preventMouseEvents=true|preventDefault=true); touchcancel:JMtRjd;;OuuAFc:UauMyf;gSufsc:BS8cLb;RyWlBb:tC9Erd;UTnG9:aDaYxb;nUyoxf:El6wk;\" jscontroller=\"zbPkme\" jsname=\"itaskb\" jsshadow=\"\" role=\"button\" tabindex=\"0\"><div class=\"XI1L0d\" jsname=\"ksKsZd\"></div><span aria-hidden=\"true\" class=\"DPvwYc ChwdAb Xd067b fAk9Qc\" jsname=\"BC5job\">share</span></div></span><span class=\"L8PZAb GB1Zid\" data-n-prms=\"[false,false,false,null,false,false,false,false,null,false]\" jsaction=\"rcuQ6b:npT2md;aWRkAb:u0WEMd;h4C2te:Oy8cwd;\" jscontroller=\"jSvZHb\" jsdata=\"oM6qxc;CBMiJWh0dHBzOi8vd3d3LnN0b3JtLm1nL2xpZmVzdHlsZS8xNjU4MDfSASZodHRwczovL3d3dy5zdG9ybS5tZy9hbXBhcnRpY2xlLzE2NTgwNw;79\" jslog=\"109017\" jsmodel=\"WDTLsd BZ12ub\"><div aria-disabled=\"false\" aria-expanded=\"false\" aria-haspopup=\"true\" aria-label=\"更多\" class=\"U26fgb YOnsCc waNn5b ZqhUjb ztUP4e uUmIDd gL67me cd29Sd V3dfMc w0hkKb\" data-dynamic=\"true\" data-tooltip=\"更多\" data-tooltip-horizontal-offset=\"0\" data-tooltip-vertical-offset=\"-12\" jsaction=\"click:cOuCgd; mousedown:UX7yZ; mouseup:lbsD7e; mouseenter:tfO1Yc; mouseleave:JywGue; focus:AHmuwe; blur:O22p3e; contextmenu:mg9Pef;touchstart:p6p2H; touchmove:FwuNnf; touchend:yfqBxc(preventMouseEvents=true|preventDefault=true); touchcancel:JMtRjd;;keydown:I481le;OuuAFc:UauMyf;gSufsc:BS8cLb;RyWlBb:tC9Erd;UTnG9:aDaYxb;nUyoxf:El6wk;\" jscontroller=\"S9Bhuc\" jsname=\"itaskb\" jsshadow=\"\" role=\"button\" tabindex=\"0\"><div class=\"XI1L0d\" jsname=\"ksKsZd\"></div><span aria-hidden=\"true\" class=\"DPvwYc ChwdAb Xd067b fAk9Qc\" jsname=\"BC5job\">more_vert</span></div></span></menu></div></article></div>, <div class=\"xrnccd\"><article class=\"MQsxIb xTewfe R7GTQ keNKEd j7vNaf Cc0Z5d EjqUne\" data-kind=\"13\" data-n-cvid=\"i147\" data-n-et=\"107\" data-n-ham=\"true\" data-n-vlb=\"0\" jsaction=\";rcuQ6b:npT2md; click:KjsqPd;\" jscontroller=\"HyhIue\" jsdata=\"oM6qxc;CBMiJWh0dHBzOi8vd3d3LnN0b3JtLm1nL2xpZmVzdHlsZS8xNTE5ODPSASZodHRwczovL3d3dy5zdG9ybS5tZy9hbXBhcnRpY2xlLzE1MTk4Mw;80\" jslog=\"85008\" jsmodel=\"a4N6Ae hT8rr\"><a aria-hidden=\"true\" class=\"VDXfz\" href=\"./articles/CBMiJWh0dHBzOi8vd3d3LnN0b3JtLm1nL2xpZmVzdHlsZS8xNTE5ODPSASZodHRwczovL3d3dy5zdG9ybS5tZy9hbXBhcnRpY2xlLzE1MTk4Mw?hl=zh-TW&amp;gl=TW&amp;ceid=TW%3Azh-Hant\" jslog=\"95014; 5:W251bGwsbnVsbCxudWxsLG51bGwsbnVsbCxudWxsLG51bGwsbnVsbCwiaHR0cHM6Ly93d3cuc3Rvcm0ubWcvbGlmZXN0eWxlLzE1MTk4MyJd; track:click\" jsname=\"hXwDdf\" tabindex=\"-1\" target=\"_blank\"></a><h3 class=\"ipQwMb ekueJc RD0gLb\"><a class=\"DY5T1d RZIKme\" href=\"./articles/CBMiJWh0dHBzOi8vd3d3LnN0b3JtLm1nL2xpZmVzdHlsZS8xNTE5ODPSASZodHRwczovL3d3dy5zdG9ybS5tZy9hbXBhcnRpY2xlLzE1MTk4Mw?hl=zh-TW&amp;gl=TW&amp;ceid=TW%3Azh-Hant\">別再吃布丁啦！市售布丁含糖量嚇死人，看完以後你還敢碰某款超商點心嗎？</a></h3><div aria-hidden=\"true\" class=\"Da10Tb Rai5ob\" jsname=\"jVqMGc\"><span class=\"xBbh9\">不少家長認為布丁有雞蛋、牛奶，比多數零食來得健康。但董氏基金會調查市售布丁卻發現，重量僅180公克的布丁，含糖量竟逼近1杯全糖手搖飲料，等同吞下6.3 ...</span></div><div class=\"QmrVtf RD0gLb kybdz\"><div class=\"SVJrMe\" jsname=\"Hn1wIf\"><span aria-hidden=\"true\" class=\"DPvwYc N3ElHc hEsB5d eLNT1d uQIVzc\" jsname=\"boXlNc\">amp</span><span aria-hidden=\"true\" class=\"DPvwYc N3ElHc gQtGhf eLNT1d uQIVzc\">video_youtube</span><a class=\"wEwyrc AVN2gc uQIVzc Sksgp\">風傳媒</a></div><menu class=\"fmkQje gXqRq\"><div class=\"OGsJDe L8PZAb R71ogd\" data-n-ca-at=\"2\" data-n-et=\"1000\" data-n-ssice=\"false\" data-n-st=\"bookmark\" jsaction=\"rcuQ6b:npT2md;JIbuQc:h5M12e;eEPUnd:h5M12e;YohPuc:CE7Jad;qW1nqe:kjc9zd;\" jscontroller=\"pQWkX\" jsdata=\"oM6qxc;CBMiJWh0dHBzOi8vd3d3LnN0b3JtLm1nL2xpZmVzdHlsZS8xNTE5ODPSASZodHRwczovL3d3dy5zdG9ybS5tZy9hbXBhcnRpY2xlLzE1MTk4Mw;80\" jsmodel=\"BZ12ub\" jsname=\"ms4Zd\"><div aria-disabled=\"false\" class=\"U26fgb YOnsCc waNn5b ZqhUjb ztUP4e uUmIDd cd29Sd V3dfMc w0hkKb\" data-n-et=\"1000\" jsaction=\"click:cOuCgd; mousedown:UX7yZ; mouseup:lbsD7e; mouseenter:tfO1Yc; mouseleave:JywGue; focus:AHmuwe; blur:O22p3e; contextmenu:mg9Pef;touchstart:p6p2H; touchmove:FwuNnf; touchend:yfqBxc(preventMouseEvents=true|preventDefault=true); touchcancel:JMtRjd;;OuuAFc:UauMyf;gSufsc:BS8cLb;RyWlBb:tC9Erd;UTnG9:aDaYxb;nUyoxf:El6wk;\" jscontroller=\"zbPkme\" jsname=\"itaskb\" jsshadow=\"\" role=\"button\" tabindex=\"0\"><div class=\"XI1L0d\" jsname=\"ksKsZd\"></div><span aria-hidden=\"true\" class=\"DPvwYc ChwdAb Xd067b fAk9Qc\" jsname=\"BC5job\">bookmark_border</span></div></div><span class=\"L8PZAb uG2FLd\" data-n-ca-at=\"8\" data-n-et=\"1000\" jsaction=\"JIbuQc:RNDhHe;\" jscontroller=\"ZHduwf\" jsdata=\"oM6qxc;CBMiJWh0dHBzOi8vd3d3LnN0b3JtLm1nL2xpZmVzdHlsZS8xNTE5ODPSASZodHRwczovL3d3dy5zdG9ybS5tZy9hbXBhcnRpY2xlLzE1MTk4Mw;80\" jslog=\"93393\" jsmodel=\"tOLjce hECoeb\"><div aria-disabled=\"false\" aria-label=\"分享\" class=\"U26fgb YOnsCc waNn5b ZqhUjb ztUP4e uUmIDd cd29Sd V3dfMc w0hkKb\" data-n-et=\"1000\" data-tooltip=\"分享\" data-tooltip-horizontal-offset=\"0\" data-tooltip-vertical-offset=\"-12\" jsaction=\"click:cOuCgd; mousedown:UX7yZ; mouseup:lbsD7e; mouseenter:tfO1Yc; mouseleave:JywGue; focus:AHmuwe; blur:O22p3e; contextmenu:mg9Pef;touchstart:p6p2H; touchmove:FwuNnf; touchend:yfqBxc(preventMouseEvents=true|preventDefault=true); touchcancel:JMtRjd;;OuuAFc:UauMyf;gSufsc:BS8cLb;RyWlBb:tC9Erd;UTnG9:aDaYxb;nUyoxf:El6wk;\" jscontroller=\"zbPkme\" jsname=\"itaskb\" jsshadow=\"\" role=\"button\" tabindex=\"0\"><div class=\"XI1L0d\" jsname=\"ksKsZd\"></div><span aria-hidden=\"true\" class=\"DPvwYc ChwdAb Xd067b fAk9Qc\" jsname=\"BC5job\">share</span></div></span><span class=\"L8PZAb GB1Zid\" data-n-prms=\"[false,false,false,null,false,false,false,false,null,false]\" jsaction=\"rcuQ6b:npT2md;aWRkAb:u0WEMd;h4C2te:Oy8cwd;\" jscontroller=\"jSvZHb\" jsdata=\"oM6qxc;CBMiJWh0dHBzOi8vd3d3LnN0b3JtLm1nL2xpZmVzdHlsZS8xNTE5ODPSASZodHRwczovL3d3dy5zdG9ybS5tZy9hbXBhcnRpY2xlLzE1MTk4Mw;80\" jslog=\"109017\" jsmodel=\"WDTLsd BZ12ub\"><div aria-disabled=\"false\" aria-expanded=\"false\" aria-haspopup=\"true\" aria-label=\"更多\" class=\"U26fgb YOnsCc waNn5b ZqhUjb ztUP4e uUmIDd gL67me cd29Sd V3dfMc w0hkKb\" data-dynamic=\"true\" data-tooltip=\"更多\" data-tooltip-horizontal-offset=\"0\" data-tooltip-vertical-offset=\"-12\" jsaction=\"click:cOuCgd; mousedown:UX7yZ; mouseup:lbsD7e; mouseenter:tfO1Yc; mouseleave:JywGue; focus:AHmuwe; blur:O22p3e; contextmenu:mg9Pef;touchstart:p6p2H; touchmove:FwuNnf; touchend:yfqBxc(preventMouseEvents=true|preventDefault=true); touchcancel:JMtRjd;;keydown:I481le;OuuAFc:UauMyf;gSufsc:BS8cLb;RyWlBb:tC9Erd;UTnG9:aDaYxb;nUyoxf:El6wk;\" jscontroller=\"S9Bhuc\" jsname=\"itaskb\" jsshadow=\"\" role=\"button\" tabindex=\"0\"><div class=\"XI1L0d\" jsname=\"ksKsZd\"></div><span aria-hidden=\"true\" class=\"DPvwYc ChwdAb Xd067b fAk9Qc\" jsname=\"BC5job\">more_vert</span></div></span></menu></div></article></div>, <div class=\"xrnccd\"><article class=\"MQsxIb xTewfe R7GTQ keNKEd j7vNaf Cc0Z5d EjqUne\" data-kind=\"13\" data-n-cvid=\"i149\" data-n-et=\"107\" data-n-ham=\"true\" data-n-vlb=\"0\" jsaction=\";rcuQ6b:npT2md; click:KjsqPd;\" jscontroller=\"HyhIue\" jsdata=\"oM6qxc;CBMiJWh0dHBzOi8vd3d3LnN0b3JtLm1nL2xpZmVzdHlsZS8xODc0NTHSASZodHRwczovL3d3dy5zdG9ybS5tZy9hbXBhcnRpY2xlLzE4NzQ1MQ;81\" jslog=\"85008\" jsmodel=\"a4N6Ae hT8rr\"><a aria-hidden=\"true\" class=\"VDXfz\" href=\"./articles/CBMiJWh0dHBzOi8vd3d3LnN0b3JtLm1nL2xpZmVzdHlsZS8xODc0NTHSASZodHRwczovL3d3dy5zdG9ybS5tZy9hbXBhcnRpY2xlLzE4NzQ1MQ?hl=zh-TW&amp;gl=TW&amp;ceid=TW%3Azh-Hant\" jslog=\"95014; 5:W251bGwsbnVsbCxudWxsLG51bGwsbnVsbCxudWxsLG51bGwsbnVsbCwiaHR0cHM6Ly93d3cuc3Rvcm0ubWcvbGlmZXN0eWxlLzE4NzQ1MSJd; track:click\" jsname=\"hXwDdf\" tabindex=\"-1\" target=\"_blank\"></a><h3 class=\"ipQwMb ekueJc RD0gLb\"><a class=\"DY5T1d RZIKme\" href=\"./articles/CBMiJWh0dHBzOi8vd3d3LnN0b3JtLm1nL2xpZmVzdHlsZS8xODc0NTHSASZodHRwczovL3d3dy5zdG9ybS5tZy9hbXBhcnRpY2xlLzE4NzQ1MQ?hl=zh-TW&amp;gl=TW&amp;ceid=TW%3Azh-Hant\">胸大別跑！中國醫師：跑步是很經濟的健身運動，但有6種人不宜！</a></h3><div aria-hidden=\"true\" class=\"Da10Tb Rai5ob\" jsname=\"jVqMGc\"><span class=\"xBbh9\">跑步有利健康，但有中國大陸醫師指出，6類人不適合跑步，包括大胸部女性、女性50歲以上及男性60歲以上的人。☆一手掌握熱門話題新浪網在報導中引述醫生說 ...</span></div><div class=\"QmrVtf RD0gLb kybdz\"><div class=\"SVJrMe\" jsname=\"Hn1wIf\"><span aria-hidden=\"true\" class=\"DPvwYc N3ElHc hEsB5d eLNT1d uQIVzc\" jsname=\"boXlNc\">amp</span><span aria-hidden=\"true\" class=\"DPvwYc N3ElHc gQtGhf eLNT1d uQIVzc\">video_youtube</span><a class=\"wEwyrc AVN2gc uQIVzc Sksgp\">風傳媒</a></div><menu class=\"fmkQje gXqRq\"><div class=\"OGsJDe L8PZAb R71ogd\" data-n-ca-at=\"2\" data-n-et=\"1000\" data-n-ssice=\"false\" data-n-st=\"bookmark\" jsaction=\"rcuQ6b:npT2md;JIbuQc:h5M12e;eEPUnd:h5M12e;YohPuc:CE7Jad;qW1nqe:kjc9zd;\" jscontroller=\"pQWkX\" jsdata=\"oM6qxc;CBMiJWh0dHBzOi8vd3d3LnN0b3JtLm1nL2xpZmVzdHlsZS8xODc0NTHSASZodHRwczovL3d3dy5zdG9ybS5tZy9hbXBhcnRpY2xlLzE4NzQ1MQ;81\" jsmodel=\"BZ12ub\" jsname=\"ms4Zd\"><div aria-disabled=\"false\" class=\"U26fgb YOnsCc waNn5b ZqhUjb ztUP4e uUmIDd cd29Sd V3dfMc w0hkKb\" data-n-et=\"1000\" jsaction=\"click:cOuCgd; mousedown:UX7yZ; mouseup:lbsD7e; mouseenter:tfO1Yc; mouseleave:JywGue; focus:AHmuwe; blur:O22p3e; contextmenu:mg9Pef;touchstart:p6p2H; touchmove:FwuNnf; touchend:yfqBxc(preventMouseEvents=true|preventDefault=true); touchcancel:JMtRjd;;OuuAFc:UauMyf;gSufsc:BS8cLb;RyWlBb:tC9Erd;UTnG9:aDaYxb;nUyoxf:El6wk;\" jscontroller=\"zbPkme\" jsname=\"itaskb\" jsshadow=\"\" role=\"button\" tabindex=\"0\"><div class=\"XI1L0d\" jsname=\"ksKsZd\"></div><span aria-hidden=\"true\" class=\"DPvwYc ChwdAb Xd067b fAk9Qc\" jsname=\"BC5job\">bookmark_border</span></div></div><span class=\"L8PZAb uG2FLd\" data-n-ca-at=\"8\" data-n-et=\"1000\" jsaction=\"JIbuQc:RNDhHe;\" jscontroller=\"ZHduwf\" jsdata=\"oM6qxc;CBMiJWh0dHBzOi8vd3d3LnN0b3JtLm1nL2xpZmVzdHlsZS8xODc0NTHSASZodHRwczovL3d3dy5zdG9ybS5tZy9hbXBhcnRpY2xlLzE4NzQ1MQ;81\" jslog=\"93393\" jsmodel=\"tOLjce hECoeb\"><div aria-disabled=\"false\" aria-label=\"分享\" class=\"U26fgb YOnsCc waNn5b ZqhUjb ztUP4e uUmIDd cd29Sd V3dfMc w0hkKb\" data-n-et=\"1000\" data-tooltip=\"分享\" data-tooltip-horizontal-offset=\"0\" data-tooltip-vertical-offset=\"-12\" jsaction=\"click:cOuCgd; mousedown:UX7yZ; mouseup:lbsD7e; mouseenter:tfO1Yc; mouseleave:JywGue; focus:AHmuwe; blur:O22p3e; contextmenu:mg9Pef;touchstart:p6p2H; touchmove:FwuNnf; touchend:yfqBxc(preventMouseEvents=true|preventDefault=true); touchcancel:JMtRjd;;OuuAFc:UauMyf;gSufsc:BS8cLb;RyWlBb:tC9Erd;UTnG9:aDaYxb;nUyoxf:El6wk;\" jscontroller=\"zbPkme\" jsname=\"itaskb\" jsshadow=\"\" role=\"button\" tabindex=\"0\"><div class=\"XI1L0d\" jsname=\"ksKsZd\"></div><span aria-hidden=\"true\" class=\"DPvwYc ChwdAb Xd067b fAk9Qc\" jsname=\"BC5job\">share</span></div></span><span class=\"L8PZAb GB1Zid\" data-n-prms=\"[false,false,false,null,false,false,false,false,null,false]\" jsaction=\"rcuQ6b:npT2md;aWRkAb:u0WEMd;h4C2te:Oy8cwd;\" jscontroller=\"jSvZHb\" jsdata=\"oM6qxc;CBMiJWh0dHBzOi8vd3d3LnN0b3JtLm1nL2xpZmVzdHlsZS8xODc0NTHSASZodHRwczovL3d3dy5zdG9ybS5tZy9hbXBhcnRpY2xlLzE4NzQ1MQ;81\" jslog=\"109017\" jsmodel=\"WDTLsd BZ12ub\"><div aria-disabled=\"false\" aria-expanded=\"false\" aria-haspopup=\"true\" aria-label=\"更多\" class=\"U26fgb YOnsCc waNn5b ZqhUjb ztUP4e uUmIDd gL67me cd29Sd V3dfMc w0hkKb\" data-dynamic=\"true\" data-tooltip=\"更多\" data-tooltip-horizontal-offset=\"0\" data-tooltip-vertical-offset=\"-12\" jsaction=\"click:cOuCgd; mousedown:UX7yZ; mouseup:lbsD7e; mouseenter:tfO1Yc; mouseleave:JywGue; focus:AHmuwe; blur:O22p3e; contextmenu:mg9Pef;touchstart:p6p2H; touchmove:FwuNnf; touchend:yfqBxc(preventMouseEvents=true|preventDefault=true); touchcancel:JMtRjd;;keydown:I481le;OuuAFc:UauMyf;gSufsc:BS8cLb;RyWlBb:tC9Erd;UTnG9:aDaYxb;nUyoxf:El6wk;\" jscontroller=\"S9Bhuc\" jsname=\"itaskb\" jsshadow=\"\" role=\"button\" tabindex=\"0\"><div class=\"XI1L0d\" jsname=\"ksKsZd\"></div><span aria-hidden=\"true\" class=\"DPvwYc ChwdAb Xd067b fAk9Qc\" jsname=\"BC5job\">more_vert</span></div></span></menu></div></article></div>]\n"
     ]
    }
   ],
   "source": [
    "# 找出所有標題區塊的元素並儲存為一個list\n",
    "# 每個文章都被包覆在class = ‘xrnccd’的div物件中\n",
    "# 整個文章點擊區塊連結: class = “VDXfz”\n",
    "title = soup.find_all('div', class_='xrnccd')\n",
    "print(title)"
   ]
  },
  {
   "cell_type": "code",
   "execution_count": 6,
   "metadata": {},
   "outputs": [
    {
     "output_type": "execute_result",
     "data": {
      "text/plain": [
       "['皮膚反映內臟健康！出現「5種變化」小心肝出問題了',\n",
       " '喝酒都不會臉紅的人，代表肝功能很好？醫生打臉：灌了好幾杯還「面不改色」才要小心！',\n",
       " '為何血糖低、頭暈時，吃巧克力和麵包沒有用？醫師的救急建議，人人都該記下來！',\n",
       " '塗上乳液，全身還是乾癢到不行！皮膚科醫師5招對抗惱人「冬季癢」',\n",
       " '2015年諾貝爾生理學或醫學獎得主揭曉 寄生蟲疾病新療法研發者摘桂冠',\n",
       " '晚上打呼、睡眠不順千萬別輕忽，30歲男竟然睡到心臟衰竭！醫生教5秘訣讓你安心好眠',\n",
       " '立院三讀通過 愛滋病患將可器捐其他帶原者',\n",
       " '喝啤酒真的可以幫助結石排出嗎？泌尿科醫生破解「尿路結石」的3大迷思',\n",
       " '失智症剋星原來是它！最新研究：每天來杯這隨處可見的飲料，得病風險降86%',\n",
       " '毒癮、酒癮及自殺者 衛福部擬納強制就醫住院',\n",
       " '還在低頭滑手機？當心眼睛也會過勞！眼科醫師：這3種人年紀輕輕就失明',\n",
       " '午間空氣品質不佳 嘉市衛生局籲民眾戴口罩、少外出',\n",
       " '天氣冷容易飆血壓，千萬要注意！專家提5大飲食要點：吃2個月就能有效控制',\n",
       " '上班久坐，健康大敵 醫師：坐比站更傷脊椎',\n",
       " '以為是痔瘡不在意，一診斷竟是直腸癌晚期…醫師呼籲：血便勿輕忽，應盡速就醫',\n",
       " '突破一般人的痠痛迷思！復健科醫師：7成以上坐骨神經痛，不需要治療那條神經！',\n",
       " '年紀輕輕就得到高血壓，該怎麼辦？中醫師教你這樣調理身體…',\n",
       " '久咳不停，千萬別再說「等它自己好」！10大禍源揭曉，輕忽就怕一輩子好不了…',\n",
       " '愛喝奶茶對女性的傷害有多大？她生活習慣正常卻常喊頭痛、暈眩，問題原來出在…',\n",
       " '你是牙痛到不行才去看牙醫的人？小心為時已晚的診治會讓你少一顆牙…',\n",
       " '記憶力突然退化，只是老了或太累嗎？他就醫緊急送進開刀房，才發現事情嚴重啦！',\n",
       " '為何吃化痰、止咳藥反而病情加重？醫師嘆：台灣人幾乎都亂吃，只有「這時機」服用才正確',\n",
       " '小綠人標章藏危機 健康食品不健康',\n",
       " '為何爸媽過了60歲就脾氣暴躁？先別急著跟長輩吵架，說不定他生了這嚴重的病…',\n",
       " '桃園免費子宮頸癌疫苗再加碼 高中女生全免費',\n",
       " '熬夜恐成不舉男 小黃瓜變軟茄',\n",
       " '愛喝手沖咖啡嗎？星巴克教你簡單5個步驟',\n",
       " '你敢從7樓直接溜下來嗎？亞洲最高溜滑梯在高雄，體驗者現身說法！',\n",
       " '高醫教授吳秀梅接任食藥署長',\n",
       " '原來每天一片巧克力有這種好處啊！原本超怕胖的，看完日本研究以後決定馬上吃！',\n",
       " '染髮劑使用不當，可能出現紅斑、搔癢、水泡、潰爛…這4個撇步教你健康染髮！',\n",
       " '為何一堆台灣女生婚前瘋「處女膜重建」？關於初夜流血這回事，或許我們都誤會了…',\n",
       " '眼睛疲勞、發炎、血絲多，都只要睡一覺就好了嗎？小心眼壓飆高、急性青光眼找上門',\n",
       " '家中有血糖高、糖尿病患，年夜飯都吃得戰戰兢兢…醫師澄清：其實「這類」食物不挾就好',\n",
       " '研究：一款有助於破解失智症的遊戲',\n",
       " '新手爸媽該知道的「嬰兒搖晃症候群」…只要幾秒就可能對寶寶造成永久傷害！',\n",
       " '每天1杯含糖飲料，死亡風險竟增3成！熱飲還比冷飲更危險？快看看教授怎麼說',\n",
       " '有肌腱炎、網球肘，老是這裡痠那裡痛怎麼辦？現在用這種療法，讓你不用再打針吃藥',\n",
       " '交互蹲跳300次！苗栗高中學長霸凌 6生跳到送醫',\n",
       " '50歲的他忍下背劇痛20年，吃藥、求醫都沒用！如今奇蹟好轉，原來是靠這樣治療…',\n",
       " '6個月精心籌備 成大醫院物理治療中心隆重開幕',\n",
       " '肉要烤，健康也要顧好！專家教你中秋烤肉5大密技，不管怎麼吃、就是不會吃到致癌物',\n",
       " '每年奪走上萬條人命，腦中風的恐怖不容小覷！天氣漸涼，4大前兆一定要知道…',\n",
       " '聽老歌、玩遊戲可以治療失智症？職能治療師提出最有趣療法，簡直是銀髮族的福音',\n",
       " '毒蝦竄全台！家樂福、大潤發都中標',\n",
       " '西非伊波拉屍體火化 棺材店沒生意可做',\n",
       " '3D列印把肋骨印出來了！肋骨骨折不想吃藥慢慢好，這項新手術時間短、併發症低',\n",
       " '為什麼孩子比同學矮一截？醫生提醒：除了愛喝糖飲、不運動和晚睡，還可能是這個原因',\n",
       " '人過40歲，頻尿風險就找上門！避免擾人清夢「夜尿症」，醫師的2大實用建議',\n",
       " 'MERS疫情蠢蠢欲動 柯P教你防疫法門：勤洗手、戴口罩',\n",
       " '每5個老人，就有1個失智症患者！神經科醫師：多做這件事「存腦本」有助預防',\n",
       " '聲音沙啞、耳鳴不舒適…耳鼻喉科醫師：別小看這些問題，可能是癌症的症狀',\n",
       " '台北市某高中又傳肺結核案例 家長學生恐慌',\n",
       " '炎炎高溫戶外運動，當心「熱傷害」，20分鐘內做好3步驟急救！',\n",
       " '可可含量不到35% 叫「巧克力」要挨罰',\n",
       " '澎縣新衛生局長上任 有大仁哥影子',\n",
       " '民眾突昏倒口吐白沫 熱心警搶救護送就醫',\n",
       " '嘉基乳房中心整合服務再升級 引進高階3D乳房攝影儀及3D乳房超音波',\n",
       " '高雄榮總等6大醫院爆醫師收回扣 北檢北中南大搜索',\n",
       " '中秋烤肉吃月餅 食藥署抽檢共6產品不合格',\n",
       " '世界級醫療設備 服務猶勝香港：《樂戶台灣》選摘（1）',\n",
       " '中南部PM2.5再度飆高！ 監測站「紫爆」等級數量攀升',\n",
       " '台獨大老史明驚傳昏迷 嘉義慈濟加護病房觀察',\n",
       " '北市聯合醫院成A級流感應變醫院，假日加開類流感特別門診！',\n",
       " '醣化終產物危害多 小心慢性發炎與老化',\n",
       " '不沾鍋、鋁鍋真的安全嗎？想吃得安心，你一定要知道的6種鍋具小知識',\n",
       " '腸病毒71型恐流行 疾管署「警戒水位」危機監控',\n",
       " '中秋連假不舒服，哪裡還能看醫生？快記下這2個實用小工具，就不怕白跑一趟啦',\n",
       " '別再吃布丁啦！市售布丁含糖量嚇死人，看完以後你還敢碰某款超商點心嗎？',\n",
       " '胸大別跑！中國醫師：跑步是很經濟的健身運動，但有6種人不宜！']"
      ]
     },
     "metadata": {},
     "execution_count": 6
    }
   ],
   "source": [
    "# 文章中的標題則是包覆在class為’h3’的物件中\n",
    "# 從標題區塊list中, 找出<h3>...</h3>標籤內的標題文字\n",
    "titles = [t.find('h3').text for t in title]\n",
    "titles"
   ]
  },
  {
   "cell_type": "code",
   "execution_count": 7,
   "metadata": {},
   "outputs": [
    {
     "output_type": "execute_result",
     "data": {
      "text/plain": [
       "['https://www.setn.com/News.aspx?NewsID=918315',\n",
       " 'https://www.storm.mg/lifestyle/397353',\n",
       " 'https://www.storm.mg/lifestyle/262763',\n",
       " 'https://www.storm.mg/lifestyle/219085',\n",
       " 'https://www.storm.mg/article/68301?page=1',\n",
       " 'https://www.storm.mg/lifestyle/389178',\n",
       " 'https://www.storm.mg/article/439205',\n",
       " 'https://www.storm.mg/lifestyle/399204',\n",
       " 'https://www.storm.mg/lifestyle/236109',\n",
       " 'https://www.storm.mg/article/95406',\n",
       " 'https://www.storm.mg/lifestyle/216089',\n",
       " 'https://www.storm.mg/lifestyle/160081',\n",
       " 'https://www.storm.mg/lifestyle/626495?page=1',\n",
       " 'https://www.storm.mg/article/125054',\n",
       " 'https://www.storm.mg/lifestyle/401449',\n",
       " 'https://www.storm.mg/lifestyle/203073',\n",
       " 'https://www.storm.mg/lifestyle/344061',\n",
       " 'https://www.storm.mg/lifestyle/336866',\n",
       " 'https://www.storm.mg/lifestyle/304655',\n",
       " 'https://www.storm.mg/lifestyle/117888',\n",
       " 'https://www.storm.mg/lifestyle/279126',\n",
       " 'https://www.storm.mg/lifestyle/374340',\n",
       " 'https://www.storm.mg/article/52581',\n",
       " 'https://www.storm.mg/lifestyle/238490',\n",
       " 'https://news.ltn.com.tw/news/life/breakingnews/1564439',\n",
       " 'https://news.ltn.com.tw/news/life/breakingnews/1159057',\n",
       " 'https://www.storm.mg/article/97811',\n",
       " 'https://www.storm.mg/lifestyle/200992',\n",
       " 'https://www.storm.mg/article/217511',\n",
       " 'https://www.storm.mg/lifestyle/214714',\n",
       " 'https://www.storm.mg/lifestyle/220276',\n",
       " 'https://www.storm.mg/lifestyle/236299',\n",
       " 'https://www.storm.mg/lifestyle/293576?page=1',\n",
       " 'https://www.storm.mg/lifestyle/398711',\n",
       " 'https://www.storm.mg/lifestyle/195034',\n",
       " 'https://www.storm.mg/lifestyle/116113',\n",
       " 'https://www.storm.mg/lifestyle/355895',\n",
       " 'https://www.storm.mg/lifestyle/332828',\n",
       " 'https://www.storm.mg/article/68549',\n",
       " 'https://www.storm.mg/lifestyle/334875',\n",
       " 'https://www.storm.mg/lifestyle/172347',\n",
       " 'https://www.storm.mg/lifestyle/339189',\n",
       " 'https://www.storm.mg/lifestyle/353525',\n",
       " 'https://www.storm.mg/lifestyle/355745',\n",
       " 'https://news.ltn.com.tw/news/life/breakingnews/1584994',\n",
       " 'https://news.ltn.com.tw/news/world/breakingnews/1147024',\n",
       " 'https://www.storm.mg/lifestyle/350624',\n",
       " 'https://www.storm.mg/lifestyle/335922',\n",
       " 'https://www.storm.mg/lifestyle/270347',\n",
       " 'https://www.storm.mg/lifestyle/51669',\n",
       " 'https://www.storm.mg/lifestyle/239493',\n",
       " 'https://www.storm.mg/lifestyle/214184',\n",
       " 'https://www.storm.mg/article/161977',\n",
       " 'https://www.storm.mg/lifestyle/145140',\n",
       " 'https://www.storm.mg/article/73185',\n",
       " 'https://news.ltn.com.tw/news/life/breakingnews/1554244',\n",
       " 'https://www.storm.mg/lifestyle/125296',\n",
       " 'https://www.storm.mg/localarticle/264334',\n",
       " 'https://www.storm.mg/article/53403',\n",
       " 'https://www.storm.mg/article/66384',\n",
       " 'https://www.storm.mg/lifestyle/129828?page=1',\n",
       " 'https://www.storm.mg/article/73764',\n",
       " 'https://www.storm.mg/article/75722',\n",
       " 'https://www.storm.mg/article/84356',\n",
       " 'https://www.storm.mg/localarticle/85432',\n",
       " 'https://www.storm.mg/lifestyle/100156',\n",
       " 'https://www.storm.mg/article/102114',\n",
       " 'https://www.storm.mg/lifestyle/165807',\n",
       " 'https://www.storm.mg/lifestyle/151983',\n",
       " 'https://www.storm.mg/lifestyle/187451']"
      ]
     },
     "metadata": {},
     "execution_count": 7
    }
   ],
   "source": [
    "# 找出新聞標題所對應的新聞文章資料來源\n",
    "newUrls = [requests.get(t.find('a')['href'].replace('.','https://news.google.com',1)).url for t in title] \n",
    "newUrls"
   ]
  },
  {
   "cell_type": "code",
   "execution_count": 8,
   "metadata": {},
   "outputs": [
    {
     "output_type": "execute_result",
     "data": {
      "text/plain": [
       "                                       title  \\\n",
       "0                   皮膚反映內臟健康！出現「5種變化」小心肝出問題了   \n",
       "1   喝酒都不會臉紅的人，代表肝功能很好？醫生打臉：灌了好幾杯還「面不改色」才要小心！   \n",
       "2      為何血糖低、頭暈時，吃巧克力和麵包沒有用？醫師的救急建議，人人都該記下來！   \n",
       "3            塗上乳液，全身還是乾癢到不行！皮膚科醫師5招對抗惱人「冬季癢」   \n",
       "4         2015年諾貝爾生理學或醫學獎得主揭曉 寄生蟲疾病新療法研發者摘桂冠   \n",
       "..                                       ...   \n",
       "65          不沾鍋、鋁鍋真的安全嗎？想吃得安心，你一定要知道的6種鍋具小知識   \n",
       "66                   腸病毒71型恐流行 疾管署「警戒水位」危機監控   \n",
       "67      中秋連假不舒服，哪裡還能看醫生？快記下這2個實用小工具，就不怕白跑一趟啦   \n",
       "68        別再吃布丁啦！市售布丁含糖量嚇死人，看完以後你還敢碰某款超商點心嗎？   \n",
       "69            胸大別跑！中國醫師：跑步是很經濟的健身運動，但有6種人不宜！   \n",
       "\n",
       "                                           links  \n",
       "0   https://www.setn.com/News.aspx?NewsID=918315  \n",
       "1          https://www.storm.mg/lifestyle/397353  \n",
       "2          https://www.storm.mg/lifestyle/262763  \n",
       "3          https://www.storm.mg/lifestyle/219085  \n",
       "4      https://www.storm.mg/article/68301?page=1  \n",
       "..                                           ...  \n",
       "65         https://www.storm.mg/lifestyle/100156  \n",
       "66           https://www.storm.mg/article/102114  \n",
       "67         https://www.storm.mg/lifestyle/165807  \n",
       "68         https://www.storm.mg/lifestyle/151983  \n",
       "69         https://www.storm.mg/lifestyle/187451  \n",
       "\n",
       "[70 rows x 2 columns]"
      ],
      "text/html": "<div>\n<style scoped>\n    .dataframe tbody tr th:only-of-type {\n        vertical-align: middle;\n    }\n\n    .dataframe tbody tr th {\n        vertical-align: top;\n    }\n\n    .dataframe thead th {\n        text-align: right;\n    }\n</style>\n<table border=\"1\" class=\"dataframe\">\n  <thead>\n    <tr style=\"text-align: right;\">\n      <th></th>\n      <th>title</th>\n      <th>links</th>\n    </tr>\n  </thead>\n  <tbody>\n    <tr>\n      <th>0</th>\n      <td>皮膚反映內臟健康！出現「5種變化」小心肝出問題了</td>\n      <td>https://www.setn.com/News.aspx?NewsID=918315</td>\n    </tr>\n    <tr>\n      <th>1</th>\n      <td>喝酒都不會臉紅的人，代表肝功能很好？醫生打臉：灌了好幾杯還「面不改色」才要小心！</td>\n      <td>https://www.storm.mg/lifestyle/397353</td>\n    </tr>\n    <tr>\n      <th>2</th>\n      <td>為何血糖低、頭暈時，吃巧克力和麵包沒有用？醫師的救急建議，人人都該記下來！</td>\n      <td>https://www.storm.mg/lifestyle/262763</td>\n    </tr>\n    <tr>\n      <th>3</th>\n      <td>塗上乳液，全身還是乾癢到不行！皮膚科醫師5招對抗惱人「冬季癢」</td>\n      <td>https://www.storm.mg/lifestyle/219085</td>\n    </tr>\n    <tr>\n      <th>4</th>\n      <td>2015年諾貝爾生理學或醫學獎得主揭曉 寄生蟲疾病新療法研發者摘桂冠</td>\n      <td>https://www.storm.mg/article/68301?page=1</td>\n    </tr>\n    <tr>\n      <th>...</th>\n      <td>...</td>\n      <td>...</td>\n    </tr>\n    <tr>\n      <th>65</th>\n      <td>不沾鍋、鋁鍋真的安全嗎？想吃得安心，你一定要知道的6種鍋具小知識</td>\n      <td>https://www.storm.mg/lifestyle/100156</td>\n    </tr>\n    <tr>\n      <th>66</th>\n      <td>腸病毒71型恐流行 疾管署「警戒水位」危機監控</td>\n      <td>https://www.storm.mg/article/102114</td>\n    </tr>\n    <tr>\n      <th>67</th>\n      <td>中秋連假不舒服，哪裡還能看醫生？快記下這2個實用小工具，就不怕白跑一趟啦</td>\n      <td>https://www.storm.mg/lifestyle/165807</td>\n    </tr>\n    <tr>\n      <th>68</th>\n      <td>別再吃布丁啦！市售布丁含糖量嚇死人，看完以後你還敢碰某款超商點心嗎？</td>\n      <td>https://www.storm.mg/lifestyle/151983</td>\n    </tr>\n    <tr>\n      <th>69</th>\n      <td>胸大別跑！中國醫師：跑步是很經濟的健身運動，但有6種人不宜！</td>\n      <td>https://www.storm.mg/lifestyle/187451</td>\n    </tr>\n  </tbody>\n</table>\n<p>70 rows × 2 columns</p>\n</div>"
     },
     "metadata": {},
     "execution_count": 8
    }
   ],
   "source": [
    "df = pd.DataFrame({'title': titles,'links': newUrls})\n",
    "df"
   ]
  },
  {
   "cell_type": "code",
   "execution_count": 10,
   "metadata": {},
   "outputs": [
    {
     "output_type": "stream",
     "name": "stdout",
     "text": [
      "https://www.storm.mg/article/68301?page=1\n\n?\n人氣\n\n現正熱映中\n熱門新聞\n熱門分享\n2015年「諾貝爾熱季」5日正式展開，首先登場的是諾貝爾生理學或醫學獎（Nobel Prize in Physiology or Medicine，通稱醫學獎），由愛爾蘭裔美國科學家坎貝爾（William C. Campbell）、日本科學家大村智、中國科學家屠呦呦同膺殊榮，共享800萬瑞典克朗（SEK，約新台幣3120萬元）獎金，頒獎儀式將於12月10日在瑞典首都斯德哥爾摩（Stockholm）舉行。\n★一手掌握熱門話題\n坎貝爾與大村智的得獎理由是發現「線蟲動物門」（nematodes，roundworms）寄生蟲相關疾病的新療法，平分400萬瑞典克朗獎金。屠呦呦得獎理由是發現瘧疾（瘧原蟲引起，也是一種寄生蟲傳染病）的新療法，獨得400萬瑞典克朗獎金。屠呦呦是第一位榮膺諾貝爾生理學或醫學獎的華人，更是第一位女性華人諾貝爾獎得主。\n坎貝爾現年85歲，生於愛爾蘭北部的拉梅爾頓（Ramelton），畢業於都柏林大學三一學院（Trinity College, University of Dublin），負笈美國威斯康辛大學麥迪遜分校（University of Wisconsin–Madison）取得博士學位，目前是新澤西州德魯大學（Drew University）榮譽研究員。\n大村智現年80歲，生於日本山梨縣韮崎市，東京大學藥學博士，東京理科大學理學博士，現任北里大學特別名譽教授，日本學士院會員。運用遺傳工程創造新化合物的世界第一人，是伊維菌素（Ivermectin）的發現者、阿維菌素（Avermectins）的開發者，曾被日本譽為「拯救2億人口生命的化學家」。\n大村智是繼利根川進、山中伸彌之後的第3位獲得諾貝爾生理學或醫學獎的日本人，繼去年3位日本人獲得物理學獎後，如果計入日裔美籍的芝加哥大學名譽教授南部陽一郎，日本的諾貝爾獎獲獎者人數已經達到23人。\n屠呦呦現年84歲，生於浙江寧波，北京醫學院（今北京大學醫學部）畢業，一直在中國中醫研究院（2005年更名為中國中醫科學院）工作，現為中國中醫科學院終身研究員兼首席研究員、青蒿素研究開發中心主任。屠呦呦多年從事中藥和中西藥結合研究，最突出貢獻是創製新型抗瘧藥青蒿素（Artemisinin）和雙氫青蒿素（Dihydroartemisinin），2011年9月榮獲被譽為諾貝爾獎「風向標」的拉斯克獎（Lasker Award），也是華裔第一人。\n但諷刺的是，屠呦呦在中國被稱為「三無學者」：既無博士學位、也無海外留學背景，更無兩院院士頭銜。連新華網、中央電視台等官媒都質疑，為什麼屠呦呦的成就長期被自家同胞忽視，卻能夠成為歷來第12位（不計達賴喇嘛）華裔諾貝爾獎得主？\n最近三則報導\n喜歡這篇文章嗎？\n請閻紀宇喝杯咖啡，\n告訴我這篇文章寫得真棒！\n相關報導\n今日精選\n本週最多人贊助文章\n劉燕婷觀點：被反中消費的新疆，被外行出征的學者\n\n\n劉燕婷\n\n2020-02-02 07:10\n\n老闆被罷免轉行送餐日掙928元　他還是不懂「外送員為何討厭韓國瑜」\n\n\n林庭瑤\n\n2021-03-23 08:30\n\n世界時光走廊》日據台灣珍稀影像系列（5）：臺灣歷史最駭人的紀實畫面\n\n\n徐宗懋圖文館\n\n2020-12-27 09:10\n\n五角大廈前高官透露「共軍犯台」兵推結果：開戰數分鐘內台灣空軍遭殲滅，美軍不見得能扭轉戰局\n\n\n李忠謙\n\n2021-03-30 12:10\n\n冬奧後共軍就動手？軍事專家頻示警　易攻難守的澎湖會是台灣最大罩門？\n\n\n晏明強\n\n2021-03-25 08:40\n\n華爾街日報》股市最熱趨勢「SPAC」到底是如何運作的？\n\n\n華爾街日報\n\n\nPeter Santilli\n\n\nAmrith Ramkumar\n\n2021-03-31 10:32\n\n長賜輪終於脫困，誰該為損失買單？\n\n\n德國之聲\n\n2021-03-31 10:10\n\n分裂的世界！各國政府與航空公司搶觀光業救命符  疫苗護照有效性卻遭質疑\n\n\n廖綉玉\n\n2021-03-31 09:00\n\n「強暴你是因為把你當女生」日本修法擴大性犯罪受害適用對象　LGBT受害者仍感受警方歧視\n\n\n詹如玉\n\n2021-03-31 08:10\n\n徐勉生觀點：巴拉圭邦交的隱憂與解方\n\n\n徐勉生\n\n2021-03-31 07:10\n\n陳國祥觀點：蘇伊士運河不要變成台灣前景的噩夢\n\n\n陳國祥\n\n2021-03-31 07:00\n\n林建山專欄：被美元綁架的世界經濟\n\n\n林建山\n\n2021-03-31 06:50\n\n汪志雄觀點：中美角力，小英政府待命衝鋒\n\n\n汪志雄\n\n2021-03-31 06:40\n\n汪葛雷觀點：一兵一卒都不派緬甸，美國真的肯替臺灣打仗？\n\n\n汪葛雷\n\n\n奔騰思潮\n\n2021-03-31 06:30\n\n呂紹煒專欄：美國與印度的相同點─膀胱不友好\n\n\n呂紹煒\n\n2021-03-31 06:20\n\n觀點投書：一個新疆，兩個世界\n\n\n陳觀樂\n\n2021-03-31 05:30\n\n不用升遷也能加薪！五原則讓你成為專家《三無世代》選摘(2)\n\n\n遠藤 功（ENDO ISAO）\n\n2021-03-31 04:50\n\n一國兩制．喪鐘再響》中國大改香港選制：確保「愛祖國者」掌握政權，徹底消除「顏色革命」風險\n\n\n國際中心\n\n2021-03-30 23:08\n\n新冠疫苗不到一年就會失效！　77位科學家警告：需修改配方防堵變種病毒\n\n\n劉俞妗\n\n2021-03-30 21:30\n\n一場中國共產主義實驗的破滅：昔日脫貧致富楷模，華西村民為何冒雨擠兌\n\n\nBBC News 中文\n\n2021-03-30 20:40\n\n輝瑞疫苗與莫德納疫苗傳捷報！美國最新研究：民眾接種第一劑，感染風險即降低80%\n\n\n廖綉玉\n\n2021-03-30 19:30\n\n歐美疫苗太貴、COVAX分配太慢　古巴研發新冠疫苗展開「大外宣」\n\n\n簡恒宇\n\n2021-03-30 18:30\n\n日本車廠好慘！車用晶片大廠瑞薩因火災停產，日本經濟產業大臣請台灣幫幫忙\n\n\n國際中心\n\n2021-03-30 17:51\n\n北韓屢射飛彈挨批：金正恩胞妹罵文在寅「厚顏無恥」，白宮稱拜登無意舉行「拜金會」\n\n\n李忠謙\n\n2021-03-30 17:40\n\n說好的抵制呢？中國拒買洋貨僅三天熱度，H&M、NIKE祭出折扣被搶購一空\n\n\n自由亞洲電台\n\n2021-03-30 16:40\n\n追蹤優質文章，給個讚！\n您已經閒置超過20分鐘了，看看最新的新聞吧？\n熱門新聞\n今日精選\n新聞\n評論\n財經\n生活\n華爾街日報\n新聞頻道\n關於我們\n廣告服務\n更多粉絲團\n更多社群\n地址：114 台北市內湖區瑞光路513巷37號4樓\n電子郵件地址：service@storm.mg\nCopyright © 2020 Storm Media Group All Rights Reserved. ◎未經授權．不得轉載\nLoading...\n系統錯誤\n第二行\n"
     ]
    }
   ],
   "source": [
    "#抓內文\n",
    "url = df['links'][4]\n",
    "print(url)\n",
    "r = requests.get(url)\n",
    "web_content = r.text\n",
    "soup = BeautifulSoup(web_content,'lxml')\n",
    "articleContent = soup.find_all('p')\n",
    "articleContent\n",
    "# 將所有tag p中的text取出並放進list。\n",
    "article = []\n",
    "for p in articleContent:\n",
    "    article.append(p.text)\n",
    "    articleAll = '\\n'.join(article)\n",
    "print(articleAll)"
   ]
  },
  {
   "cell_type": "markdown",
   "metadata": {
    "colab_type": "text",
    "id": "__3l1Tc2OiFo"
   },
   "source": [
    "## HW"
   ]
  },
  {
   "cell_type": "markdown",
   "metadata": {
    "colab_type": "text",
    "id": "bXyBvv8ROiFo"
   },
   "source": [
    "1.[SF Salaries Dataset](https://www.kaggle.com/kaggle/sf-salaries) from Kaggle! Follow along and complete the tasks"
   ]
  },
  {
   "cell_type": "code",
   "execution_count": 2,
   "metadata": {},
   "outputs": [],
   "source": [
    "import numpy as np\n",
    "import pandas as pd"
   ]
  },
  {
   "cell_type": "code",
   "execution_count": 3,
   "metadata": {},
   "outputs": [
    {
     "output_type": "execute_result",
     "data": {
      "text/plain": [
       "            Id       EmployeeName  \\\n",
       "0            1     NATHANIEL FORD   \n",
       "1            2       GARY JIMENEZ   \n",
       "2            3     ALBERT PARDINI   \n",
       "3            4  CHRISTOPHER CHONG   \n",
       "4            5    PATRICK GARDNER   \n",
       "...        ...                ...   \n",
       "148649  148650      Roy I Tillery   \n",
       "148650  148651       Not provided   \n",
       "148651  148652       Not provided   \n",
       "148652  148653       Not provided   \n",
       "148653  148654          Joe Lopez   \n",
       "\n",
       "                                              JobTitle       BasePay  \\\n",
       "0       GENERAL MANAGER-METROPOLITAN TRANSIT AUTHORITY     167411.18   \n",
       "1                      CAPTAIN III (POLICE DEPARTMENT)     155966.02   \n",
       "2                      CAPTAIN III (POLICE DEPARTMENT)     212739.13   \n",
       "3                 WIRE ROPE CABLE MAINTENANCE MECHANIC       77916.0   \n",
       "4         DEPUTY CHIEF OF DEPARTMENT,(FIRE DEPARTMENT)      134401.6   \n",
       "...                                                ...           ...   \n",
       "148649                                       Custodian          0.00   \n",
       "148650                                    Not provided  Not Provided   \n",
       "148651                                    Not provided  Not Provided   \n",
       "148652                                    Not provided  Not Provided   \n",
       "148653                      Counselor, Log Cabin Ranch          0.00   \n",
       "\n",
       "         OvertimePay      OtherPay      Benefits   TotalPay  TotalPayBenefits  \\\n",
       "0                0.0     400184.25           NaN  567595.43         567595.43   \n",
       "1          245131.88     137811.38           NaN  538909.28         538909.28   \n",
       "2          106088.18       16452.6           NaN  335279.91         335279.91   \n",
       "3           56120.71      198306.9           NaN  332343.61         332343.61   \n",
       "4             9737.0     182234.59           NaN  326373.19         326373.19   \n",
       "...              ...           ...           ...        ...               ...   \n",
       "148649          0.00          0.00          0.00       0.00              0.00   \n",
       "148650  Not Provided  Not Provided  Not Provided       0.00              0.00   \n",
       "148651  Not Provided  Not Provided  Not Provided       0.00              0.00   \n",
       "148652  Not Provided  Not Provided  Not Provided       0.00              0.00   \n",
       "148653          0.00       -618.13          0.00    -618.13           -618.13   \n",
       "\n",
       "        Year  Notes         Agency Status  \n",
       "0       2011    NaN  San Francisco    NaN  \n",
       "1       2011    NaN  San Francisco    NaN  \n",
       "2       2011    NaN  San Francisco    NaN  \n",
       "3       2011    NaN  San Francisco    NaN  \n",
       "4       2011    NaN  San Francisco    NaN  \n",
       "...      ...    ...            ...    ...  \n",
       "148649  2014    NaN  San Francisco     PT  \n",
       "148650  2014    NaN  San Francisco    NaN  \n",
       "148651  2014    NaN  San Francisco    NaN  \n",
       "148652  2014    NaN  San Francisco    NaN  \n",
       "148653  2014    NaN  San Francisco     PT  \n",
       "\n",
       "[148654 rows x 13 columns]"
      ],
      "text/html": "<div>\n<style scoped>\n    .dataframe tbody tr th:only-of-type {\n        vertical-align: middle;\n    }\n\n    .dataframe tbody tr th {\n        vertical-align: top;\n    }\n\n    .dataframe thead th {\n        text-align: right;\n    }\n</style>\n<table border=\"1\" class=\"dataframe\">\n  <thead>\n    <tr style=\"text-align: right;\">\n      <th></th>\n      <th>Id</th>\n      <th>EmployeeName</th>\n      <th>JobTitle</th>\n      <th>BasePay</th>\n      <th>OvertimePay</th>\n      <th>OtherPay</th>\n      <th>Benefits</th>\n      <th>TotalPay</th>\n      <th>TotalPayBenefits</th>\n      <th>Year</th>\n      <th>Notes</th>\n      <th>Agency</th>\n      <th>Status</th>\n    </tr>\n  </thead>\n  <tbody>\n    <tr>\n      <th>0</th>\n      <td>1</td>\n      <td>NATHANIEL FORD</td>\n      <td>GENERAL MANAGER-METROPOLITAN TRANSIT AUTHORITY</td>\n      <td>167411.18</td>\n      <td>0.0</td>\n      <td>400184.25</td>\n      <td>NaN</td>\n      <td>567595.43</td>\n      <td>567595.43</td>\n      <td>2011</td>\n      <td>NaN</td>\n      <td>San Francisco</td>\n      <td>NaN</td>\n    </tr>\n    <tr>\n      <th>1</th>\n      <td>2</td>\n      <td>GARY JIMENEZ</td>\n      <td>CAPTAIN III (POLICE DEPARTMENT)</td>\n      <td>155966.02</td>\n      <td>245131.88</td>\n      <td>137811.38</td>\n      <td>NaN</td>\n      <td>538909.28</td>\n      <td>538909.28</td>\n      <td>2011</td>\n      <td>NaN</td>\n      <td>San Francisco</td>\n      <td>NaN</td>\n    </tr>\n    <tr>\n      <th>2</th>\n      <td>3</td>\n      <td>ALBERT PARDINI</td>\n      <td>CAPTAIN III (POLICE DEPARTMENT)</td>\n      <td>212739.13</td>\n      <td>106088.18</td>\n      <td>16452.6</td>\n      <td>NaN</td>\n      <td>335279.91</td>\n      <td>335279.91</td>\n      <td>2011</td>\n      <td>NaN</td>\n      <td>San Francisco</td>\n      <td>NaN</td>\n    </tr>\n    <tr>\n      <th>3</th>\n      <td>4</td>\n      <td>CHRISTOPHER CHONG</td>\n      <td>WIRE ROPE CABLE MAINTENANCE MECHANIC</td>\n      <td>77916.0</td>\n      <td>56120.71</td>\n      <td>198306.9</td>\n      <td>NaN</td>\n      <td>332343.61</td>\n      <td>332343.61</td>\n      <td>2011</td>\n      <td>NaN</td>\n      <td>San Francisco</td>\n      <td>NaN</td>\n    </tr>\n    <tr>\n      <th>4</th>\n      <td>5</td>\n      <td>PATRICK GARDNER</td>\n      <td>DEPUTY CHIEF OF DEPARTMENT,(FIRE DEPARTMENT)</td>\n      <td>134401.6</td>\n      <td>9737.0</td>\n      <td>182234.59</td>\n      <td>NaN</td>\n      <td>326373.19</td>\n      <td>326373.19</td>\n      <td>2011</td>\n      <td>NaN</td>\n      <td>San Francisco</td>\n      <td>NaN</td>\n    </tr>\n    <tr>\n      <th>...</th>\n      <td>...</td>\n      <td>...</td>\n      <td>...</td>\n      <td>...</td>\n      <td>...</td>\n      <td>...</td>\n      <td>...</td>\n      <td>...</td>\n      <td>...</td>\n      <td>...</td>\n      <td>...</td>\n      <td>...</td>\n      <td>...</td>\n    </tr>\n    <tr>\n      <th>148649</th>\n      <td>148650</td>\n      <td>Roy I Tillery</td>\n      <td>Custodian</td>\n      <td>0.00</td>\n      <td>0.00</td>\n      <td>0.00</td>\n      <td>0.00</td>\n      <td>0.00</td>\n      <td>0.00</td>\n      <td>2014</td>\n      <td>NaN</td>\n      <td>San Francisco</td>\n      <td>PT</td>\n    </tr>\n    <tr>\n      <th>148650</th>\n      <td>148651</td>\n      <td>Not provided</td>\n      <td>Not provided</td>\n      <td>Not Provided</td>\n      <td>Not Provided</td>\n      <td>Not Provided</td>\n      <td>Not Provided</td>\n      <td>0.00</td>\n      <td>0.00</td>\n      <td>2014</td>\n      <td>NaN</td>\n      <td>San Francisco</td>\n      <td>NaN</td>\n    </tr>\n    <tr>\n      <th>148651</th>\n      <td>148652</td>\n      <td>Not provided</td>\n      <td>Not provided</td>\n      <td>Not Provided</td>\n      <td>Not Provided</td>\n      <td>Not Provided</td>\n      <td>Not Provided</td>\n      <td>0.00</td>\n      <td>0.00</td>\n      <td>2014</td>\n      <td>NaN</td>\n      <td>San Francisco</td>\n      <td>NaN</td>\n    </tr>\n    <tr>\n      <th>148652</th>\n      <td>148653</td>\n      <td>Not provided</td>\n      <td>Not provided</td>\n      <td>Not Provided</td>\n      <td>Not Provided</td>\n      <td>Not Provided</td>\n      <td>Not Provided</td>\n      <td>0.00</td>\n      <td>0.00</td>\n      <td>2014</td>\n      <td>NaN</td>\n      <td>San Francisco</td>\n      <td>NaN</td>\n    </tr>\n    <tr>\n      <th>148653</th>\n      <td>148654</td>\n      <td>Joe Lopez</td>\n      <td>Counselor, Log Cabin Ranch</td>\n      <td>0.00</td>\n      <td>0.00</td>\n      <td>-618.13</td>\n      <td>0.00</td>\n      <td>-618.13</td>\n      <td>-618.13</td>\n      <td>2014</td>\n      <td>NaN</td>\n      <td>San Francisco</td>\n      <td>PT</td>\n    </tr>\n  </tbody>\n</table>\n<p>148654 rows × 13 columns</p>\n</div>"
     },
     "metadata": {},
     "execution_count": 3
    }
   ],
   "source": [
    "df = pd.read_csv('data/Salaries.csv')\n",
    "df"
   ]
  },
  {
   "cell_type": "markdown",
   "metadata": {
    "colab_type": "text",
    "id": "QTDHNl6POiFt"
   },
   "source": [
    "**Check the head of DataFrame**"
   ]
  },
  {
   "cell_type": "code",
   "execution_count": 4,
   "metadata": {
    "colab": {},
    "colab_type": "code",
    "id": "CcgKvilDOiFu",
    "outputId": "6d8c0e5d-ce86-4e19-9a7a-92f6482b5572"
   },
   "outputs": [
    {
     "output_type": "execute_result",
     "data": {
      "text/plain": [
       "   Id       EmployeeName                                        JobTitle  \\\n",
       "0   1     NATHANIEL FORD  GENERAL MANAGER-METROPOLITAN TRANSIT AUTHORITY   \n",
       "1   2       GARY JIMENEZ                 CAPTAIN III (POLICE DEPARTMENT)   \n",
       "2   3     ALBERT PARDINI                 CAPTAIN III (POLICE DEPARTMENT)   \n",
       "3   4  CHRISTOPHER CHONG            WIRE ROPE CABLE MAINTENANCE MECHANIC   \n",
       "4   5    PATRICK GARDNER    DEPUTY CHIEF OF DEPARTMENT,(FIRE DEPARTMENT)   \n",
       "\n",
       "     BasePay OvertimePay   OtherPay Benefits   TotalPay  TotalPayBenefits  \\\n",
       "0  167411.18         0.0  400184.25      NaN  567595.43         567595.43   \n",
       "1  155966.02   245131.88  137811.38      NaN  538909.28         538909.28   \n",
       "2  212739.13   106088.18    16452.6      NaN  335279.91         335279.91   \n",
       "3    77916.0    56120.71   198306.9      NaN  332343.61         332343.61   \n",
       "4   134401.6      9737.0  182234.59      NaN  326373.19         326373.19   \n",
       "\n",
       "   Year  Notes         Agency Status  \n",
       "0  2011    NaN  San Francisco    NaN  \n",
       "1  2011    NaN  San Francisco    NaN  \n",
       "2  2011    NaN  San Francisco    NaN  \n",
       "3  2011    NaN  San Francisco    NaN  \n",
       "4  2011    NaN  San Francisco    NaN  "
      ],
      "text/html": "<div>\n<style scoped>\n    .dataframe tbody tr th:only-of-type {\n        vertical-align: middle;\n    }\n\n    .dataframe tbody tr th {\n        vertical-align: top;\n    }\n\n    .dataframe thead th {\n        text-align: right;\n    }\n</style>\n<table border=\"1\" class=\"dataframe\">\n  <thead>\n    <tr style=\"text-align: right;\">\n      <th></th>\n      <th>Id</th>\n      <th>EmployeeName</th>\n      <th>JobTitle</th>\n      <th>BasePay</th>\n      <th>OvertimePay</th>\n      <th>OtherPay</th>\n      <th>Benefits</th>\n      <th>TotalPay</th>\n      <th>TotalPayBenefits</th>\n      <th>Year</th>\n      <th>Notes</th>\n      <th>Agency</th>\n      <th>Status</th>\n    </tr>\n  </thead>\n  <tbody>\n    <tr>\n      <th>0</th>\n      <td>1</td>\n      <td>NATHANIEL FORD</td>\n      <td>GENERAL MANAGER-METROPOLITAN TRANSIT AUTHORITY</td>\n      <td>167411.18</td>\n      <td>0.0</td>\n      <td>400184.25</td>\n      <td>NaN</td>\n      <td>567595.43</td>\n      <td>567595.43</td>\n      <td>2011</td>\n      <td>NaN</td>\n      <td>San Francisco</td>\n      <td>NaN</td>\n    </tr>\n    <tr>\n      <th>1</th>\n      <td>2</td>\n      <td>GARY JIMENEZ</td>\n      <td>CAPTAIN III (POLICE DEPARTMENT)</td>\n      <td>155966.02</td>\n      <td>245131.88</td>\n      <td>137811.38</td>\n      <td>NaN</td>\n      <td>538909.28</td>\n      <td>538909.28</td>\n      <td>2011</td>\n      <td>NaN</td>\n      <td>San Francisco</td>\n      <td>NaN</td>\n    </tr>\n    <tr>\n      <th>2</th>\n      <td>3</td>\n      <td>ALBERT PARDINI</td>\n      <td>CAPTAIN III (POLICE DEPARTMENT)</td>\n      <td>212739.13</td>\n      <td>106088.18</td>\n      <td>16452.6</td>\n      <td>NaN</td>\n      <td>335279.91</td>\n      <td>335279.91</td>\n      <td>2011</td>\n      <td>NaN</td>\n      <td>San Francisco</td>\n      <td>NaN</td>\n    </tr>\n    <tr>\n      <th>3</th>\n      <td>4</td>\n      <td>CHRISTOPHER CHONG</td>\n      <td>WIRE ROPE CABLE MAINTENANCE MECHANIC</td>\n      <td>77916.0</td>\n      <td>56120.71</td>\n      <td>198306.9</td>\n      <td>NaN</td>\n      <td>332343.61</td>\n      <td>332343.61</td>\n      <td>2011</td>\n      <td>NaN</td>\n      <td>San Francisco</td>\n      <td>NaN</td>\n    </tr>\n    <tr>\n      <th>4</th>\n      <td>5</td>\n      <td>PATRICK GARDNER</td>\n      <td>DEPUTY CHIEF OF DEPARTMENT,(FIRE DEPARTMENT)</td>\n      <td>134401.6</td>\n      <td>9737.0</td>\n      <td>182234.59</td>\n      <td>NaN</td>\n      <td>326373.19</td>\n      <td>326373.19</td>\n      <td>2011</td>\n      <td>NaN</td>\n      <td>San Francisco</td>\n      <td>NaN</td>\n    </tr>\n  </tbody>\n</table>\n</div>"
     },
     "metadata": {},
     "execution_count": 4
    }
   ],
   "source": [
    "# check the head of dataframe\n",
    "df.head(5)"
   ]
  },
  {
   "cell_type": "code",
   "execution_count": 5,
   "metadata": {},
   "outputs": [
    {
     "output_type": "execute_result",
     "data": {
      "text/plain": [
       "                  Id       TotalPay  TotalPayBenefits           Year  Notes\n",
       "count  148654.000000  148654.000000     148654.000000  148654.000000    0.0\n",
       "mean    74327.500000   74768.321972      93692.554811    2012.522643    NaN\n",
       "std     42912.857795   50517.005274      62793.533483       1.117538    NaN\n",
       "min         1.000000    -618.130000       -618.130000    2011.000000    NaN\n",
       "25%     37164.250000   36168.995000      44065.650000    2012.000000    NaN\n",
       "50%     74327.500000   71426.610000      92404.090000    2013.000000    NaN\n",
       "75%    111490.750000  105839.135000     132876.450000    2014.000000    NaN\n",
       "max    148654.000000  567595.430000     567595.430000    2014.000000    NaN"
      ],
      "text/html": "<div>\n<style scoped>\n    .dataframe tbody tr th:only-of-type {\n        vertical-align: middle;\n    }\n\n    .dataframe tbody tr th {\n        vertical-align: top;\n    }\n\n    .dataframe thead th {\n        text-align: right;\n    }\n</style>\n<table border=\"1\" class=\"dataframe\">\n  <thead>\n    <tr style=\"text-align: right;\">\n      <th></th>\n      <th>Id</th>\n      <th>TotalPay</th>\n      <th>TotalPayBenefits</th>\n      <th>Year</th>\n      <th>Notes</th>\n    </tr>\n  </thead>\n  <tbody>\n    <tr>\n      <th>count</th>\n      <td>148654.000000</td>\n      <td>148654.000000</td>\n      <td>148654.000000</td>\n      <td>148654.000000</td>\n      <td>0.0</td>\n    </tr>\n    <tr>\n      <th>mean</th>\n      <td>74327.500000</td>\n      <td>74768.321972</td>\n      <td>93692.554811</td>\n      <td>2012.522643</td>\n      <td>NaN</td>\n    </tr>\n    <tr>\n      <th>std</th>\n      <td>42912.857795</td>\n      <td>50517.005274</td>\n      <td>62793.533483</td>\n      <td>1.117538</td>\n      <td>NaN</td>\n    </tr>\n    <tr>\n      <th>min</th>\n      <td>1.000000</td>\n      <td>-618.130000</td>\n      <td>-618.130000</td>\n      <td>2011.000000</td>\n      <td>NaN</td>\n    </tr>\n    <tr>\n      <th>25%</th>\n      <td>37164.250000</td>\n      <td>36168.995000</td>\n      <td>44065.650000</td>\n      <td>2012.000000</td>\n      <td>NaN</td>\n    </tr>\n    <tr>\n      <th>50%</th>\n      <td>74327.500000</td>\n      <td>71426.610000</td>\n      <td>92404.090000</td>\n      <td>2013.000000</td>\n      <td>NaN</td>\n    </tr>\n    <tr>\n      <th>75%</th>\n      <td>111490.750000</td>\n      <td>105839.135000</td>\n      <td>132876.450000</td>\n      <td>2014.000000</td>\n      <td>NaN</td>\n    </tr>\n    <tr>\n      <th>max</th>\n      <td>148654.000000</td>\n      <td>567595.430000</td>\n      <td>567595.430000</td>\n      <td>2014.000000</td>\n      <td>NaN</td>\n    </tr>\n  </tbody>\n</table>\n</div>"
     },
     "metadata": {},
     "execution_count": 5
    }
   ],
   "source": [
    "df.describe()"
   ]
  },
  {
   "cell_type": "code",
   "execution_count": 6,
   "metadata": {},
   "outputs": [
    {
     "output_type": "stream",
     "name": "stdout",
     "text": [
      "<class 'pandas.core.frame.DataFrame'>\nRangeIndex: 148654 entries, 0 to 148653\nData columns (total 13 columns):\n #   Column            Non-Null Count   Dtype  \n---  ------            --------------   -----  \n 0   Id                148654 non-null  int64  \n 1   EmployeeName      148654 non-null  object \n 2   JobTitle          148654 non-null  object \n 3   BasePay           148049 non-null  object \n 4   OvertimePay       148654 non-null  object \n 5   OtherPay          148654 non-null  object \n 6   Benefits          112495 non-null  object \n 7   TotalPay          148654 non-null  float64\n 8   TotalPayBenefits  148654 non-null  float64\n 9   Year              148654 non-null  int64  \n 10  Notes             0 non-null       float64\n 11  Agency            148654 non-null  object \n 12  Status            38119 non-null   object \ndtypes: float64(3), int64(2), object(8)\nmemory usage: 14.7+ MB\n"
     ]
    }
   ],
   "source": [
    "df.info()"
   ]
  },
  {
   "cell_type": "markdown",
   "metadata": {
    "colab_type": "text",
    "id": "zpTHDJxZOiFy"
   },
   "source": [
    "**What is the average BasePay ?**"
   ]
  },
  {
   "cell_type": "code",
   "execution_count": 43,
   "metadata": {},
   "outputs": [],
   "source": [
    "df['BasePay'] = pd.to_numeric(df['BasePay'],errors = 'coerce')"
   ]
  },
  {
   "cell_type": "code",
   "execution_count": 44,
   "metadata": {},
   "outputs": [
    {
     "output_type": "execute_result",
     "data": {
      "text/plain": [
       "66325.4488404877"
      ]
     },
     "metadata": {},
     "execution_count": 44
    }
   ],
   "source": [
    "df['BasePay'].mean()"
   ]
  },
  {
   "cell_type": "markdown",
   "metadata": {
    "colab_type": "text",
    "id": "ybyM8mMIOiF0"
   },
   "source": [
    "**What is the highest amount of OvertimePay in the dataset ?**"
   ]
  },
  {
   "cell_type": "code",
   "execution_count": 45,
   "metadata": {
    "colab": {},
    "colab_type": "code",
    "id": "16kmhO8IOiF0",
    "outputId": "eb455f10-0658-4a8b-e764-aee7abad0ff7"
   },
   "outputs": [],
   "source": [
    "df['OvertimePay'] = pd.to_numeric(df['OvertimePay'],errors = 'coerce')"
   ]
  },
  {
   "cell_type": "code",
   "execution_count": 46,
   "metadata": {},
   "outputs": [
    {
     "output_type": "execute_result",
     "data": {
      "text/plain": [
       "245131.88"
      ]
     },
     "metadata": {},
     "execution_count": 46
    }
   ],
   "source": [
    "df['OvertimePay'].max()"
   ]
  },
  {
   "cell_type": "markdown",
   "metadata": {
    "colab_type": "text",
    "id": "68tSNFdQOiF2"
   },
   "source": [
    "**(Hard) What was the average (mean) BasePay of all employees per year? (2011-2014) ?**"
   ]
  },
  {
   "cell_type": "code",
   "execution_count": 47,
   "metadata": {
    "colab": {},
    "colab_type": "code",
    "id": "pVqaRtn1OiF3",
    "outputId": "d907a76f-1fbc-49e9-8c72-e65411dcb255"
   },
   "outputs": [
    {
     "output_type": "execute_result",
     "data": {
      "text/plain": [
       "Year\n",
       "2011    63595.956517\n",
       "2012    65436.406857\n",
       "2013    69630.030216\n",
       "2014    66564.421924\n",
       "Name: BasePay, dtype: float64"
      ]
     },
     "metadata": {},
     "execution_count": 47
    }
   ],
   "source": [
    "df.groupby('Year')['BasePay'].mean()"
   ]
  },
  {
   "cell_type": "markdown",
   "metadata": {
    "colab_type": "text",
    "id": "GTFxQSUuOiF4"
   },
   "source": [
    "**(Hard) How many unique job titles are there?**"
   ]
  },
  {
   "cell_type": "code",
   "execution_count": 53,
   "metadata": {
    "colab": {},
    "colab_type": "code",
    "id": "9bIIEpbJOiF4",
    "outputId": "eafdb72d-6f8c-4786-e743-4eb249abc916"
   },
   "outputs": [
    {
     "output_type": "execute_result",
     "data": {
      "text/plain": [
       "array(['GENERAL MANAGER-METROPOLITAN TRANSIT AUTHORITY',\n",
       "       'CAPTAIN III (POLICE DEPARTMENT)',\n",
       "       'WIRE ROPE CABLE MAINTENANCE MECHANIC', ..., 'Conversion',\n",
       "       'Cashier 3', 'Not provided'], dtype=object)"
      ]
     },
     "metadata": {},
     "execution_count": 53
    }
   ],
   "source": [
    "df['JobTitle'].unique()"
   ]
  },
  {
   "cell_type": "code",
   "execution_count": 54,
   "metadata": {},
   "outputs": [
    {
     "output_type": "execute_result",
     "data": {
      "text/plain": [
       "2159"
      ]
     },
     "metadata": {},
     "execution_count": 54
    }
   ],
   "source": [
    "len(df['JobTitle'].unique())"
   ]
  },
  {
   "cell_type": "code",
   "execution_count": 5,
   "metadata": {},
   "outputs": [
    {
     "output_type": "execute_result",
     "data": {
      "text/plain": [
       "2159"
      ]
     },
     "metadata": {},
     "execution_count": 5
    }
   ],
   "source": [
    "#method2\n",
    "df['JobTitle'].nunique()"
   ]
  },
  {
   "cell_type": "code",
   "execution_count": null,
   "metadata": {},
   "outputs": [],
   "source": []
  }
 ],
 "metadata": {
  "colab": {
   "name": "04.ipynb",
   "provenance": []
  },
  "kernelspec": {
   "name": "python3",
   "display_name": "Python 3.8.2 64-bit",
   "metadata": {
    "interpreter": {
     "hash": "31f2aee4e71d21fbe5cf8b01ff0e069b9275f58929596ceb00d14d90e3e16cd6"
    }
   }
  },
  "language_info": {
   "codemirror_mode": {
    "name": "ipython",
    "version": 3
   },
   "file_extension": ".py",
   "mimetype": "text/x-python",
   "name": "python",
   "nbconvert_exporter": "python",
   "pygments_lexer": "ipython3",
   "version": "3.8.2"
  }
 },
 "nbformat": 4,
 "nbformat_minor": 1
}