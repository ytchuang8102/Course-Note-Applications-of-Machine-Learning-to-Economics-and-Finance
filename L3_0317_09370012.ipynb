{
 "metadata": {
  "language_info": {
   "codemirror_mode": {
    "name": "ipython",
    "version": 3
   },
   "file_extension": ".py",
   "mimetype": "text/x-python",
   "name": "python",
   "nbconvert_exporter": "python",
   "pygments_lexer": "ipython3",
   "version": "3.8.2-final"
  },
  "orig_nbformat": 2,
  "kernelspec": {
   "name": "python3",
   "display_name": "Python 3.8.2 64-bit",
   "metadata": {
    "interpreter": {
     "hash": "31f2aee4e71d21fbe5cf8b01ff0e069b9275f58929596ceb00d14d90e3e16cd6"
    }
   }
  }
 },
 "nbformat": 4,
 "nbformat_minor": 2,
 "cells": [
  {
   "source": [
    "### NumPy Array\n",
    "without index & label\n",
    "* Vectors: 1-d arrays 向量: 一維陣列 變數名稱`X`: `X[0]`, `X[1]`,`X[2]`,..., `X[n-1]`\n",
    "* Matrices: 2-d arrays 矩陣: 二維陣列 變數名稱`Xn×m`，`i` = 0, 1,..., n-1 與 `j` = 0, 1,..., m-1"
   ],
   "cell_type": "markdown",
   "metadata": {}
  },
  {
   "cell_type": "code",
   "execution_count": 1,
   "metadata": {},
   "outputs": [],
   "source": [
    "import numpy as np"
   ]
  },
  {
   "cell_type": "code",
   "execution_count": 10,
   "metadata": {},
   "outputs": [
    {
     "output_type": "execute_result",
     "data": {
      "text/plain": [
       "array([[1, 2, 3],\n",
       "       [4, 5, 6],\n",
       "       [7, 8, 9]])"
      ]
     },
     "metadata": {},
     "execution_count": 10
    }
   ],
   "source": [
    "a = np.array([[1,2,3],[4,5,6],[7,8,9]])\n",
    "a"
   ]
  },
  {
   "cell_type": "code",
   "execution_count": 11,
   "metadata": {},
   "outputs": [
    {
     "output_type": "execute_result",
     "data": {
      "text/plain": [
       "array([[ 1,  4,  9],\n",
       "       [16, 25, 36],\n",
       "       [49, 64, 81]])"
      ]
     },
     "metadata": {},
     "execution_count": 11
    }
   ],
   "source": [
    "a*a"
   ]
  },
  {
   "cell_type": "code",
   "execution_count": 12,
   "metadata": {},
   "outputs": [
    {
     "output_type": "execute_result",
     "data": {
      "text/plain": [
       "array([[1],\n",
       "       [2],\n",
       "       [3]])"
      ]
     },
     "metadata": {},
     "execution_count": 12
    }
   ],
   "source": [
    "b = np.array([[1],[2],[3]])\n",
    "b"
   ]
  },
  {
   "cell_type": "code",
   "execution_count": 13,
   "metadata": {},
   "outputs": [
    {
     "output_type": "execute_result",
     "data": {
      "text/plain": [
       "array([[ 1,  2,  3],\n",
       "       [ 8, 10, 12],\n",
       "       [21, 24, 27]])"
      ]
     },
     "metadata": {},
     "execution_count": 13
    }
   ],
   "source": [
    "a*b"
   ]
  },
  {
   "cell_type": "code",
   "execution_count": 14,
   "metadata": {},
   "outputs": [
    {
     "output_type": "execute_result",
     "data": {
      "text/plain": [
       "array([0, 1, 2, 3, 4, 5, 6, 7, 8, 9])"
      ]
     },
     "metadata": {},
     "execution_count": 14
    }
   ],
   "source": [
    "# Return evenly spaced values within a given interval, 建立相同等距的陣列\n",
    "# np.arrange(start, end, step), start及step可省略\n",
    "np.arange(0,10)"
   ]
  },
  {
   "cell_type": "code",
   "execution_count": 3,
   "metadata": {},
   "outputs": [
    {
     "output_type": "execute_result",
     "data": {
      "text/plain": [
       "array([ 0,  2,  4,  6,  8, 10])"
      ]
     },
     "metadata": {},
     "execution_count": 3
    }
   ],
   "source": [
    "np.arange(0,11,2)"
   ]
  },
  {
   "cell_type": "code",
   "execution_count": 4,
   "metadata": {},
   "outputs": [
    {
     "output_type": "execute_result",
     "data": {
      "text/plain": [
       "array([0., 0., 0.])"
      ]
     },
     "metadata": {},
     "execution_count": 4
    }
   ],
   "source": [
    "np.zeros(3)"
   ]
  },
  {
   "cell_type": "code",
   "execution_count": 5,
   "metadata": {},
   "outputs": [
    {
     "output_type": "execute_result",
     "data": {
      "text/plain": [
       "array([[1., 1., 1., 1., 1.],\n",
       "       [1., 1., 1., 1., 1.],\n",
       "       [1., 1., 1., 1., 1.],\n",
       "       [1., 1., 1., 1., 1.]])"
      ]
     },
     "metadata": {},
     "execution_count": 5
    }
   ],
   "source": [
    "\n",
    "np.ones((4,5)))"
   ]
  },
  {
   "cell_type": "code",
   "execution_count": 6,
   "metadata": {},
   "outputs": [
    {
     "output_type": "execute_result",
     "data": {
      "text/plain": [
       "array([[1., 0., 0., 0.],\n",
       "       [0., 1., 0., 0.],\n",
       "       [0., 0., 1., 0.],\n",
       "       [0., 0., 0., 1.]])"
      ]
     },
     "metadata": {},
     "execution_count": 6
    }
   ],
   "source": [
    "np.eye(4)"
   ]
  },
  {
   "cell_type": "code",
   "execution_count": 18,
   "metadata": {},
   "outputs": [
    {
     "output_type": "execute_result",
     "data": {
      "text/plain": [
       "array([[1., 0.],\n",
       "       [0., 4.]])"
      ]
     },
     "metadata": {},
     "execution_count": 18
    }
   ],
   "source": [
    "a = np.array([[1,2],[3,4]])\n",
    "b = np.eye(2)\n",
    "a*b"
   ]
  },
  {
   "cell_type": "code",
   "execution_count": 8,
   "metadata": {},
   "outputs": [
    {
     "output_type": "execute_result",
     "data": {
      "text/plain": [
       "array([0.        , 0.55555556, 1.11111111, 1.66666667, 2.22222222,\n",
       "       2.77777778, 3.33333333, 3.88888889, 4.44444444, 5.        ])"
      ]
     },
     "metadata": {},
     "execution_count": 8
    }
   ],
   "source": [
    "#在一定範圍內來均勻地撒點(起點,終點,撒點數)\n",
    "np.linspace(0,5,10)"
   ]
  },
  {
   "cell_type": "code",
   "execution_count": 19,
   "metadata": {},
   "outputs": [
    {
     "output_type": "execute_result",
     "data": {
      "text/plain": [
       "array([[0.73272889, 0.35530856],\n",
       "       [0.68881774, 0.16654471]])"
      ]
     },
     "metadata": {},
     "execution_count": 19
    }
   ],
   "source": [
    "# 隨機抽樣-均勻分配\n",
    "# np.random.rand(k, r), 從均勻分配[0, 1)間取出 r 組各個 k 個值, r預設為1\n",
    "\n",
    "np.random.rand(2,2)"
   ]
  },
  {
   "cell_type": "code",
   "execution_count": 20,
   "metadata": {},
   "outputs": [
    {
     "output_type": "execute_result",
     "data": {
      "text/plain": [
       "array([[ 0.18185876, -1.55919686, -0.17693236,  0.62847524, -1.07703785],\n",
       "       [-0.4896284 ,  2.91712215,  0.73767012, -0.6945694 ,  1.72360948],\n",
       "       [ 0.17379365, -1.00840438,  0.22268383, -1.37606136,  1.6788245 ],\n",
       "       [ 1.01541862,  0.52329026, -0.2081475 ,  1.07791584, -0.40690831],\n",
       "       [ 0.60947332, -0.5916771 ,  0.79148428,  1.80214587,  0.82819165]])"
      ]
     },
     "metadata": {},
     "execution_count": 20
    }
   ],
   "source": [
    "# 隨機抽樣-常態分配\n",
    "# np.random.randn(k, r), 從標準常態分配取出 r 組各 k 個值, r預設為1\n",
    "\n",
    "np.random.randn(5,5)"
   ]
  },
  {
   "cell_type": "code",
   "execution_count": 22,
   "metadata": {},
   "outputs": [
    {
     "output_type": "execute_result",
     "data": {
      "text/plain": [
       "array([19, 75, 18, 58, 95, 90, 80, 97, 46, 96,  4,  4, 60, 38, 78, 56, 10,\n",
       "       72, 80, 39, 91, 50, 92, 12, 68, 31, 81, 75, 38, 13, 31, 69, 20, 59,\n",
       "       23, 10, 91, 56, 42, 91, 98, 84, 66, 90, 50, 27, 73, 77, 80, 44,  3,\n",
       "       29, 24, 79, 67, 41, 20, 27, 65, 97,  5, 29, 25, 56, 84, 90, 43, 42,\n",
       "       13, 91, 83, 82, 29, 47, 49, 26, 19, 79, 63,  8, 10, 19, 89, 58, 25,\n",
       "       69, 83, 94, 35, 72, 25, 58, 14, 21, 16, 99, 94, 59, 43, 77])"
      ]
     },
     "metadata": {},
     "execution_count": 22
    }
   ],
   "source": [
    "#常態分配取整數\n",
    "# np.random.randn(start, end, n), 從start到end-1, 取n個值\n",
    "\n",
    "np.random.randint(1,100,100)"
   ]
  },
  {
   "cell_type": "code",
   "execution_count": 25,
   "metadata": {},
   "outputs": [
    {
     "output_type": "execute_result",
     "data": {
      "text/plain": [
       "array([30, 39, 31,  9, 11,  2,  4, 39, 49,  2])"
      ]
     },
     "metadata": {},
     "execution_count": 25
    }
   ],
   "source": [
    "# randint: return random integers from low (inclusive) to high (exclusive)\n",
    "\n",
    "ranarr = np.random.randint(0,50,10)\n",
    "ranarr"
   ]
  },
  {
   "cell_type": "code",
   "execution_count": 29,
   "metadata": {},
   "outputs": [
    {
     "output_type": "execute_result",
     "data": {
      "text/plain": [
       "49"
      ]
     },
     "metadata": {},
     "execution_count": 29
    }
   ],
   "source": [
    "#回傳最大值\n",
    "ranarr.max()"
   ]
  },
  {
   "cell_type": "code",
   "execution_count": 28,
   "metadata": {},
   "outputs": [
    {
     "output_type": "execute_result",
     "data": {
      "text/plain": [
       "8"
      ]
     },
     "metadata": {},
     "execution_count": 28
    }
   ],
   "source": [
    "#回傳最大值的index\n",
    "ranarr.argmax()"
   ]
  },
  {
   "cell_type": "code",
   "execution_count": 30,
   "metadata": {},
   "outputs": [
    {
     "output_type": "execute_result",
     "data": {
      "text/plain": [
       "216"
      ]
     },
     "metadata": {},
     "execution_count": 30
    }
   ],
   "source": [
    "ranarr.sum()"
   ]
  },
  {
   "cell_type": "code",
   "execution_count": 32,
   "metadata": {},
   "outputs": [
    {
     "output_type": "execute_result",
     "data": {
      "text/plain": [
       "array([5.47722558, 6.244998  , 5.56776436, 3.        , 3.31662479,\n",
       "       1.41421356, 2.        , 6.244998  , 7.        , 1.41421356])"
      ]
     },
     "metadata": {},
     "execution_count": 32
    }
   ],
   "source": [
    "# Square Roots\n",
    "np.sqrt(ranarr)"
   ]
  },
  {
   "source": [
    "## Pandas\n",
    "\n",
    "數據分析套件，提供了Series與DataFrame兩種主要的數據結構。Series 是用來處理時間序列相關的資料，它的結構類似有索引 (Index) 的一維陣列。DataFrame則是用來處理表格化的資料，是具有列和欄的二維陣列，類似關聯式資料庫 (Relational Database, RDB) 的形式。\n",
    "\n",
    "[Reference] <br/>\n",
    "Pandas https://pandas.pydata.org/pandas-docs/stable/user_guide/index.html"
   ],
   "cell_type": "markdown",
   "metadata": {}
  },
  {
   "cell_type": "code",
   "execution_count": 33,
   "metadata": {},
   "outputs": [],
   "source": [
    "import pandas as pd"
   ]
  },
  {
   "source": [
    "#### Series 一維陣列資料結構\n",
    "Series裡有兩個重要的屬性：索引鍵（index）和對應的值（values）。透過這兩個屬性可以取到Series裡的資料。\n",
    "- index：索引鍵。\n",
    "- values：值。"
   ],
   "cell_type": "markdown",
   "metadata": {}
  },
  {
   "cell_type": "code",
   "execution_count": 34,
   "metadata": {},
   "outputs": [
    {
     "output_type": "execute_result",
     "data": {
      "text/plain": [
       "USA        1\n",
       "Germany    2\n",
       "USSR       3\n",
       "Japan      4\n",
       "dtype: int64"
      ]
     },
     "metadata": {},
     "execution_count": 34
    }
   ],
   "source": [
    "ser = pd.Series([1,2,3,4],index = ['USA', 'Germany','USSR', 'Japan'])\n",
    "ser"
   ]
  },
  {
   "cell_type": "code",
   "execution_count": 35,
   "metadata": {},
   "outputs": [
    {
     "output_type": "execute_result",
     "data": {
      "text/plain": [
       "Index(['USA', 'Germany', 'USSR', 'Japan'], dtype='object')"
      ]
     },
     "metadata": {},
     "execution_count": 35
    }
   ],
   "source": [
    "ser.index"
   ]
  },
  {
   "cell_type": "code",
   "execution_count": 36,
   "metadata": {},
   "outputs": [
    {
     "output_type": "execute_result",
     "data": {
      "text/plain": [
       "4"
      ]
     },
     "metadata": {},
     "execution_count": 36
    }
   ],
   "source": [
    "ser['Japan']"
   ]
  },
  {
   "cell_type": "code",
   "execution_count": 37,
   "metadata": {},
   "outputs": [
    {
     "output_type": "execute_result",
     "data": {
      "text/plain": [
       "USA        2\n",
       "Germany    4\n",
       "USSR       6\n",
       "Japan      8\n",
       "dtype: int64"
      ]
     },
     "metadata": {},
     "execution_count": 37
    }
   ],
   "source": [
    "ser * 2"
   ]
  },
  {
   "cell_type": "code",
   "execution_count": 38,
   "metadata": {},
   "outputs": [
    {
     "output_type": "execute_result",
     "data": {
      "text/plain": [
       "Japan    4\n",
       "dtype: int64"
      ]
     },
     "metadata": {},
     "execution_count": 38
    }
   ],
   "source": [
    "ser[ser > 3]"
   ]
  },
  {
   "cell_type": "code",
   "execution_count": 39,
   "metadata": {},
   "outputs": [
    {
     "output_type": "execute_result",
     "data": {
      "text/plain": [
       "USA        False\n",
       "Germany    False\n",
       "USSR       False\n",
       "Japan      False\n",
       "dtype: bool"
      ]
     },
     "metadata": {},
     "execution_count": 39
    }
   ],
   "source": [
    "ser.isnull()"
   ]
  },
  {
   "cell_type": "code",
   "execution_count": 40,
   "metadata": {},
   "outputs": [
    {
     "output_type": "execute_result",
     "data": {
      "text/plain": [
       "0    1\n",
       "1    2\n",
       "2    3\n",
       "dtype: int64"
      ]
     },
     "metadata": {},
     "execution_count": 40
    }
   ],
   "source": [
    "series = pd.Series([1, 2, 3])\n",
    "series"
   ]
  },
  {
   "source": [
    "### 常用函數\n",
    "- len()\n",
    "- size()\n",
    "- count()\n",
    "- unique()\n",
    "- nunique()\n",
    "- value_counts()\n",
    "- sort_values()\n",
    "- sort_index()"
   ],
   "cell_type": "markdown",
   "metadata": {}
  },
  {
   "source": [
    "### Create an DataFrame\n",
    "\n",
    "`pd.DataFrame(data=None, index=None, columns=None)`\n",
    "\n",
    "#### DataFrame 二維陣列資料結構\n",
    "最基本的三個屬性包括：列索引鍵（index）、欄索引鍵（columns）和其值（values）"
   ],
   "cell_type": "markdown",
   "metadata": {}
  },
  {
   "cell_type": "code",
   "execution_count": 41,
   "metadata": {},
   "outputs": [
    {
     "output_type": "execute_result",
     "data": {
      "text/plain": [
       "          W         X         Y         Z\n",
       "A -0.533448  0.064446 -1.603483  0.926210\n",
       "B -1.775300  0.893145  1.257461 -1.285469\n",
       "C  1.588733  0.933704 -0.754416  1.066589\n",
       "D -0.343310  0.088166  0.663532  0.199944\n",
       "E -1.878127  2.031488 -1.457064  0.241868"
      ],
      "text/html": "<div>\n<style scoped>\n    .dataframe tbody tr th:only-of-type {\n        vertical-align: middle;\n    }\n\n    .dataframe tbody tr th {\n        vertical-align: top;\n    }\n\n    .dataframe thead th {\n        text-align: right;\n    }\n</style>\n<table border=\"1\" class=\"dataframe\">\n  <thead>\n    <tr style=\"text-align: right;\">\n      <th></th>\n      <th>W</th>\n      <th>X</th>\n      <th>Y</th>\n      <th>Z</th>\n    </tr>\n  </thead>\n  <tbody>\n    <tr>\n      <th>A</th>\n      <td>-0.533448</td>\n      <td>0.064446</td>\n      <td>-1.603483</td>\n      <td>0.926210</td>\n    </tr>\n    <tr>\n      <th>B</th>\n      <td>-1.775300</td>\n      <td>0.893145</td>\n      <td>1.257461</td>\n      <td>-1.285469</td>\n    </tr>\n    <tr>\n      <th>C</th>\n      <td>1.588733</td>\n      <td>0.933704</td>\n      <td>-0.754416</td>\n      <td>1.066589</td>\n    </tr>\n    <tr>\n      <th>D</th>\n      <td>-0.343310</td>\n      <td>0.088166</td>\n      <td>0.663532</td>\n      <td>0.199944</td>\n    </tr>\n    <tr>\n      <th>E</th>\n      <td>-1.878127</td>\n      <td>2.031488</td>\n      <td>-1.457064</td>\n      <td>0.241868</td>\n    </tr>\n  </tbody>\n</table>\n</div>"
     },
     "metadata": {},
     "execution_count": 41
    }
   ],
   "source": [
    "## randn(row, column): return a sample from the \"standard normal\" distribution. \n",
    "\n",
    "df = pd.DataFrame(np.random.randn(5,4),index='A B C D E'.split(),columns='W X Y Z'.split())\n",
    "df"
   ]
  },
  {
   "cell_type": "code",
   "execution_count": 42,
   "metadata": {},
   "outputs": [
    {
     "output_type": "stream",
     "name": "stdout",
     "text": [
      "<class 'pandas.core.frame.DataFrame'>\nIndex: 5 entries, A to E\nData columns (total 4 columns):\n #   Column  Non-Null Count  Dtype  \n---  ------  --------------  -----  \n 0   W       5 non-null      float64\n 1   X       5 non-null      float64\n 2   Y       5 non-null      float64\n 3   Z       5 non-null      float64\ndtypes: float64(4)\nmemory usage: 200.0+ bytes\n"
     ]
    }
   ],
   "source": [
    "#欄位資訊\n",
    "df.info()"
   ]
  },
  {
   "cell_type": "code",
   "execution_count": 43,
   "metadata": {},
   "outputs": [
    {
     "output_type": "execute_result",
     "data": {
      "text/plain": [
       "          W         X         Y         Z\n",
       "A -0.533448  0.064446 -1.603483  0.926210\n",
       "B -1.775300  0.893145  1.257461 -1.285469\n",
       "C  1.588733  0.933704 -0.754416  1.066589\n",
       "D -0.343310  0.088166  0.663532  0.199944\n",
       "E -1.878127  2.031488 -1.457064  0.241868"
      ],
      "text/html": "<div>\n<style scoped>\n    .dataframe tbody tr th:only-of-type {\n        vertical-align: middle;\n    }\n\n    .dataframe tbody tr th {\n        vertical-align: top;\n    }\n\n    .dataframe thead th {\n        text-align: right;\n    }\n</style>\n<table border=\"1\" class=\"dataframe\">\n  <thead>\n    <tr style=\"text-align: right;\">\n      <th></th>\n      <th>W</th>\n      <th>X</th>\n      <th>Y</th>\n      <th>Z</th>\n    </tr>\n  </thead>\n  <tbody>\n    <tr>\n      <th>A</th>\n      <td>-0.533448</td>\n      <td>0.064446</td>\n      <td>-1.603483</td>\n      <td>0.926210</td>\n    </tr>\n    <tr>\n      <th>B</th>\n      <td>-1.775300</td>\n      <td>0.893145</td>\n      <td>1.257461</td>\n      <td>-1.285469</td>\n    </tr>\n    <tr>\n      <th>C</th>\n      <td>1.588733</td>\n      <td>0.933704</td>\n      <td>-0.754416</td>\n      <td>1.066589</td>\n    </tr>\n    <tr>\n      <th>D</th>\n      <td>-0.343310</td>\n      <td>0.088166</td>\n      <td>0.663532</td>\n      <td>0.199944</td>\n    </tr>\n    <tr>\n      <th>E</th>\n      <td>-1.878127</td>\n      <td>2.031488</td>\n      <td>-1.457064</td>\n      <td>0.241868</td>\n    </tr>\n  </tbody>\n</table>\n</div>"
     },
     "metadata": {},
     "execution_count": 43
    }
   ],
   "source": [
    "#包含欄位名稱\n",
    "df.head()"
   ]
  },
  {
   "cell_type": "code",
   "execution_count": 44,
   "metadata": {},
   "outputs": [
    {
     "output_type": "execute_result",
     "data": {
      "text/plain": [
       "Index(['W', 'X', 'Y', 'Z'], dtype='object')"
      ]
     },
     "metadata": {},
     "execution_count": 44
    }
   ],
   "source": [
    "df.columns"
   ]
  },
  {
   "cell_type": "code",
   "execution_count": 45,
   "metadata": {},
   "outputs": [
    {
     "output_type": "execute_result",
     "data": {
      "text/plain": [
       "Index(['A', 'B', 'C', 'D', 'E'], dtype='object')"
      ]
     },
     "metadata": {},
     "execution_count": 45
    }
   ],
   "source": [
    "df.index"
   ]
  },
  {
   "cell_type": "code",
   "execution_count": 46,
   "metadata": {},
   "outputs": [
    {
     "output_type": "execute_result",
     "data": {
      "text/plain": [
       "              W         X         Y         Z\n",
       "count  5.000000  5.000000  5.000000  5.000000\n",
       "mean  -0.588290  0.802190 -0.378794  0.229828\n",
       "std    1.403133  0.804804  1.281347  0.933043\n",
       "min   -1.878127  0.064446 -1.603483 -1.285469\n",
       "25%   -1.775300  0.088166 -1.457064  0.199944\n",
       "50%   -0.533448  0.893145 -0.754416  0.241868\n",
       "75%   -0.343310  0.933704  0.663532  0.926210\n",
       "max    1.588733  2.031488  1.257461  1.066589"
      ],
      "text/html": "<div>\n<style scoped>\n    .dataframe tbody tr th:only-of-type {\n        vertical-align: middle;\n    }\n\n    .dataframe tbody tr th {\n        vertical-align: top;\n    }\n\n    .dataframe thead th {\n        text-align: right;\n    }\n</style>\n<table border=\"1\" class=\"dataframe\">\n  <thead>\n    <tr style=\"text-align: right;\">\n      <th></th>\n      <th>W</th>\n      <th>X</th>\n      <th>Y</th>\n      <th>Z</th>\n    </tr>\n  </thead>\n  <tbody>\n    <tr>\n      <th>count</th>\n      <td>5.000000</td>\n      <td>5.000000</td>\n      <td>5.000000</td>\n      <td>5.000000</td>\n    </tr>\n    <tr>\n      <th>mean</th>\n      <td>-0.588290</td>\n      <td>0.802190</td>\n      <td>-0.378794</td>\n      <td>0.229828</td>\n    </tr>\n    <tr>\n      <th>std</th>\n      <td>1.403133</td>\n      <td>0.804804</td>\n      <td>1.281347</td>\n      <td>0.933043</td>\n    </tr>\n    <tr>\n      <th>min</th>\n      <td>-1.878127</td>\n      <td>0.064446</td>\n      <td>-1.603483</td>\n      <td>-1.285469</td>\n    </tr>\n    <tr>\n      <th>25%</th>\n      <td>-1.775300</td>\n      <td>0.088166</td>\n      <td>-1.457064</td>\n      <td>0.199944</td>\n    </tr>\n    <tr>\n      <th>50%</th>\n      <td>-0.533448</td>\n      <td>0.893145</td>\n      <td>-0.754416</td>\n      <td>0.241868</td>\n    </tr>\n    <tr>\n      <th>75%</th>\n      <td>-0.343310</td>\n      <td>0.933704</td>\n      <td>0.663532</td>\n      <td>0.926210</td>\n    </tr>\n    <tr>\n      <th>max</th>\n      <td>1.588733</td>\n      <td>2.031488</td>\n      <td>1.257461</td>\n      <td>1.066589</td>\n    </tr>\n  </tbody>\n</table>\n</div>"
     },
     "metadata": {},
     "execution_count": 46
    }
   ],
   "source": [
    "#描述性統計資料\n",
    "df.describe()"
   ]
  },
  {
   "cell_type": "code",
   "execution_count": 47,
   "metadata": {},
   "outputs": [
    {
     "output_type": "execute_result",
     "data": {
      "text/plain": [
       "          W         X         Y         Z\n",
       "A -0.533448  0.064446 -1.603483  0.926210\n",
       "D -0.343310  0.088166  0.663532  0.199944\n",
       "B -1.775300  0.893145  1.257461 -1.285469\n",
       "C  1.588733  0.933704 -0.754416  1.066589\n",
       "E -1.878127  2.031488 -1.457064  0.241868"
      ],
      "text/html": "<div>\n<style scoped>\n    .dataframe tbody tr th:only-of-type {\n        vertical-align: middle;\n    }\n\n    .dataframe tbody tr th {\n        vertical-align: top;\n    }\n\n    .dataframe thead th {\n        text-align: right;\n    }\n</style>\n<table border=\"1\" class=\"dataframe\">\n  <thead>\n    <tr style=\"text-align: right;\">\n      <th></th>\n      <th>W</th>\n      <th>X</th>\n      <th>Y</th>\n      <th>Z</th>\n    </tr>\n  </thead>\n  <tbody>\n    <tr>\n      <th>A</th>\n      <td>-0.533448</td>\n      <td>0.064446</td>\n      <td>-1.603483</td>\n      <td>0.926210</td>\n    </tr>\n    <tr>\n      <th>D</th>\n      <td>-0.343310</td>\n      <td>0.088166</td>\n      <td>0.663532</td>\n      <td>0.199944</td>\n    </tr>\n    <tr>\n      <th>B</th>\n      <td>-1.775300</td>\n      <td>0.893145</td>\n      <td>1.257461</td>\n      <td>-1.285469</td>\n    </tr>\n    <tr>\n      <th>C</th>\n      <td>1.588733</td>\n      <td>0.933704</td>\n      <td>-0.754416</td>\n      <td>1.066589</td>\n    </tr>\n    <tr>\n      <th>E</th>\n      <td>-1.878127</td>\n      <td>2.031488</td>\n      <td>-1.457064</td>\n      <td>0.241868</td>\n    </tr>\n  </tbody>\n</table>\n</div>"
     },
     "metadata": {},
     "execution_count": 47
    }
   ],
   "source": [
    "#用X欄排序\n",
    "df.sort_values(by='X') "
   ]
  },
  {
   "cell_type": "code",
   "execution_count": 55,
   "metadata": {},
   "outputs": [
    {
     "output_type": "execute_result",
     "data": {
      "text/plain": [
       "           W         X         Y         Z\n",
       "CO -1.878127  2.031488 -1.457064  0.241868\n",
       "WY  1.588733  0.933704 -0.754416  1.066589\n",
       "NY -1.775300  0.893145  1.257461 -1.285469\n",
       "OR -0.343310  0.088166  0.663532  0.199944\n",
       "CA -0.533448  0.064446 -1.603483  0.926210"
      ],
      "text/html": "<div>\n<style scoped>\n    .dataframe tbody tr th:only-of-type {\n        vertical-align: middle;\n    }\n\n    .dataframe tbody tr th {\n        vertical-align: top;\n    }\n\n    .dataframe thead th {\n        text-align: right;\n    }\n</style>\n<table border=\"1\" class=\"dataframe\">\n  <thead>\n    <tr style=\"text-align: right;\">\n      <th></th>\n      <th>W</th>\n      <th>X</th>\n      <th>Y</th>\n      <th>Z</th>\n    </tr>\n  </thead>\n  <tbody>\n    <tr>\n      <th>CO</th>\n      <td>-1.878127</td>\n      <td>2.031488</td>\n      <td>-1.457064</td>\n      <td>0.241868</td>\n    </tr>\n    <tr>\n      <th>WY</th>\n      <td>1.588733</td>\n      <td>0.933704</td>\n      <td>-0.754416</td>\n      <td>1.066589</td>\n    </tr>\n    <tr>\n      <th>NY</th>\n      <td>-1.775300</td>\n      <td>0.893145</td>\n      <td>1.257461</td>\n      <td>-1.285469</td>\n    </tr>\n    <tr>\n      <th>OR</th>\n      <td>-0.343310</td>\n      <td>0.088166</td>\n      <td>0.663532</td>\n      <td>0.199944</td>\n    </tr>\n    <tr>\n      <th>CA</th>\n      <td>-0.533448</td>\n      <td>0.064446</td>\n      <td>-1.603483</td>\n      <td>0.926210</td>\n    </tr>\n  </tbody>\n</table>\n</div>"
     },
     "metadata": {},
     "execution_count": 55
    }
   ],
   "source": [
    "#倒序\n",
    "df.sort_values(by='X',ascending=False)"
   ]
  },
  {
   "cell_type": "code",
   "execution_count": 48,
   "metadata": {},
   "outputs": [
    {
     "output_type": "execute_result",
     "data": {
      "text/plain": [
       "          W         X         Y         Z       new\n",
       "A -0.533448  0.064446 -1.603483  0.926210 -2.136931\n",
       "B -1.775300  0.893145  1.257461 -1.285469 -0.517839\n",
       "C  1.588733  0.933704 -0.754416  1.066589  0.834317\n",
       "D -0.343310  0.088166  0.663532  0.199944  0.320222\n",
       "E -1.878127  2.031488 -1.457064  0.241868 -3.335191"
      ],
      "text/html": "<div>\n<style scoped>\n    .dataframe tbody tr th:only-of-type {\n        vertical-align: middle;\n    }\n\n    .dataframe tbody tr th {\n        vertical-align: top;\n    }\n\n    .dataframe thead th {\n        text-align: right;\n    }\n</style>\n<table border=\"1\" class=\"dataframe\">\n  <thead>\n    <tr style=\"text-align: right;\">\n      <th></th>\n      <th>W</th>\n      <th>X</th>\n      <th>Y</th>\n      <th>Z</th>\n      <th>new</th>\n    </tr>\n  </thead>\n  <tbody>\n    <tr>\n      <th>A</th>\n      <td>-0.533448</td>\n      <td>0.064446</td>\n      <td>-1.603483</td>\n      <td>0.926210</td>\n      <td>-2.136931</td>\n    </tr>\n    <tr>\n      <th>B</th>\n      <td>-1.775300</td>\n      <td>0.893145</td>\n      <td>1.257461</td>\n      <td>-1.285469</td>\n      <td>-0.517839</td>\n    </tr>\n    <tr>\n      <th>C</th>\n      <td>1.588733</td>\n      <td>0.933704</td>\n      <td>-0.754416</td>\n      <td>1.066589</td>\n      <td>0.834317</td>\n    </tr>\n    <tr>\n      <th>D</th>\n      <td>-0.343310</td>\n      <td>0.088166</td>\n      <td>0.663532</td>\n      <td>0.199944</td>\n      <td>0.320222</td>\n    </tr>\n    <tr>\n      <th>E</th>\n      <td>-1.878127</td>\n      <td>2.031488</td>\n      <td>-1.457064</td>\n      <td>0.241868</td>\n      <td>-3.335191</td>\n    </tr>\n  </tbody>\n</table>\n</div>"
     },
     "metadata": {},
     "execution_count": 48
    }
   ],
   "source": [
    "## create a new column\n",
    "df['new'] = df['W'] + df['Y']\n",
    "df"
   ]
  },
  {
   "cell_type": "code",
   "execution_count": 53,
   "metadata": {},
   "outputs": [
    {
     "output_type": "execute_result",
     "data": {
      "text/plain": [
       "          W         X         Y         Z\n",
       "A -0.533448  0.064446 -1.603483  0.926210\n",
       "B -1.775300  0.893145  1.257461 -1.285469\n",
       "C  1.588733  0.933704 -0.754416  1.066589\n",
       "D -0.343310  0.088166  0.663532  0.199944\n",
       "E -1.878127  2.031488 -1.457064  0.241868"
      ],
      "text/html": "<div>\n<style scoped>\n    .dataframe tbody tr th:only-of-type {\n        vertical-align: middle;\n    }\n\n    .dataframe tbody tr th {\n        vertical-align: top;\n    }\n\n    .dataframe thead th {\n        text-align: right;\n    }\n</style>\n<table border=\"1\" class=\"dataframe\">\n  <thead>\n    <tr style=\"text-align: right;\">\n      <th></th>\n      <th>W</th>\n      <th>X</th>\n      <th>Y</th>\n      <th>Z</th>\n    </tr>\n  </thead>\n  <tbody>\n    <tr>\n      <th>A</th>\n      <td>-0.533448</td>\n      <td>0.064446</td>\n      <td>-1.603483</td>\n      <td>0.926210</td>\n    </tr>\n    <tr>\n      <th>B</th>\n      <td>-1.775300</td>\n      <td>0.893145</td>\n      <td>1.257461</td>\n      <td>-1.285469</td>\n    </tr>\n    <tr>\n      <th>C</th>\n      <td>1.588733</td>\n      <td>0.933704</td>\n      <td>-0.754416</td>\n      <td>1.066589</td>\n    </tr>\n    <tr>\n      <th>D</th>\n      <td>-0.343310</td>\n      <td>0.088166</td>\n      <td>0.663532</td>\n      <td>0.199944</td>\n    </tr>\n    <tr>\n      <th>E</th>\n      <td>-1.878127</td>\n      <td>2.031488</td>\n      <td>-1.457064</td>\n      <td>0.241868</td>\n    </tr>\n  </tbody>\n</table>\n</div>"
     },
     "metadata": {},
     "execution_count": 53
    }
   ],
   "source": [
    "## drop column(axis=1)\n",
    "df.drop('new',axis=1,inplace = True) #一定要寫axis參數跟inplace 表永久置換，不然會以為是暫時的\n",
    "df"
   ]
  },
  {
   "cell_type": "code",
   "execution_count": 54,
   "metadata": {},
   "outputs": [
    {
     "output_type": "execute_result",
     "data": {
      "text/plain": [
       "           W         X         Y         Z\n",
       "CA -0.533448  0.064446 -1.603483  0.926210\n",
       "NY -1.775300  0.893145  1.257461 -1.285469\n",
       "WY  1.588733  0.933704 -0.754416  1.066589\n",
       "OR -0.343310  0.088166  0.663532  0.199944\n",
       "CO -1.878127  2.031488 -1.457064  0.241868"
      ],
      "text/html": "<div>\n<style scoped>\n    .dataframe tbody tr th:only-of-type {\n        vertical-align: middle;\n    }\n\n    .dataframe tbody tr th {\n        vertical-align: top;\n    }\n\n    .dataframe thead th {\n        text-align: right;\n    }\n</style>\n<table border=\"1\" class=\"dataframe\">\n  <thead>\n    <tr style=\"text-align: right;\">\n      <th></th>\n      <th>W</th>\n      <th>X</th>\n      <th>Y</th>\n      <th>Z</th>\n    </tr>\n  </thead>\n  <tbody>\n    <tr>\n      <th>CA</th>\n      <td>-0.533448</td>\n      <td>0.064446</td>\n      <td>-1.603483</td>\n      <td>0.926210</td>\n    </tr>\n    <tr>\n      <th>NY</th>\n      <td>-1.775300</td>\n      <td>0.893145</td>\n      <td>1.257461</td>\n      <td>-1.285469</td>\n    </tr>\n    <tr>\n      <th>WY</th>\n      <td>1.588733</td>\n      <td>0.933704</td>\n      <td>-0.754416</td>\n      <td>1.066589</td>\n    </tr>\n    <tr>\n      <th>OR</th>\n      <td>-0.343310</td>\n      <td>0.088166</td>\n      <td>0.663532</td>\n      <td>0.199944</td>\n    </tr>\n    <tr>\n      <th>CO</th>\n      <td>-1.878127</td>\n      <td>2.031488</td>\n      <td>-1.457064</td>\n      <td>0.241868</td>\n    </tr>\n  </tbody>\n</table>\n</div>"
     },
     "metadata": {},
     "execution_count": 54
    }
   ],
   "source": [
    "df.rename(index={'A':'CA', 'B':'NY', 'C':'WY', 'D':'OR', 'E':'CO'}, inplace=True)\n",
    "df"
   ]
  },
  {
   "source": [
    "### Selection\n",
    "\n",
    "列索引鍵取值, loc是location的縮寫, iloc是index location的縮寫\n",
    "\n",
    "* df.loc[row, col]\n",
    "* df.iloc[row, col]\n",
    "* df[col]\n",
    "* df[a:b]  使用row編號選取row\n",
    "* df[col][row]"
   ],
   "cell_type": "markdown",
   "metadata": {}
  },
  {
   "cell_type": "code",
   "execution_count": 56,
   "metadata": {},
   "outputs": [
    {
     "output_type": "execute_result",
     "data": {
      "text/plain": [
       "W   -0.533448\n",
       "X    0.064446\n",
       "Y   -1.603483\n",
       "Z    0.926210\n",
       "Name: CA, dtype: float64"
      ]
     },
     "metadata": {},
     "execution_count": 56
    }
   ],
   "source": [
    "# Use label to select row\n",
    "df.loc['CA']"
   ]
  },
  {
   "cell_type": "code",
   "execution_count": 57,
   "metadata": {},
   "outputs": [
    {
     "output_type": "execute_result",
     "data": {
      "text/plain": [
       "W    1.588733\n",
       "X    0.933704\n",
       "Y   -0.754416\n",
       "Z    1.066589\n",
       "Name: WY, dtype: float64"
      ]
     },
     "metadata": {},
     "execution_count": 57
    }
   ],
   "source": [
    "# Or use position to select row\n",
    "df.iloc[2]"
   ]
  },
  {
   "cell_type": "code",
   "execution_count": 58,
   "metadata": {},
   "outputs": [
    {
     "output_type": "execute_result",
     "data": {
      "text/plain": [
       "CA    0.926210\n",
       "NY   -1.285469\n",
       "WY    1.066589\n",
       "OR    0.199944\n",
       "CO    0.241868\n",
       "Name: Z, dtype: float64"
      ]
     },
     "metadata": {},
     "execution_count": 58
    }
   ],
   "source": [
    "df['Z']"
   ]
  },
  {
   "cell_type": "code",
   "execution_count": 59,
   "metadata": {},
   "outputs": [
    {
     "output_type": "execute_result",
     "data": {
      "text/plain": [
       "CA    0.926210\n",
       "NY   -1.285469\n",
       "WY    1.066589\n",
       "OR    0.199944\n",
       "CO    0.241868\n",
       "Name: Z, dtype: float64"
      ]
     },
     "metadata": {},
     "execution_count": 59
    }
   ],
   "source": [
    "df.Z"
   ]
  },
  {
   "cell_type": "code",
   "execution_count": 60,
   "metadata": {},
   "outputs": [
    {
     "output_type": "execute_result",
     "data": {
      "text/plain": [
       "           Z\n",
       "CA  0.926210\n",
       "NY -1.285469\n",
       "WY  1.066589\n",
       "OR  0.199944\n",
       "CO  0.241868"
      ],
      "text/html": "<div>\n<style scoped>\n    .dataframe tbody tr th:only-of-type {\n        vertical-align: middle;\n    }\n\n    .dataframe tbody tr th {\n        vertical-align: top;\n    }\n\n    .dataframe thead th {\n        text-align: right;\n    }\n</style>\n<table border=\"1\" class=\"dataframe\">\n  <thead>\n    <tr style=\"text-align: right;\">\n      <th></th>\n      <th>Z</th>\n    </tr>\n  </thead>\n  <tbody>\n    <tr>\n      <th>CA</th>\n      <td>0.926210</td>\n    </tr>\n    <tr>\n      <th>NY</th>\n      <td>-1.285469</td>\n    </tr>\n    <tr>\n      <th>WY</th>\n      <td>1.066589</td>\n    </tr>\n    <tr>\n      <th>OR</th>\n      <td>0.199944</td>\n    </tr>\n    <tr>\n      <th>CO</th>\n      <td>0.241868</td>\n    </tr>\n  </tbody>\n</table>\n</div>"
     },
     "metadata": {},
     "execution_count": 60
    }
   ],
   "source": [
    "df[['Z']]"
   ]
  },
  {
   "cell_type": "code",
   "execution_count": 65,
   "metadata": {},
   "outputs": [
    {
     "output_type": "execute_result",
     "data": {
      "text/plain": [
       "           W         X         Y         Z\n",
       "NY -1.775300  0.893145  1.257461 -1.285469\n",
       "WY  1.588733  0.933704 -0.754416  1.066589"
      ],
      "text/html": "<div>\n<style scoped>\n    .dataframe tbody tr th:only-of-type {\n        vertical-align: middle;\n    }\n\n    .dataframe tbody tr th {\n        vertical-align: top;\n    }\n\n    .dataframe thead th {\n        text-align: right;\n    }\n</style>\n<table border=\"1\" class=\"dataframe\">\n  <thead>\n    <tr style=\"text-align: right;\">\n      <th></th>\n      <th>W</th>\n      <th>X</th>\n      <th>Y</th>\n      <th>Z</th>\n    </tr>\n  </thead>\n  <tbody>\n    <tr>\n      <th>NY</th>\n      <td>-1.775300</td>\n      <td>0.893145</td>\n      <td>1.257461</td>\n      <td>-1.285469</td>\n    </tr>\n    <tr>\n      <th>WY</th>\n      <td>1.588733</td>\n      <td>0.933704</td>\n      <td>-0.754416</td>\n      <td>1.066589</td>\n    </tr>\n  </tbody>\n</table>\n</div>"
     },
     "metadata": {},
     "execution_count": 65
    }
   ],
   "source": [
    "df[1:3]"
   ]
  },
  {
   "cell_type": "code",
   "execution_count": 62,
   "metadata": {},
   "outputs": [
    {
     "output_type": "execute_result",
     "data": {
      "text/plain": [
       "-1.2854688847961937"
      ]
     },
     "metadata": {},
     "execution_count": 62
    }
   ],
   "source": [
    "df['Z']['NY']"
   ]
  },
  {
   "cell_type": "code",
   "execution_count": 68,
   "metadata": {},
   "outputs": [
    {
     "output_type": "execute_result",
     "data": {
      "text/plain": [
       "          W         X         Y         Z\n",
       "NY -1.77530  0.893145  1.257461 -1.285469\n",
       "OR -0.34331  0.088166  0.663532  0.199944"
      ],
      "text/html": "<div>\n<style scoped>\n    .dataframe tbody tr th:only-of-type {\n        vertical-align: middle;\n    }\n\n    .dataframe tbody tr th {\n        vertical-align: top;\n    }\n\n    .dataframe thead th {\n        text-align: right;\n    }\n</style>\n<table border=\"1\" class=\"dataframe\">\n  <thead>\n    <tr style=\"text-align: right;\">\n      <th></th>\n      <th>W</th>\n      <th>X</th>\n      <th>Y</th>\n      <th>Z</th>\n    </tr>\n  </thead>\n  <tbody>\n    <tr>\n      <th>NY</th>\n      <td>-1.77530</td>\n      <td>0.893145</td>\n      <td>1.257461</td>\n      <td>-1.285469</td>\n    </tr>\n    <tr>\n      <th>OR</th>\n      <td>-0.34331</td>\n      <td>0.088166</td>\n      <td>0.663532</td>\n      <td>0.199944</td>\n    </tr>\n  </tbody>\n</table>\n</div>"
     },
     "metadata": {},
     "execution_count": 68
    }
   ],
   "source": [
    "df[df['Y']>0]"
   ]
  },
  {
   "source": [
    "#### Missing data 遺失值\n",
    "NaN（Not a number）在Python是一個特殊的值，只能用函數來檢查，不能用等號檢查，即使用np.NaN == np.NaN都是False。"
   ],
   "cell_type": "markdown",
   "metadata": {}
  },
  {
   "cell_type": "code",
   "execution_count": 69,
   "metadata": {},
   "outputs": [
    {
     "output_type": "execute_result",
     "data": {
      "text/plain": [
       "           W         X         Y         Z    V\n",
       "CA -0.533448  0.064446 -1.603483  0.926210  1.0\n",
       "NY -1.775300  0.893145  1.257461 -1.285469  2.0\n",
       "WY  1.588733  0.933704 -0.754416  1.066589  NaN\n",
       "OR -0.343310  0.088166  0.663532  0.199944  NaN\n",
       "CO -1.878127  2.031488 -1.457064  0.241868  5.0"
      ],
      "text/html": "<div>\n<style scoped>\n    .dataframe tbody tr th:only-of-type {\n        vertical-align: middle;\n    }\n\n    .dataframe tbody tr th {\n        vertical-align: top;\n    }\n\n    .dataframe thead th {\n        text-align: right;\n    }\n</style>\n<table border=\"1\" class=\"dataframe\">\n  <thead>\n    <tr style=\"text-align: right;\">\n      <th></th>\n      <th>W</th>\n      <th>X</th>\n      <th>Y</th>\n      <th>Z</th>\n      <th>V</th>\n    </tr>\n  </thead>\n  <tbody>\n    <tr>\n      <th>CA</th>\n      <td>-0.533448</td>\n      <td>0.064446</td>\n      <td>-1.603483</td>\n      <td>0.926210</td>\n      <td>1.0</td>\n    </tr>\n    <tr>\n      <th>NY</th>\n      <td>-1.775300</td>\n      <td>0.893145</td>\n      <td>1.257461</td>\n      <td>-1.285469</td>\n      <td>2.0</td>\n    </tr>\n    <tr>\n      <th>WY</th>\n      <td>1.588733</td>\n      <td>0.933704</td>\n      <td>-0.754416</td>\n      <td>1.066589</td>\n      <td>NaN</td>\n    </tr>\n    <tr>\n      <th>OR</th>\n      <td>-0.343310</td>\n      <td>0.088166</td>\n      <td>0.663532</td>\n      <td>0.199944</td>\n      <td>NaN</td>\n    </tr>\n    <tr>\n      <th>CO</th>\n      <td>-1.878127</td>\n      <td>2.031488</td>\n      <td>-1.457064</td>\n      <td>0.241868</td>\n      <td>5.0</td>\n    </tr>\n  </tbody>\n</table>\n</div>"
     },
     "metadata": {},
     "execution_count": 69
    }
   ],
   "source": [
    "df['V'] = [1, 2, np.nan, np.nan, 5]\n",
    "df"
   ]
  },
  {
   "cell_type": "code",
   "execution_count": 70,
   "metadata": {},
   "outputs": [
    {
     "output_type": "execute_result",
     "data": {
      "text/plain": [
       "        W      X      Y      Z      V\n",
       "CA  False  False  False  False  False\n",
       "NY  False  False  False  False  False\n",
       "WY  False  False  False  False   True\n",
       "OR  False  False  False  False   True\n",
       "CO  False  False  False  False  False"
      ],
      "text/html": "<div>\n<style scoped>\n    .dataframe tbody tr th:only-of-type {\n        vertical-align: middle;\n    }\n\n    .dataframe tbody tr th {\n        vertical-align: top;\n    }\n\n    .dataframe thead th {\n        text-align: right;\n    }\n</style>\n<table border=\"1\" class=\"dataframe\">\n  <thead>\n    <tr style=\"text-align: right;\">\n      <th></th>\n      <th>W</th>\n      <th>X</th>\n      <th>Y</th>\n      <th>Z</th>\n      <th>V</th>\n    </tr>\n  </thead>\n  <tbody>\n    <tr>\n      <th>CA</th>\n      <td>False</td>\n      <td>False</td>\n      <td>False</td>\n      <td>False</td>\n      <td>False</td>\n    </tr>\n    <tr>\n      <th>NY</th>\n      <td>False</td>\n      <td>False</td>\n      <td>False</td>\n      <td>False</td>\n      <td>False</td>\n    </tr>\n    <tr>\n      <th>WY</th>\n      <td>False</td>\n      <td>False</td>\n      <td>False</td>\n      <td>False</td>\n      <td>True</td>\n    </tr>\n    <tr>\n      <th>OR</th>\n      <td>False</td>\n      <td>False</td>\n      <td>False</td>\n      <td>False</td>\n      <td>True</td>\n    </tr>\n    <tr>\n      <th>CO</th>\n      <td>False</td>\n      <td>False</td>\n      <td>False</td>\n      <td>False</td>\n      <td>False</td>\n    </tr>\n  </tbody>\n</table>\n</div>"
     },
     "metadata": {},
     "execution_count": 70
    }
   ],
   "source": [
    "# check for null value\n",
    "df.isnull()"
   ]
  },
  {
   "cell_type": "code",
   "execution_count": 71,
   "metadata": {},
   "outputs": [
    {
     "output_type": "execute_result",
     "data": {
      "text/plain": [
       "W    0\n",
       "X    0\n",
       "Y    0\n",
       "Z    0\n",
       "V    2\n",
       "dtype: int64"
      ]
     },
     "metadata": {},
     "execution_count": 71
    }
   ],
   "source": [
    "df.isnull().sum()"
   ]
  },
  {
   "cell_type": "code",
   "execution_count": 72,
   "metadata": {},
   "outputs": [
    {
     "output_type": "execute_result",
     "data": {
      "text/plain": [
       "2"
      ]
     },
     "metadata": {},
     "execution_count": 72
    }
   ],
   "source": [
    "df.isnull().sum().sum()"
   ]
  },
  {
   "cell_type": "code",
   "execution_count": 73,
   "metadata": {},
   "outputs": [
    {
     "output_type": "execute_result",
     "data": {
      "text/plain": [
       "CA    False\n",
       "NY    False\n",
       "WY     True\n",
       "OR     True\n",
       "CO    False\n",
       "dtype: bool"
      ]
     },
     "metadata": {},
     "execution_count": 73
    }
   ],
   "source": [
    "df.isnull().any(axis=1)"
   ]
  },
  {
   "cell_type": "code",
   "execution_count": 74,
   "metadata": {},
   "outputs": [
    {
     "output_type": "execute_result",
     "data": {
      "text/plain": [
       "           W         X         Y         Z   V\n",
       "WY  1.588733  0.933704 -0.754416  1.066589 NaN\n",
       "OR -0.343310  0.088166  0.663532  0.199944 NaN"
      ],
      "text/html": "<div>\n<style scoped>\n    .dataframe tbody tr th:only-of-type {\n        vertical-align: middle;\n    }\n\n    .dataframe tbody tr th {\n        vertical-align: top;\n    }\n\n    .dataframe thead th {\n        text-align: right;\n    }\n</style>\n<table border=\"1\" class=\"dataframe\">\n  <thead>\n    <tr style=\"text-align: right;\">\n      <th></th>\n      <th>W</th>\n      <th>X</th>\n      <th>Y</th>\n      <th>Z</th>\n      <th>V</th>\n    </tr>\n  </thead>\n  <tbody>\n    <tr>\n      <th>WY</th>\n      <td>1.588733</td>\n      <td>0.933704</td>\n      <td>-0.754416</td>\n      <td>1.066589</td>\n      <td>NaN</td>\n    </tr>\n    <tr>\n      <th>OR</th>\n      <td>-0.343310</td>\n      <td>0.088166</td>\n      <td>0.663532</td>\n      <td>0.199944</td>\n      <td>NaN</td>\n    </tr>\n  </tbody>\n</table>\n</div>"
     },
     "metadata": {},
     "execution_count": 74
    }
   ],
   "source": [
    "df[df.isnull().any(axis=1)]"
   ]
  },
  {
   "source": [
    "### Handle missing value\n",
    "* ignore\n",
    "* drop\n",
    "* fill in"
   ],
   "cell_type": "markdown",
   "metadata": {}
  },
  {
   "cell_type": "code",
   "execution_count": 75,
   "metadata": {},
   "outputs": [
    {
     "output_type": "execute_result",
     "data": {
      "text/plain": [
       "           W         X         Y         Z    V\n",
       "CA -0.533448  0.064446 -1.603483  0.926210  1.0\n",
       "NY -1.775300  0.893145  1.257461 -1.285469  2.0\n",
       "CO -1.878127  2.031488 -1.457064  0.241868  5.0"
      ],
      "text/html": "<div>\n<style scoped>\n    .dataframe tbody tr th:only-of-type {\n        vertical-align: middle;\n    }\n\n    .dataframe tbody tr th {\n        vertical-align: top;\n    }\n\n    .dataframe thead th {\n        text-align: right;\n    }\n</style>\n<table border=\"1\" class=\"dataframe\">\n  <thead>\n    <tr style=\"text-align: right;\">\n      <th></th>\n      <th>W</th>\n      <th>X</th>\n      <th>Y</th>\n      <th>Z</th>\n      <th>V</th>\n    </tr>\n  </thead>\n  <tbody>\n    <tr>\n      <th>CA</th>\n      <td>-0.533448</td>\n      <td>0.064446</td>\n      <td>-1.603483</td>\n      <td>0.926210</td>\n      <td>1.0</td>\n    </tr>\n    <tr>\n      <th>NY</th>\n      <td>-1.775300</td>\n      <td>0.893145</td>\n      <td>1.257461</td>\n      <td>-1.285469</td>\n      <td>2.0</td>\n    </tr>\n    <tr>\n      <th>CO</th>\n      <td>-1.878127</td>\n      <td>2.031488</td>\n      <td>-1.457064</td>\n      <td>0.241868</td>\n      <td>5.0</td>\n    </tr>\n  </tbody>\n</table>\n</div>"
     },
     "metadata": {},
     "execution_count": 75
    }
   ],
   "source": [
    "df.dropna()"
   ]
  },
  {
   "cell_type": "code",
   "execution_count": 76,
   "metadata": {},
   "outputs": [
    {
     "output_type": "execute_result",
     "data": {
      "text/plain": [
       "           W         X         Y         Z        V\n",
       "CA -0.533448  0.064446 -1.603483  0.926210      1.0\n",
       "NY -1.775300  0.893145  1.257461 -1.285469      2.0\n",
       "WY  1.588733  0.933704 -0.754416  1.066589  replace\n",
       "OR -0.343310  0.088166  0.663532  0.199944  replace\n",
       "CO -1.878127  2.031488 -1.457064  0.241868      5.0"
      ],
      "text/html": "<div>\n<style scoped>\n    .dataframe tbody tr th:only-of-type {\n        vertical-align: middle;\n    }\n\n    .dataframe tbody tr th {\n        vertical-align: top;\n    }\n\n    .dataframe thead th {\n        text-align: right;\n    }\n</style>\n<table border=\"1\" class=\"dataframe\">\n  <thead>\n    <tr style=\"text-align: right;\">\n      <th></th>\n      <th>W</th>\n      <th>X</th>\n      <th>Y</th>\n      <th>Z</th>\n      <th>V</th>\n    </tr>\n  </thead>\n  <tbody>\n    <tr>\n      <th>CA</th>\n      <td>-0.533448</td>\n      <td>0.064446</td>\n      <td>-1.603483</td>\n      <td>0.926210</td>\n      <td>1.0</td>\n    </tr>\n    <tr>\n      <th>NY</th>\n      <td>-1.775300</td>\n      <td>0.893145</td>\n      <td>1.257461</td>\n      <td>-1.285469</td>\n      <td>2.0</td>\n    </tr>\n    <tr>\n      <th>WY</th>\n      <td>1.588733</td>\n      <td>0.933704</td>\n      <td>-0.754416</td>\n      <td>1.066589</td>\n      <td>replace</td>\n    </tr>\n    <tr>\n      <th>OR</th>\n      <td>-0.343310</td>\n      <td>0.088166</td>\n      <td>0.663532</td>\n      <td>0.199944</td>\n      <td>replace</td>\n    </tr>\n    <tr>\n      <th>CO</th>\n      <td>-1.878127</td>\n      <td>2.031488</td>\n      <td>-1.457064</td>\n      <td>0.241868</td>\n      <td>5.0</td>\n    </tr>\n  </tbody>\n</table>\n</div>"
     },
     "metadata": {},
     "execution_count": 76
    }
   ],
   "source": [
    "df.fillna(value = 'replace')"
   ]
  },
  {
   "cell_type": "code",
   "execution_count": 77,
   "metadata": {},
   "outputs": [
    {
     "output_type": "execute_result",
     "data": {
      "text/plain": [
       "CA    1.000000\n",
       "NY    2.000000\n",
       "WY    2.666667\n",
       "OR    2.666667\n",
       "CO    5.000000\n",
       "Name: V, dtype: float64"
      ]
     },
     "metadata": {},
     "execution_count": 77
    }
   ],
   "source": [
    "df['V'].fillna(value = df['V'].mean())"
   ]
  },
  {
   "cell_type": "code",
   "execution_count": 78,
   "metadata": {},
   "outputs": [
    {
     "output_type": "execute_result",
     "data": {
      "text/plain": [
       "5.0"
      ]
     },
     "metadata": {},
     "execution_count": 78
    }
   ],
   "source": [
    "df['V'].max()"
   ]
  },
  {
   "cell_type": "code",
   "execution_count": 79,
   "metadata": {},
   "outputs": [
    {
     "output_type": "execute_result",
     "data": {
      "text/plain": [
       "4.010949208803867"
      ]
     },
     "metadata": {},
     "execution_count": 79
    }
   ],
   "source": [
    "df['X'].sum()"
   ]
  },
  {
   "source": [
    "## HW"
   ],
   "cell_type": "markdown",
   "metadata": {}
  },
  {
   "source": [
    "1. 利用下面的資料建立DataFrame <br/>\n",
    "list1 = [[90, 60, 33], [50, 70, 75], [70, 90, 88], [80, 50, 60]] <br/>\n",
    "columns = ['Math', 'English', 'History'] <br/>\n",
    "index=['Simon','Allen','Jimmy','Peter']"
   ],
   "cell_type": "markdown",
   "metadata": {}
  },
  {
   "cell_type": "code",
   "execution_count": 34,
   "metadata": {},
   "outputs": [
    {
     "output_type": "execute_result",
     "data": {
      "text/plain": [
       "       Math  English  History\n",
       "Simon    90       60       33\n",
       "Allen    50       70       75\n",
       "Jimmy    70       90       88\n",
       "Peter    80       50       60"
      ],
      "text/html": "<div>\n<style scoped>\n    .dataframe tbody tr th:only-of-type {\n        vertical-align: middle;\n    }\n\n    .dataframe tbody tr th {\n        vertical-align: top;\n    }\n\n    .dataframe thead th {\n        text-align: right;\n    }\n</style>\n<table border=\"1\" class=\"dataframe\">\n  <thead>\n    <tr style=\"text-align: right;\">\n      <th></th>\n      <th>Math</th>\n      <th>English</th>\n      <th>History</th>\n    </tr>\n  </thead>\n  <tbody>\n    <tr>\n      <th>Simon</th>\n      <td>90</td>\n      <td>60</td>\n      <td>33</td>\n    </tr>\n    <tr>\n      <th>Allen</th>\n      <td>50</td>\n      <td>70</td>\n      <td>75</td>\n    </tr>\n    <tr>\n      <th>Jimmy</th>\n      <td>70</td>\n      <td>90</td>\n      <td>88</td>\n    </tr>\n    <tr>\n      <th>Peter</th>\n      <td>80</td>\n      <td>50</td>\n      <td>60</td>\n    </tr>\n  </tbody>\n</table>\n</div>"
     },
     "metadata": {},
     "execution_count": 34
    }
   ],
   "source": [
    "import pandas as pd\n",
    "\n",
    "list1 = [[90, 60, 33], [50, 70, 75], [70, 90, 88], [80, 50, 60]]\n",
    "columns = ['Math', 'English', 'History']\n",
    "index=['Simon','Allen','Jimmy','Peter']\n",
    "\n",
    "grade = pd.DataFrame(data=list1,index=index,columns=columns)\n",
    "grade"
   ]
  },
  {
   "cell_type": "code",
   "execution_count": 43,
   "metadata": {},
   "outputs": [
    {
     "output_type": "execute_result",
     "data": {
      "text/plain": [
       "       Math  English  History\n",
       "Jimmy    70       90       88"
      ],
      "text/html": "<div>\n<style scoped>\n    .dataframe tbody tr th:only-of-type {\n        vertical-align: middle;\n    }\n\n    .dataframe tbody tr th {\n        vertical-align: top;\n    }\n\n    .dataframe thead th {\n        text-align: right;\n    }\n</style>\n<table border=\"1\" class=\"dataframe\">\n  <thead>\n    <tr style=\"text-align: right;\">\n      <th></th>\n      <th>Math</th>\n      <th>English</th>\n      <th>History</th>\n    </tr>\n  </thead>\n  <tbody>\n    <tr>\n      <th>Jimmy</th>\n      <td>70</td>\n      <td>90</td>\n      <td>88</td>\n    </tr>\n  </tbody>\n</table>\n</div>"
     },
     "metadata": {},
     "execution_count": 43
    }
   ],
   "source": [
    "#取出數學>60 且英文>85 的資料, 並以DataFrame的方式呈現\n",
    "m = grade['Math']>60\n",
    "e = grade['English']>85\n",
    "\n",
    "grade[(m & e)]"
   ]
  },
  {
   "cell_type": "code",
   "execution_count": 2,
   "metadata": {},
   "outputs": [
    {
     "output_type": "execute_result",
     "data": {
      "text/plain": [
       "Math       72.5\n",
       "English    67.5\n",
       "History    64.0\n",
       "dtype: float64"
      ]
     },
     "metadata": {},
     "execution_count": 2
    }
   ],
   "source": [
    "#計算各科的平均數\n",
    "grade.mean()"
   ]
  },
  {
   "cell_type": "code",
   "execution_count": 15,
   "metadata": {},
   "outputs": [
    {
     "output_type": "execute_result",
     "data": {
      "text/plain": [
       "       Math  English  History  Gender\n",
       "Simon   4.0      2.0      1.0     3.0\n",
       "Allen   1.0      3.0      3.0     1.0\n",
       "Jimmy   2.0      4.0      4.0     3.0\n",
       "Peter   3.0      1.0      2.0     3.0"
      ],
      "text/html": "<div>\n<style scoped>\n    .dataframe tbody tr th:only-of-type {\n        vertical-align: middle;\n    }\n\n    .dataframe tbody tr th {\n        vertical-align: top;\n    }\n\n    .dataframe thead th {\n        text-align: right;\n    }\n</style>\n<table border=\"1\" class=\"dataframe\">\n  <thead>\n    <tr style=\"text-align: right;\">\n      <th></th>\n      <th>Math</th>\n      <th>English</th>\n      <th>History</th>\n      <th>Gender</th>\n    </tr>\n  </thead>\n  <tbody>\n    <tr>\n      <th>Simon</th>\n      <td>4.0</td>\n      <td>2.0</td>\n      <td>1.0</td>\n      <td>3.0</td>\n    </tr>\n    <tr>\n      <th>Allen</th>\n      <td>1.0</td>\n      <td>3.0</td>\n      <td>3.0</td>\n      <td>1.0</td>\n    </tr>\n    <tr>\n      <th>Jimmy</th>\n      <td>2.0</td>\n      <td>4.0</td>\n      <td>4.0</td>\n      <td>3.0</td>\n    </tr>\n    <tr>\n      <th>Peter</th>\n      <td>3.0</td>\n      <td>1.0</td>\n      <td>2.0</td>\n      <td>3.0</td>\n    </tr>\n  </tbody>\n</table>\n</div>"
     },
     "metadata": {},
     "execution_count": 15
    }
   ],
   "source": [
    "#依各科分數來個別排名\n",
    "grade.rank()"
   ]
  },
  {
   "cell_type": "code",
   "execution_count": 12,
   "metadata": {},
   "outputs": [
    {
     "output_type": "execute_result",
     "data": {
      "text/plain": [
       "       Math  English  History Gender\n",
       "Simon    90       60       33      M\n",
       "Allen    50       70       75      F\n",
       "Jimmy    70       90       88      M\n",
       "Peter    80       50       60      M"
      ],
      "text/html": "<div>\n<style scoped>\n    .dataframe tbody tr th:only-of-type {\n        vertical-align: middle;\n    }\n\n    .dataframe tbody tr th {\n        vertical-align: top;\n    }\n\n    .dataframe thead th {\n        text-align: right;\n    }\n</style>\n<table border=\"1\" class=\"dataframe\">\n  <thead>\n    <tr style=\"text-align: right;\">\n      <th></th>\n      <th>Math</th>\n      <th>English</th>\n      <th>History</th>\n      <th>Gender</th>\n    </tr>\n  </thead>\n  <tbody>\n    <tr>\n      <th>Simon</th>\n      <td>90</td>\n      <td>60</td>\n      <td>33</td>\n      <td>M</td>\n    </tr>\n    <tr>\n      <th>Allen</th>\n      <td>50</td>\n      <td>70</td>\n      <td>75</td>\n      <td>F</td>\n    </tr>\n    <tr>\n      <th>Jimmy</th>\n      <td>70</td>\n      <td>90</td>\n      <td>88</td>\n      <td>M</td>\n    </tr>\n    <tr>\n      <th>Peter</th>\n      <td>80</td>\n      <td>50</td>\n      <td>60</td>\n      <td>M</td>\n    </tr>\n  </tbody>\n</table>\n</div>"
     },
     "metadata": {},
     "execution_count": 12
    }
   ],
   "source": [
    "#新增性別資料 Gender = 'M'.'F','M','M'\n",
    "\n",
    "grade['Gender'] = ['M','F','M','M']\n",
    "grade"
   ]
  },
  {
   "cell_type": "code",
   "execution_count": 13,
   "metadata": {},
   "outputs": [
    {
     "output_type": "execute_result",
     "data": {
      "text/plain": [
       "M    3\n",
       "F    1\n",
       "Name: Gender, dtype: int64"
      ]
     },
     "metadata": {},
     "execution_count": 13
    }
   ],
   "source": [
    "#性別的類別各出現幾次？\n",
    "\n",
    "grade['Gender'].value_counts()"
   ]
  },
  {
   "cell_type": "code",
   "execution_count": 44,
   "metadata": {},
   "outputs": [
    {
     "output_type": "execute_result",
     "data": {
      "text/plain": [
       "       Math  English  History  Average  Rank\n",
       "Jimmy    70       90       88     83.0   1.0\n",
       "Allen    50       70       75     65.0   2.0\n",
       "Peter    80       50       60     63.0   3.0\n",
       "Simon    90       60       33     61.0   4.0"
      ],
      "text/html": "<div>\n<style scoped>\n    .dataframe tbody tr th:only-of-type {\n        vertical-align: middle;\n    }\n\n    .dataframe tbody tr th {\n        vertical-align: top;\n    }\n\n    .dataframe thead th {\n        text-align: right;\n    }\n</style>\n<table border=\"1\" class=\"dataframe\">\n  <thead>\n    <tr style=\"text-align: right;\">\n      <th></th>\n      <th>Math</th>\n      <th>English</th>\n      <th>History</th>\n      <th>Average</th>\n      <th>Rank</th>\n    </tr>\n  </thead>\n  <tbody>\n    <tr>\n      <th>Jimmy</th>\n      <td>70</td>\n      <td>90</td>\n      <td>88</td>\n      <td>83.0</td>\n      <td>1.0</td>\n    </tr>\n    <tr>\n      <th>Allen</th>\n      <td>50</td>\n      <td>70</td>\n      <td>75</td>\n      <td>65.0</td>\n      <td>2.0</td>\n    </tr>\n    <tr>\n      <th>Peter</th>\n      <td>80</td>\n      <td>50</td>\n      <td>60</td>\n      <td>63.0</td>\n      <td>3.0</td>\n    </tr>\n    <tr>\n      <th>Simon</th>\n      <td>90</td>\n      <td>60</td>\n      <td>33</td>\n      <td>61.0</td>\n      <td>4.0</td>\n    </tr>\n  </tbody>\n</table>\n</div>"
     },
     "metadata": {},
     "execution_count": 44
    }
   ],
   "source": [
    "#算出每位同學的平均分數，再用平均分數排名\n",
    "\n",
    "grade['Average'] = grade.mean(axis=1).round()\n",
    "grade['Rank'] = grade.Average.rank(method='first',ascending=False)\n",
    "grade.sort_values(by='Rank')"
   ]
  },
  {
   "cell_type": "code",
   "execution_count": null,
   "metadata": {},
   "outputs": [],
   "source": []
  }
 ]
}