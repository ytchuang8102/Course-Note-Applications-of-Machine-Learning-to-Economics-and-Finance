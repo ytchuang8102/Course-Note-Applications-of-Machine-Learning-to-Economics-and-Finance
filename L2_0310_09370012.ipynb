{
 "metadata": {
  "language_info": {
   "codemirror_mode": {
    "name": "ipython",
    "version": 3
   },
   "file_extension": ".py",
   "mimetype": "text/x-python",
   "name": "python",
   "nbconvert_exporter": "python",
   "pygments_lexer": "ipython3",
   "version": "3.8.2-final"
  },
  "orig_nbformat": 2,
  "kernelspec": {
   "name": "python3",
   "display_name": "Python 3.8.2 64-bit",
   "metadata": {
    "interpreter": {
     "hash": "5edc29c2ed010d6458d71a83433b383a96a8cbd3efe8531bc90c4b8a5b8bcec9"
    }
   }
  }
 },
 "nbformat": 4,
 "nbformat_minor": 2,
 "cells": [
  {
   "source": [
    "# 3/10上課筆記"
   ],
   "cell_type": "markdown",
   "metadata": {}
  },
  {
   "source": [
    "## Control Statement 控制敘述\n",
    "執行程式時, 經常需要進行判斷或選擇, 分成兩種結構 <br/>\n",
    "1. decision structure 決策結構\n",
    "2. loop structure 迴圈結構"
   ],
   "cell_type": "markdown",
   "metadata": {}
  },
  {
   "source": [
    "### if Statements 條件敘述\n",
    "`if condition:\n",
    "    statement(s)`\n",
    "    \n",
    "### if, elif, else Statements 條件敘述\n",
    "`if condition1:\n",
    "    statement1\n",
    " elif condition2:\n",
    "    statement2\n",
    " elif condition3:\n",
    "    statement3\n",
    " ...\n",
    " else:\n",
    "    statement(n+1)`"
   ],
   "cell_type": "markdown",
   "metadata": {}
  },
  {
   "cell_type": "code",
   "execution_count": 1,
   "metadata": {},
   "outputs": [
    {
     "output_type": "stream",
     "name": "stdout",
     "text": [
      "C\n"
     ]
    }
   ],
   "source": [
    "score = eval(input(\"請輸入總成績....\")) #eval:將字符串str當成有效的表達式來求值並返回計算結果\n",
    "if score >= 90:\n",
    "    print('A')\n",
    "elif score < 90 and score >= 80:\n",
    "    print('B')\n",
    "elif score < 80 and score >= 70:\n",
    "    print('C')\n",
    "elif score < 70 and score <= 60:\n",
    "    print('D')\n",
    "else:\n",
    "    print('E')"
   ]
  },
  {
   "source": [
    "### for 迴圈敘述\n",
    "`for var in range(initial value, end value, step value):\n",
    "    statement1\n",
    " [else:\n",
    "    statement2]`"
   ],
   "cell_type": "markdown",
   "metadata": {}
  },
  {
   "cell_type": "code",
   "execution_count": 2,
   "metadata": {},
   "outputs": [
    {
     "output_type": "stream",
     "name": "stdout",
     "text": [
      "0\n1\n2\n3\n4\n"
     ]
    }
   ],
   "source": [
    "for i in range(5):\n",
    "    print(i)"
   ]
  },
  {
   "cell_type": "code",
   "execution_count": 3,
   "metadata": {},
   "outputs": [
    {
     "output_type": "stream",
     "name": "stdout",
     "text": [
      "1\n2\n3\n4\n"
     ]
    }
   ],
   "source": [
    "for i in range(1,5):\n",
    "    print(i)"
   ]
  },
  {
   "cell_type": "code",
   "execution_count": 7,
   "metadata": {},
   "outputs": [
    {
     "output_type": "stream",
     "name": "stdout",
     "text": [
      "7\n8\n9\n"
     ]
    }
   ],
   "source": [
    "seq = [7,8,9]\n",
    "for k in seq:\n",
    "    print(k)"
   ]
  },
  {
   "cell_type": "code",
   "execution_count": 6,
   "metadata": {},
   "outputs": [
    {
     "output_type": "stream",
     "name": "stdout",
     "text": [
      "九九乘法表......\n\n\n1...\n\n1*1=1\n1*2=2\n1*3=3\n1*4=4\n1*5=5\n1*6=6\n1*7=7\n1*8=8\n1*9=9\n\n\n2...\n\n2*1=2\n2*2=4\n2*3=6\n2*4=8\n2*5=10\n2*6=12\n2*7=14\n2*8=16\n2*9=18\n\n\n3...\n\n3*1=3\n3*2=6\n3*3=9\n3*4=12\n3*5=15\n3*6=18\n3*7=21\n3*8=24\n3*9=27\n\n\n4...\n\n4*1=4\n4*2=8\n4*3=12\n4*4=16\n4*5=20\n4*6=24\n4*7=28\n4*8=32\n4*9=36\n\n\n5...\n\n5*1=5\n5*2=10\n5*3=15\n5*4=20\n5*5=25\n5*6=30\n5*7=35\n5*8=40\n5*9=45\n\n\n6...\n\n6*1=6\n6*2=12\n6*3=18\n6*4=24\n6*5=30\n6*6=36\n6*7=42\n6*8=48\n6*9=54\n\n\n7...\n\n7*1=7\n7*2=14\n7*3=21\n7*4=28\n7*5=35\n7*6=42\n7*7=49\n7*8=56\n7*9=63\n\n\n8...\n\n8*1=8\n8*2=16\n8*3=24\n8*4=32\n8*5=40\n8*6=48\n8*7=56\n8*8=64\n8*9=72\n\n\n9...\n\n9*1=9\n9*2=18\n9*3=27\n9*4=36\n9*5=45\n9*6=54\n9*7=63\n9*8=72\n9*9=81\n\n 執行完畢...\n\n"
     ]
    }
   ],
   "source": [
    "print('九九乘法表......')\n",
    "for i in range(1,10):\n",
    "    print ('\\n\\n'+str(i)+'...\\n')\n",
    "    for j in range(1,10):\n",
    "        num=i*j\n",
    "        print(str(i)+'*'+str(j)+'='+str(num))\n",
    "print('\\n 執行完畢...\\n')"
   ]
  },
  {
   "source": [
    "Note:\n",
    "a += b 就相当于 a = a + b"
   ],
   "cell_type": "markdown",
   "metadata": {}
  },
  {
   "source": [
    "### while 迴圈敘述\n",
    "`while condition:\n",
    "    statement1\n",
    " [else:\n",
    "    statement2]`"
   ],
   "cell_type": "markdown",
   "metadata": {}
  },
  {
   "cell_type": "code",
   "execution_count": 8,
   "metadata": {},
   "outputs": [
    {
     "output_type": "stream",
     "name": "stdout",
     "text": [
      "i is: 1\ni is: 2\ni is: 3\ni is: 4\n"
     ]
    }
   ],
   "source": [
    "i = 1\n",
    "while (i < 5):\n",
    "    print('i is: {}'.format(i))\n",
    "    i += 1  "
   ]
  },
  {
   "cell_type": "code",
   "execution_count": 9,
   "metadata": {},
   "outputs": [
    {
     "output_type": "stream",
     "name": "stdout",
     "text": [
      "i is: 1\ni is: 2\ni is: 3\ni is: 4\ni is: 5\ni is: 6\ni is: 7\ni is: 8\ni is: 9\ni is: 11\ni is: 12\ni is: 13\ni is: 14\n"
     ]
    }
   ],
   "source": [
    "i = 0\n",
    "while True:\n",
    "    i += 1  \n",
    "    if i == 10: \n",
    "        continue         #不判斷而是回到迴圈, 執行下一個數字\n",
    "    elif i == 15:\n",
    "        break            #強制停止迴圈\n",
    "    print('i is: {}'.format(i))"
   ]
  },
  {
   "source": [
    "### functions 使用者函數\n",
    "`def functionName (parameter1, parameter2, parameter3...):\n",
    "    statements\n",
    "    [return / return value]`\n",
    "\n",
    "[Note]:\n",
    "1. def列的最後要加`:`\n",
    "2. 執行內容要縮排, 常用四個空格\n",
    "3. 函式被呼叫才會執行，\n",
    "4. 函式可以沒有參數或多個參數。當函式有多個參數時，參數有順序上的關係，參數的個數及順序均不能弄錯, 如果沒有依照定義函數時的參數順序填入, 填入參數時必須指明參數名稱。有預設值的參數要放在最後, 呼叫時有預設值的參數不一定要填"
   ],
   "cell_type": "markdown",
   "metadata": {}
  },
  {
   "cell_type": "code",
   "execution_count": 10,
   "metadata": {},
   "outputs": [
    {
     "output_type": "execute_result",
     "data": {
      "text/plain": [
       "4"
      ]
     },
     "metadata": {},
     "execution_count": 10
    }
   ],
   "source": [
    "# return, 函數執行完後回傳內容\n",
    "def square(x):\n",
    "    return x**2\n",
    "outcome = square(2)\n",
    "outcome"
   ]
  },
  {
   "source": [
    "# HW"
   ],
   "cell_type": "markdown",
   "metadata": {}
  },
  {
   "source": [
    "1. You are driving a little too fast, and a police officer stops you. <br/>\n",
    "   Write a function to return one of 3 possible results: <br/> \n",
    "   \"No ticket\", \"Small ticket\", or \"Big Ticket\".\n",
    "  \n",
    "   - If your speed is 60 or less, the result is \"No Ticket\". \n",
    "   - If speed is between 61 and 80 inclusive, the result is \"Small Ticket\". \n",
    "   - If speed is 81 or more, the result is \"Big Ticket\". \n",
    "\n",
    "   Unless it is your birthday (encoded as a boolean value in the parameters of the function) -- on your birthday, your speed can be 5 higher in all cases."
   ],
   "cell_type": "markdown",
   "metadata": {}
  },
  {
   "cell_type": "code",
   "execution_count": 108,
   "metadata": {},
   "outputs": [
    {
     "output_type": "execute_result",
     "data": {
      "text/plain": [
       "'Small Ticket'"
      ]
     },
     "metadata": {},
     "execution_count": 108
    }
   ],
   "source": [
    "def Speed(q,score):\n",
    "    if q == 'True' :\n",
    "        if score >= 86:\n",
    "            return 'Big Ticket'\n",
    "        elif score > 65 and score < 86:\n",
    "            return 'Small Ticket'\n",
    "        else:\n",
    "            return 'No Ticket'\n",
    "    else:\n",
    "        if score >= 81:\n",
    "            return 'Big Ticket'\n",
    "        elif score > 60 and score < 81:\n",
    "            return 'Small Ticket'\n",
    "        else:\n",
    "            return 'No Ticket'\n",
    "\n",
    "q = input(\"請問今天是你的生日嗎? (回答True/False)\")\n",
    "score = int(input(\"你的速度是?\"))\n",
    "\n",
    "x = Speed(q,score)\n",
    "x"
   ]
  },
  {
   "source": [
    "2. 寫一個函數isPrime, 參數n, 判n是不是質數, 如果是回傳True, 不是回傳False"
   ],
   "cell_type": "markdown",
   "metadata": {}
  },
  {
   "cell_type": "code",
   "execution_count": 110,
   "metadata": {},
   "outputs": [
    {
     "output_type": "stream",
     "name": "stdout",
     "text": [
      "True（是質數）\n"
     ]
    }
   ],
   "source": [
    "def isPrime(n):\n",
    "    if n > 1:\n",
    "        for i in range(2, n//2+1):\n",
    "            if (n % i) == 0:\n",
    "                print(\"False（不是質數）\")\n",
    "                break\n",
    "        else:\n",
    "                print(\"True（是質數）\")\n",
    "\n",
    "\n",
    "l = int(input(\"請輸入一個正整數，以判斷是不是質數\"))\n",
    "k = isPrime(l)\n",
    "k"
   ]
  },
  {
   "source": [
    "3. 要求使用者輸入密碼, 並將使用者輸入的密碼儲存於password識別字中, 判斷密碼是否等於<1234> <br/>\n",
    "   - 如果密碼是<1234>, 就顯示\"你輸入的密碼正確\"\n",
    "   - 如果密碼不是<1234>, 就顯示\"你輸入的密碼錯誤\""
   ],
   "cell_type": "markdown",
   "metadata": {}
  },
  {
   "cell_type": "code",
   "execution_count": 66,
   "metadata": {},
   "outputs": [
    {
     "output_type": "stream",
     "name": "stdout",
     "text": [
      "你輸入的密碼正確\n"
     ]
    }
   ],
   "source": [
    "password = int(input(\"請輸入密碼\"))\n",
    "\n",
    "if password == 1234:\n",
    "    print(\"你輸入的密碼正確\")\n",
    "else:\n",
    "    print(\"你輸入的密碼錯誤\")"
   ]
  }
 ]
}